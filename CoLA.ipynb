{
  "cells": [
    {
      "cell_type": "code",
      "execution_count": null,
      "metadata": {
        "id": "fNxrnxOQ9o06"
      },
      "outputs": [],
      "source": [
        "!pip install lazypredict transformers"
      ]
    },
    {
      "cell_type": "code",
      "execution_count": null,
      "metadata": {
        "colab": {
          "base_uri": "https://localhost:8080/"
        },
        "id": "wWcwmXID2aJz",
        "outputId": "44a8c840-76f0-4215-e84a-cbfdc0eee174"
      },
      "outputs": [
        {
          "output_type": "stream",
          "name": "stdout",
          "text": [
            "Downloading and extracting CoLA...\n",
            "\tCompleted!\n",
            "Downloading and extracting SST...\n",
            "\tCompleted!\n",
            "Downloading and extracting RTE...\n",
            "\tCompleted!\n"
          ]
        }
      ],
      "source": [
        "import os\n",
        "import sys\n",
        "import shutil\n",
        "import tempfile\n",
        "import urllib.request\n",
        "import zipfile\n",
        "from sklearn.metrics import log_loss, f1_score, roc_curve, auc\n",
        "from sklearn.metrics import accuracy_score, classification_report, confusion_matrix\n",
        "\n",
        "TASKS = [\"CoLA\", \"SST\", \"RTE\"]\n",
        "TASK2PATH = {\"CoLA\":'https://dl.fbaipublicfiles.com/glue/data/CoLA.zip',\n",
        "             \"SST\":'https://dl.fbaipublicfiles.com/glue/data/SST-2.zip',\n",
        "             \"RTE\":'https://dl.fbaipublicfiles.com/glue/data/RTE.zip'}\n",
        "\n",
        "def download_and_extract(task, data_dir):\n",
        "    print(\"Downloading and extracting %s...\" % task)\n",
        "    data_file = \"%s.zip\" % task\n",
        "    urllib.request.urlretrieve(TASK2PATH[task], data_file)\n",
        "    with zipfile.ZipFile(data_file) as zip_ref:\n",
        "        zip_ref.extractall(data_dir)\n",
        "    os.remove(data_file)\n",
        "    print(\"\\tCompleted!\")\n",
        "    \n",
        "\n",
        "def get_tasks(task_names):\n",
        "    if \"all\" in task_names:\n",
        "        tasks = TASKS\n",
        "    else:\n",
        "        tasks = []\n",
        "        for task_name in task_names:\n",
        "            assert task_name in TASKS, \"Task %s not found!\" % task_name\n",
        "            tasks.append(task_name)\n",
        "    return tasks\n",
        "\n",
        "def main():\n",
        "    tasks = get_tasks('all')\n",
        "\n",
        "    for task in tasks:\n",
        "      download_and_extract(task, '/content/data')\n",
        "\n",
        "main()"
      ]
    },
    {
      "cell_type": "code",
      "execution_count": null,
      "metadata": {
        "id": "9OcPT6tSjmYr"
      },
      "outputs": [],
      "source": [
        "def eval(y_true, y_pred):\n",
        "    print('Classification Report:')\n",
        "    print(classification_report(y_true, y_pred, labels=[1,0], digits=4))\n",
        "    \n",
        "    cm = confusion_matrix(y_true, y_pred, labels=[1,0])\n",
        "    ax= plt.subplot()\n",
        "    sns.heatmap(cm, annot=True, ax = ax, cmap='Blues', fmt=\"d\")\n",
        "\n",
        "    ax.set_title('Confusion Matrix')\n",
        "\n",
        "    ax.set_xlabel('Predicted Labels')\n",
        "    ax.set_ylabel('True Labels')\n",
        "\n",
        "    ax.xaxis.set_ticklabels(['FAKE', 'REAL'])\n",
        "    ax.yaxis.set_ticklabels(['FAKE', 'REAL'])"
      ]
    },
    {
      "cell_type": "markdown",
      "metadata": {
        "id": "7up7XcRuGomB"
      },
      "source": [
        "# **No balancing techniques**\n",
        "\n",
        "Here we explore different options for classifiers for CoLA dataset\n",
        "\n",
        "This part is dedicated to CoLA classifier withouy balancing dataset."
      ]
    },
    {
      "cell_type": "code",
      "execution_count": null,
      "metadata": {
        "id": "n2nZ1SdZ50E_"
      },
      "outputs": [],
      "source": [
        "## CoLA\n",
        "import pandas as pd\n",
        "\n",
        "data_pth = '/content/data'\n",
        "TASKS = [\"CoLA\", \"SST-2\", \"RTE\"]\n",
        "\n",
        "colnames_train = ['id', 'index', 'field_1', 'sentence']\n",
        "colnames_test = ['index', 'sentence']\n",
        "train_data = pd.read_table(os.path.join(data_pth, TASKS[0], 'train.tsv'), names=colnames_train, header=None)\n",
        "test_data = pd.read_table(os.path.join(data_pth, TASKS[0], 'dev.tsv'), names=colnames_train, header=None)"
      ]
    },
    {
      "cell_type": "code",
      "execution_count": null,
      "metadata": {
        "colab": {
          "base_uri": "https://localhost:8080/",
          "height": 424
        },
        "id": "mDg2MGZ564b8",
        "outputId": "3d56bce8-b847-46bd-f102-66d211a99ffc"
      },
      "outputs": [
        {
          "output_type": "execute_result",
          "data": {
            "text/plain": [
              "        id  index field_1                                           sentence\n",
              "0     gj04      1     NaN    The sailors rode the breeze clear of the rocks.\n",
              "1     gj04      1     NaN  The weights made the rope stretch over the pul...\n",
              "2     gj04      1     NaN         The mechanical doll wriggled itself loose.\n",
              "3     cj99      1     NaN        If you had eaten more, you would want less.\n",
              "4     cj99      0       *           As you eat the most, you want the least.\n",
              "...    ...    ...     ...                                                ...\n",
              "1038  w_80      1     NaN                         John considers Bill silly.\n",
              "1039  w_80      1     NaN                   John considers Bill to be silly.\n",
              "1040  w_80      0       *        John bought a dog for himself to play with.\n",
              "1041  w_80      1     NaN        John arranged for himself to get the prize.\n",
              "1042  w_80      1     NaN                 John talked to Bill about himself.\n",
              "\n",
              "[1043 rows x 4 columns]"
            ],
            "text/html": [
              "\n",
              "  <div id=\"df-c96e2cb2-8f19-408e-890b-95a6aedd2704\">\n",
              "    <div class=\"colab-df-container\">\n",
              "      <div>\n",
              "<style scoped>\n",
              "    .dataframe tbody tr th:only-of-type {\n",
              "        vertical-align: middle;\n",
              "    }\n",
              "\n",
              "    .dataframe tbody tr th {\n",
              "        vertical-align: top;\n",
              "    }\n",
              "\n",
              "    .dataframe thead th {\n",
              "        text-align: right;\n",
              "    }\n",
              "</style>\n",
              "<table border=\"1\" class=\"dataframe\">\n",
              "  <thead>\n",
              "    <tr style=\"text-align: right;\">\n",
              "      <th></th>\n",
              "      <th>id</th>\n",
              "      <th>index</th>\n",
              "      <th>field_1</th>\n",
              "      <th>sentence</th>\n",
              "    </tr>\n",
              "  </thead>\n",
              "  <tbody>\n",
              "    <tr>\n",
              "      <th>0</th>\n",
              "      <td>gj04</td>\n",
              "      <td>1</td>\n",
              "      <td>NaN</td>\n",
              "      <td>The sailors rode the breeze clear of the rocks.</td>\n",
              "    </tr>\n",
              "    <tr>\n",
              "      <th>1</th>\n",
              "      <td>gj04</td>\n",
              "      <td>1</td>\n",
              "      <td>NaN</td>\n",
              "      <td>The weights made the rope stretch over the pul...</td>\n",
              "    </tr>\n",
              "    <tr>\n",
              "      <th>2</th>\n",
              "      <td>gj04</td>\n",
              "      <td>1</td>\n",
              "      <td>NaN</td>\n",
              "      <td>The mechanical doll wriggled itself loose.</td>\n",
              "    </tr>\n",
              "    <tr>\n",
              "      <th>3</th>\n",
              "      <td>cj99</td>\n",
              "      <td>1</td>\n",
              "      <td>NaN</td>\n",
              "      <td>If you had eaten more, you would want less.</td>\n",
              "    </tr>\n",
              "    <tr>\n",
              "      <th>4</th>\n",
              "      <td>cj99</td>\n",
              "      <td>0</td>\n",
              "      <td>*</td>\n",
              "      <td>As you eat the most, you want the least.</td>\n",
              "    </tr>\n",
              "    <tr>\n",
              "      <th>...</th>\n",
              "      <td>...</td>\n",
              "      <td>...</td>\n",
              "      <td>...</td>\n",
              "      <td>...</td>\n",
              "    </tr>\n",
              "    <tr>\n",
              "      <th>1038</th>\n",
              "      <td>w_80</td>\n",
              "      <td>1</td>\n",
              "      <td>NaN</td>\n",
              "      <td>John considers Bill silly.</td>\n",
              "    </tr>\n",
              "    <tr>\n",
              "      <th>1039</th>\n",
              "      <td>w_80</td>\n",
              "      <td>1</td>\n",
              "      <td>NaN</td>\n",
              "      <td>John considers Bill to be silly.</td>\n",
              "    </tr>\n",
              "    <tr>\n",
              "      <th>1040</th>\n",
              "      <td>w_80</td>\n",
              "      <td>0</td>\n",
              "      <td>*</td>\n",
              "      <td>John bought a dog for himself to play with.</td>\n",
              "    </tr>\n",
              "    <tr>\n",
              "      <th>1041</th>\n",
              "      <td>w_80</td>\n",
              "      <td>1</td>\n",
              "      <td>NaN</td>\n",
              "      <td>John arranged for himself to get the prize.</td>\n",
              "    </tr>\n",
              "    <tr>\n",
              "      <th>1042</th>\n",
              "      <td>w_80</td>\n",
              "      <td>1</td>\n",
              "      <td>NaN</td>\n",
              "      <td>John talked to Bill about himself.</td>\n",
              "    </tr>\n",
              "  </tbody>\n",
              "</table>\n",
              "<p>1043 rows × 4 columns</p>\n",
              "</div>\n",
              "      <button class=\"colab-df-convert\" onclick=\"convertToInteractive('df-c96e2cb2-8f19-408e-890b-95a6aedd2704')\"\n",
              "              title=\"Convert this dataframe to an interactive table.\"\n",
              "              style=\"display:none;\">\n",
              "        \n",
              "  <svg xmlns=\"http://www.w3.org/2000/svg\" height=\"24px\"viewBox=\"0 0 24 24\"\n",
              "       width=\"24px\">\n",
              "    <path d=\"M0 0h24v24H0V0z\" fill=\"none\"/>\n",
              "    <path d=\"M18.56 5.44l.94 2.06.94-2.06 2.06-.94-2.06-.94-.94-2.06-.94 2.06-2.06.94zm-11 1L8.5 8.5l.94-2.06 2.06-.94-2.06-.94L8.5 2.5l-.94 2.06-2.06.94zm10 10l.94 2.06.94-2.06 2.06-.94-2.06-.94-.94-2.06-.94 2.06-2.06.94z\"/><path d=\"M17.41 7.96l-1.37-1.37c-.4-.4-.92-.59-1.43-.59-.52 0-1.04.2-1.43.59L10.3 9.45l-7.72 7.72c-.78.78-.78 2.05 0 2.83L4 21.41c.39.39.9.59 1.41.59.51 0 1.02-.2 1.41-.59l7.78-7.78 2.81-2.81c.8-.78.8-2.07 0-2.86zM5.41 20L4 18.59l7.72-7.72 1.47 1.35L5.41 20z\"/>\n",
              "  </svg>\n",
              "      </button>\n",
              "      \n",
              "  <style>\n",
              "    .colab-df-container {\n",
              "      display:flex;\n",
              "      flex-wrap:wrap;\n",
              "      gap: 12px;\n",
              "    }\n",
              "\n",
              "    .colab-df-convert {\n",
              "      background-color: #E8F0FE;\n",
              "      border: none;\n",
              "      border-radius: 50%;\n",
              "      cursor: pointer;\n",
              "      display: none;\n",
              "      fill: #1967D2;\n",
              "      height: 32px;\n",
              "      padding: 0 0 0 0;\n",
              "      width: 32px;\n",
              "    }\n",
              "\n",
              "    .colab-df-convert:hover {\n",
              "      background-color: #E2EBFA;\n",
              "      box-shadow: 0px 1px 2px rgba(60, 64, 67, 0.3), 0px 1px 3px 1px rgba(60, 64, 67, 0.15);\n",
              "      fill: #174EA6;\n",
              "    }\n",
              "\n",
              "    [theme=dark] .colab-df-convert {\n",
              "      background-color: #3B4455;\n",
              "      fill: #D2E3FC;\n",
              "    }\n",
              "\n",
              "    [theme=dark] .colab-df-convert:hover {\n",
              "      background-color: #434B5C;\n",
              "      box-shadow: 0px 1px 3px 1px rgba(0, 0, 0, 0.15);\n",
              "      filter: drop-shadow(0px 1px 2px rgba(0, 0, 0, 0.3));\n",
              "      fill: #FFFFFF;\n",
              "    }\n",
              "  </style>\n",
              "\n",
              "      <script>\n",
              "        const buttonEl =\n",
              "          document.querySelector('#df-c96e2cb2-8f19-408e-890b-95a6aedd2704 button.colab-df-convert');\n",
              "        buttonEl.style.display =\n",
              "          google.colab.kernel.accessAllowed ? 'block' : 'none';\n",
              "\n",
              "        async function convertToInteractive(key) {\n",
              "          const element = document.querySelector('#df-c96e2cb2-8f19-408e-890b-95a6aedd2704');\n",
              "          const dataTable =\n",
              "            await google.colab.kernel.invokeFunction('convertToInteractive',\n",
              "                                                     [key], {});\n",
              "          if (!dataTable) return;\n",
              "\n",
              "          const docLinkHtml = 'Like what you see? Visit the ' +\n",
              "            '<a target=\"_blank\" href=https://colab.research.google.com/notebooks/data_table.ipynb>data table notebook</a>'\n",
              "            + ' to learn more about interactive tables.';\n",
              "          element.innerHTML = '';\n",
              "          dataTable['output_type'] = 'display_data';\n",
              "          await google.colab.output.renderOutput(dataTable, element);\n",
              "          const docLink = document.createElement('div');\n",
              "          docLink.innerHTML = docLinkHtml;\n",
              "          element.appendChild(docLink);\n",
              "        }\n",
              "      </script>\n",
              "    </div>\n",
              "  </div>\n",
              "  "
            ]
          },
          "metadata": {},
          "execution_count": 5
        }
      ],
      "source": [
        "test_data"
      ]
    },
    {
      "cell_type": "code",
      "execution_count": null,
      "metadata": {
        "id": "Bd5quapp-tJd"
      },
      "outputs": [],
      "source": [
        "x_train = train_data.loc[:,'sentence']\n",
        "y_train = train_data.loc[:,'index']\n",
        "x_test = test_data.loc[:,'sentence']\n",
        "y_test = test_data.loc[:,'index']"
      ]
    },
    {
      "cell_type": "markdown",
      "metadata": {
        "id": "FOWCeyRWxTIE"
      },
      "source": [
        "## **Model representation - BERT**\n",
        "\n",
        "Different representation approaches is used, first of them is BERT with attention mask for better data representation."
      ]
    },
    {
      "cell_type": "code",
      "execution_count": null,
      "metadata": {
        "colab": {
          "base_uri": "https://localhost:8080/",
          "height": 310,
          "referenced_widgets": [
            "1bd6cad56a7d46c8a5a7031b02e16645",
            "e312201c0f974cdcb85a768f1512ea0f",
            "34077b8fdda34e9a936840be0b6fad42",
            "0fd5bcf556ef49b0a781f76c9e18e10d",
            "6f4f47ddb6644034aabc31614bc3c5ff",
            "1fd4e82ffc664997809dad965a31e784",
            "0925933582314fa3b026703551786cba",
            "c36533fef16240c5bc057b84869449cb",
            "f483c50693c4482a949ad0f1e0ef3da6",
            "175a0d1246f347d88afff09a535739b4",
            "aaa9a268c61942ebb7426e6d8280cbd8",
            "3438d550aa71410fb19f4c7b8b1ab501",
            "751090192d8140289f7a19255ba181c8",
            "897d938f7360461f954f0a9cf93dbff8",
            "506bbd10d459477ba598c78d1cdbe615",
            "1cd49d9dcef84343907ddff3feb0f367",
            "a83859666a424352b59ca728e040a9b0",
            "ab2897fa8aa84c189e1d483b76ff73bd",
            "18ecb3969cb546479eb095833f4d3d0c",
            "04f77dad562041a4b865d206507a2c27",
            "7967bf8a3b204aec8f6f3d579af0b3ed",
            "a3b4120f60644c58ae49e745a4824378",
            "c2fcd73e22d14f1289dc0f896146407d",
            "6effebbd4db5415092f98a165e85ce63",
            "527e16aa744848e487d82a9422c4e247",
            "b20f65996d534aee89472193b869648b",
            "6046d7873c5c4665a76e2a19d8ceb8de",
            "e60bf64c74504bb5b9d1f2fe94cf1374",
            "b6cb9d59af4143a2b99b4c54152bf335",
            "f9068d61c6ff47ef8274adcb14cddfb1",
            "c72b39f150444beba94045e0507dab02",
            "5e563d003c4c413384dbac5d9b4db3d3",
            "9840bcde8fc8468493066a38449e5c59",
            "a27650b5ebbf4c1faeac0238b76ab312",
            "b55808e06f2840ea9ea86399b5b3ba1f",
            "776a90945c5f4edf9aa4a73a29bad779",
            "2f74fc76d85c44948108782fd9ca456d",
            "c9dcdbe8077c450397bb27c714ddf84e",
            "ee3dcf3c540742de9e4b5d282314090d",
            "0e68a6817c084acaac7f54c030d1f249",
            "677ab10ffd2c41be807857c15d28180d",
            "9fa857ad55dd44e8ac5d006aa4de0139",
            "c02f97982f4a419baa400424f06178c5",
            "6a9f594ab3b9474ebced5c67674a7d48",
            "fc47a71b873d4cc485a1b0e95420d391",
            "2a2549b821204ba0ac4fec470117eedb",
            "085910cea7894af6ab67b360147c626d",
            "9a2b94623d654fb89c26f326455714e5",
            "a6cb54d1379d409797f524d4b9055481",
            "b8c2e28578a940ee98eb009a9633c29a",
            "53c2bef62e2f43ec95c2ff5127213eed",
            "b2a3e5fe6eb04289abf22ff28d798e89",
            "b09a0cc85ef840abbe43aff4e2f0e4cb",
            "5debcae8dddc45549c303bdea10dfbcc",
            "5311a7d0acb243e59012eb970cf0306d",
            "e99a7d775f1d47e186eeac8648cb7b0d",
            "a990a6ca23dc4f00bae09cdd23095f61",
            "6d2eb08cb2b04d3991d147c10467a67e",
            "c4c4877ed3bf47469beecf237fc166f0",
            "46530866d9404df2a2d04cc1f152ee7f",
            "f3a3fd85dc0f49e6b5a9fa13adb2e511",
            "f974a25941444e3ab4c2722589fabcaf",
            "8469bc63de39476693e5fdcb75b1a19d",
            "6781a830f04d4484a8c4d104a914dc1e",
            "eb807edf105941b6ac8e41039d8e2017",
            "080922e66dc7455699db778160e4a8e9",
            "753caa269e374cf98d577707a6676ea7",
            "0449cdf94dee4928b678d6ce5eeb5d13",
            "7aef5fef96224b9bbf51b2cd2cbb0d45",
            "8f3ec2e70ff6458ca596ba3a5a151838",
            "1e82ac3c99c049d2aa9c7c59454a8ada",
            "c636e0265ac94209ad51051f5e38147c",
            "ec6e19df918f4e92a66f85f83f989c93",
            "642cddc4aec049e8b6c3c04590a7c5d0",
            "880ab075d7904a26b77da6efae33c2bf",
            "a5ecf7ce0d6a4527a8c42f87eec2645c",
            "d72a71dfb9f243b0aa0b9ced6a4d7bc9"
          ]
        },
        "id": "7v8jLKKGDQk3",
        "outputId": "ecc1ebf5-0813-4609-a990-26c59f19e246"
      },
      "outputs": [
        {
          "output_type": "stream",
          "name": "stdout",
          "text": [
            "[nltk_data] Downloading package stopwords to /root/nltk_data...\n",
            "[nltk_data]   Unzipping corpora/stopwords.zip.\n",
            "[nltk_data] Downloading package punkt to /root/nltk_data...\n",
            "[nltk_data]   Unzipping tokenizers/punkt.zip.\n"
          ]
        },
        {
          "output_type": "display_data",
          "data": {
            "text/plain": [
              "Downloading:   0%|          | 0.00/399 [00:00<?, ?B/s]"
            ],
            "application/vnd.jupyter.widget-view+json": {
              "version_major": 2,
              "version_minor": 0,
              "model_id": "1bd6cad56a7d46c8a5a7031b02e16645"
            }
          },
          "metadata": {}
        },
        {
          "output_type": "display_data",
          "data": {
            "text/plain": [
              "Downloading:   0%|          | 0.00/625 [00:00<?, ?B/s]"
            ],
            "application/vnd.jupyter.widget-view+json": {
              "version_major": 2,
              "version_minor": 0,
              "model_id": "3438d550aa71410fb19f4c7b8b1ab501"
            }
          },
          "metadata": {}
        },
        {
          "output_type": "display_data",
          "data": {
            "text/plain": [
              "Downloading:   0%|          | 0.00/226k [00:00<?, ?B/s]"
            ],
            "application/vnd.jupyter.widget-view+json": {
              "version_major": 2,
              "version_minor": 0,
              "model_id": "c2fcd73e22d14f1289dc0f896146407d"
            }
          },
          "metadata": {}
        },
        {
          "output_type": "display_data",
          "data": {
            "text/plain": [
              "Downloading:   0%|          | 0.00/455k [00:00<?, ?B/s]"
            ],
            "application/vnd.jupyter.widget-view+json": {
              "version_major": 2,
              "version_minor": 0,
              "model_id": "a27650b5ebbf4c1faeac0238b76ab312"
            }
          },
          "metadata": {}
        },
        {
          "output_type": "display_data",
          "data": {
            "text/plain": [
              "Downloading:   0%|          | 0.00/2.00 [00:00<?, ?B/s]"
            ],
            "application/vnd.jupyter.widget-view+json": {
              "version_major": 2,
              "version_minor": 0,
              "model_id": "fc47a71b873d4cc485a1b0e95420d391"
            }
          },
          "metadata": {}
        },
        {
          "output_type": "display_data",
          "data": {
            "text/plain": [
              "Downloading:   0%|          | 0.00/112 [00:00<?, ?B/s]"
            ],
            "application/vnd.jupyter.widget-view+json": {
              "version_major": 2,
              "version_minor": 0,
              "model_id": "e99a7d775f1d47e186eeac8648cb7b0d"
            }
          },
          "metadata": {}
        },
        {
          "output_type": "display_data",
          "data": {
            "text/plain": [
              "Downloading:   0%|          | 0.00/418M [00:00<?, ?B/s]"
            ],
            "application/vnd.jupyter.widget-view+json": {
              "version_major": 2,
              "version_minor": 0,
              "model_id": "753caa269e374cf98d577707a6676ea7"
            }
          },
          "metadata": {}
        }
      ],
      "source": [
        "import time\n",
        "from transformers import AutoTokenizer, AutoModel\n",
        "import torch\n",
        "import nltk\n",
        "nltk.download('stopwords')\n",
        "nltk.download('punkt')\n",
        "from nltk.corpus import stopwords\n",
        "from nltk.tokenize import word_tokenize\n",
        "from sklearn.metrics.pairwise import cosine_similarity\n",
        "\n",
        "stop_words = set(stopwords.words('english'))\n",
        "tokenizer = AutoTokenizer.from_pretrained('sentence-transformers/bert-base-nli-mean-tokens')\n",
        "model = AutoModel.from_pretrained('sentence-transformers/bert-base-nli-mean-tokens')\n",
        "\n",
        "def sent_preprocess(sentence):\n",
        "  word_tokens = word_tokenize(sentence)\n",
        "  filtered_sentence = [w.lower() for w in word_tokens if w not in stop_words]\n",
        "  \n",
        "  tokens = {'input_ids': [], 'attention_mask': []}\n",
        "\n",
        "  new_tokens = tokenizer.encode_plus(sentence, max_length=128,\n",
        "                                      truncation=True, padding='max_length',\n",
        "                                      return_tensors='pt')\n",
        "  tokens['input_ids'].append(new_tokens['input_ids'][0])\n",
        "  tokens['attention_mask'].append(new_tokens['attention_mask'][0])\n",
        "\n",
        "  tokens['input_ids'] = torch.stack(tokens['input_ids'])\n",
        "  tokens['attention_mask'] = torch.stack(tokens['attention_mask'])\n",
        "\n",
        "  outputs = model(**tokens)\n",
        "  embeddings = outputs.last_hidden_state\n",
        "\n",
        "  attention_mask = tokens['attention_mask']\n",
        "  mask = attention_mask.unsqueeze(-1).expand(embeddings.size()).float()\n",
        "  masked_embeddings = embeddings * mask\n",
        "  summed = torch.sum(masked_embeddings, 1)\n",
        "  summed_mask = torch.clamp(mask.sum(1), min=1e-9)\n",
        "  mean_pooled = summed / summed_mask\n",
        "\n",
        "  mean_pooled = mean_pooled.detach().numpy()\n",
        "\n",
        "  return mean_pooled"
      ]
    },
    {
      "cell_type": "code",
      "execution_count": null,
      "metadata": {
        "colab": {
          "base_uri": "https://localhost:8080/"
        },
        "id": "92SurFqb_slz",
        "outputId": "63a3666a-7343-4dc2-fb49-c1f5919b0089"
      },
      "outputs": [
        {
          "output_type": "stream",
          "name": "stderr",
          "text": [
            "100%|██████████| 8551/8551 [1:07:24<00:00,  2.11it/s]\n",
            "100%|██████████| 1043/1043 [08:11<00:00,  2.12it/s]\n"
          ]
        }
      ],
      "source": [
        "import tqdm\n",
        "\n",
        "x_train_preprocessed = [sent_preprocess(sent) for sent in tqdm.tqdm(x_train)]\n",
        "x_test_preprocessed = [sent_preprocess(sent) for sent in tqdm.tqdm(x_test)]"
      ]
    },
    {
      "cell_type": "code",
      "execution_count": null,
      "metadata": {
        "id": "O3V1jD07hTiB"
      },
      "outputs": [],
      "source": [
        "## data is saved for optimization purposes - in order to save time calculating BERT representation of data\n",
        "\n",
        "x_train_preprocessed_bert = x_train_preprocessed\n",
        "x_test_preprocessed_bert = x_test_preprocessed"
      ]
    },
    {
      "cell_type": "code",
      "execution_count": null,
      "metadata": {
        "colab": {
          "base_uri": "https://localhost:8080/"
        },
        "id": "LNjsNDxnA4MS",
        "outputId": "e4b74092-e4fd-42dc-a5b5-5ab87133418e"
      },
      "outputs": [
        {
          "output_type": "stream",
          "name": "stderr",
          "text": [
            "/usr/local/lib/python3.7/dist-packages/sklearn/utils/deprecation.py:143: FutureWarning: The sklearn.utils.testing module is  deprecated in version 0.22 and will be removed in version 0.24. The corresponding classes / functions should instead be imported from sklearn.utils. Anything that cannot be imported from sklearn.utils is now part of the private API.\n",
            "  warnings.warn(message, FutureWarning)\n"
          ]
        }
      ],
      "source": [
        "from lazypredict.Supervised import LazyClassifier\n",
        "import numpy as np\n",
        "import pandas as pd\n",
        "\n",
        "size = np.array(x_train_preprocessed).shape[0]\n",
        "vector_size = 768\n",
        "\n",
        "## This part is to save data into csv file\n",
        "\n",
        "df_train = pd.DataFrame(np.array(x_train_preprocessed).reshape([size,vector_size]))\n",
        "df_test = pd.DataFrame(np.array(x_test_preprocessed).reshape([np.array(x_test_preprocessed).shape[0],vector_size]))\n",
        "\n",
        "df_train.to_csv('df_train_CoLA.csv')\n",
        "df_test.to_csv('df_test_CoLA.csv')"
      ]
    },
    {
      "cell_type": "code",
      "execution_count": null,
      "metadata": {
        "id": "xXKQoq4NnG6u",
        "colab": {
          "base_uri": "https://localhost:8080/"
        },
        "outputId": "eec5e4d4-410d-4aac-9280-c461025fc8a6"
      },
      "outputs": [
        {
          "output_type": "stream",
          "name": "stdout",
          "text": [
            "1050\n",
            "7500\n",
            "1050\n",
            "7500\n"
          ]
        }
      ],
      "source": [
        "## Split into valid and train sets\n",
        "\n",
        "x_valid_preprocessed = x_train_preprocessed[7501:size]\n",
        "x_train_preprocessed = x_train_preprocessed[0:7500]\n",
        "\n",
        "y_valid = y_train[7501:size]\n",
        "y_train = y_train[0:7500]\n",
        "\n",
        "print(len(x_valid_preprocessed))\n",
        "print(len(x_train_preprocessed))\n",
        "print(len(y_valid))\n",
        "print(len(y_train))"
      ]
    },
    {
      "cell_type": "markdown",
      "metadata": {
        "id": "mjKNzo9THSDI"
      },
      "source": [
        "### **General Classifiers**\n",
        "\n",
        "There is an application of most popular and wide-spread classifiers for current representation"
      ]
    },
    {
      "cell_type": "code",
      "execution_count": null,
      "metadata": {
        "colab": {
          "base_uri": "https://localhost:8080/"
        },
        "id": "1cXQoQF6n_KC",
        "outputId": "ac2753ff-18a2-44b9-ad26-b0c22f7481df"
      },
      "outputs": [
        {
          "output_type": "stream",
          "name": "stderr",
          "text": [
            "100%|██████████| 29/29 [08:08<00:00, 16.86s/it]"
          ]
        },
        {
          "output_type": "stream",
          "name": "stdout",
          "text": [
            "                               Accuracy  Balanced Accuracy  ROC AUC  F1 Score  \\\n",
            "Model                                                                           \n",
            "LogisticRegression                 0.71               0.65     0.65      0.71   \n",
            "RidgeClassifierCV                  0.72               0.64     0.64      0.72   \n",
            "RidgeClassifier                    0.71               0.63     0.63      0.71   \n",
            "LinearDiscriminantAnalysis         0.70               0.63     0.63      0.70   \n",
            "SGDClassifier                      0.68               0.62     0.62      0.69   \n",
            "NuSVC                              0.73               0.61     0.61      0.70   \n",
            "LinearSVC                          0.66               0.60     0.60      0.66   \n",
            "BernoulliNB                        0.58               0.57     0.57      0.60   \n",
            "NearestCentroid                    0.54               0.57     0.57      0.56   \n",
            "GaussianNB                         0.56               0.57     0.57      0.58   \n",
            "PassiveAggressiveClassifier        0.62               0.57     0.57      0.63   \n",
            "Perceptron                         0.62               0.56     0.56      0.63   \n",
            "BaggingClassifier                  0.67               0.56     0.56      0.65   \n",
            "XGBClassifier                      0.70               0.55     0.55      0.65   \n",
            "LGBMClassifier                     0.72               0.54     0.54      0.65   \n",
            "SVC                                0.72               0.53     0.53      0.64   \n",
            "KNeighborsClassifier               0.65               0.52     0.52      0.63   \n",
            "AdaBoostClassifier                 0.67               0.52     0.52      0.63   \n",
            "DecisionTreeClassifier             0.59               0.52     0.52      0.59   \n",
            "ExtraTreeClassifier                0.60               0.51     0.51      0.60   \n",
            "RandomForestClassifier             0.71               0.50     0.50      0.60   \n",
            "QuadraticDiscriminantAnalysis      0.71               0.50     0.50      0.60   \n",
            "CalibratedClassifierCV             0.71               0.50     0.50      0.60   \n",
            "LabelSpreading                     0.29               0.50     0.50      0.13   \n",
            "LabelPropagation                   0.29               0.50     0.50      0.13   \n",
            "ExtraTreesClassifier               0.71               0.50     0.50      0.59   \n",
            "DummyClassifier                    0.58               0.49     0.49      0.58   \n",
            "\n",
            "                               Time Taken  \n",
            "Model                                      \n",
            "LogisticRegression                   1.51  \n",
            "RidgeClassifierCV                    2.28  \n",
            "RidgeClassifier                      0.46  \n",
            "LinearDiscriminantAnalysis           2.80  \n",
            "SGDClassifier                        2.38  \n",
            "NuSVC                               55.72  \n",
            "LinearSVC                           17.39  \n",
            "BernoulliNB                          0.43  \n",
            "NearestCentroid                      0.32  \n",
            "GaussianNB                           0.33  \n",
            "PassiveAggressiveClassifier          0.56  \n",
            "Perceptron                           0.47  \n",
            "BaggingClassifier                   77.68  \n",
            "XGBClassifier                       80.95  \n",
            "LGBMClassifier                      24.71  \n",
            "SVC                                 51.95  \n",
            "KNeighborsClassifier                12.00  \n",
            "AdaBoostClassifier                  38.99  \n",
            "DecisionTreeClassifier              12.93  \n",
            "ExtraTreeClassifier                  0.31  \n",
            "RandomForestClassifier              22.03  \n",
            "QuadraticDiscriminantAnalysis        2.52  \n",
            "CalibratedClassifierCV              65.54  \n",
            "LabelSpreading                       5.56  \n",
            "LabelPropagation                     3.80  \n",
            "ExtraTreesClassifier                 4.63  \n",
            "DummyClassifier                      0.25  \n"
          ]
        },
        {
          "output_type": "stream",
          "name": "stderr",
          "text": [
            "\n"
          ]
        }
      ],
      "source": [
        "clf = LazyClassifier(verbose=0,ignore_warnings=True, custom_metric=None)\n",
        "models,predictions = clf.fit(np.array(x_train_preprocessed).reshape([len(x_train_preprocessed),vector_size]), np.array(x_valid_preprocessed).reshape([len(x_valid_preprocessed),vector_size]), y_train, y_valid)\n",
        "\n",
        "print(models)"
      ]
    },
    {
      "cell_type": "code",
      "execution_count": null,
      "metadata": {
        "id": "A3VJdVaMoV8Z",
        "colab": {
          "base_uri": "https://localhost:8080/"
        },
        "outputId": "b1feafec-26df-456a-85b6-2f8440dc4116"
      },
      "outputs": [
        {
          "output_type": "stream",
          "name": "stdout",
          "text": [
            "753 1043\n"
          ]
        }
      ],
      "source": [
        "models = clf.provide_models(np.array(x_train_preprocessed).reshape([len(x_train_preprocessed),vector_size]), np.array(x_valid_preprocessed).reshape([len(x_valid_preprocessed),vector_size]), y_train, y_valid)\n",
        "predictions = models['RidgeClassifierCV'].predict(np.array(x_test_preprocessed).reshape([x_test.shape[0],vector_size]))\n",
        "\n",
        "print(sum([predictions[i] == y_test[i] for i in range(len(x_test))]), len(x_test))"
      ]
    },
    {
      "cell_type": "code",
      "execution_count": null,
      "metadata": {
        "id": "_A84sid5C3IM",
        "colab": {
          "base_uri": "https://localhost:8080/",
          "height": 538
        },
        "outputId": "69ae5b93-f359-4074-8c6e-10fa069646fa"
      },
      "outputs": [
        {
          "output_type": "stream",
          "name": "stdout",
          "text": [
            "BERT, best general classifier, no balancing techniques\n",
            "F-measure or f1-score:  0.8145780051150895\n",
            "Log loss:  9.603461046591292\n",
            "AUC:  0.6218717964180185\n",
            "Classification Report:\n",
            "              precision    recall  f1-score   support\n",
            "\n",
            "           1     0.7556    0.8835    0.8146       721\n",
            "           0     0.5800    0.3602    0.4444       322\n",
            "\n",
            "    accuracy                         0.7220      1043\n",
            "   macro avg     0.6678    0.6219    0.6295      1043\n",
            "weighted avg     0.7014    0.7220    0.7003      1043\n",
            "\n"
          ]
        },
        {
          "output_type": "display_data",
          "data": {
            "text/plain": [
              "<Figure size 432x288 with 2 Axes>"
            ],
            "image/png": "[encoded data removed]"
          },
          "metadata": {
            "needs_background": "light"
          }
        }
      ],
      "source": [
        "# model evaluation\n",
        "\n",
        "import matplotlib.pyplot as plt\n",
        "import seaborn as sns\n",
        "\n",
        "print(\"BERT, best general classifier, no balancing techniques\")\n",
        "print(\"F-measure or f1-score: \", f1_score(y_test, predictions))\n",
        "print(\"Log loss: \", log_loss(y_test, predictions))\n",
        "\n",
        "fpr, tpr, thresholds = roc_curve(y_test, predictions)\n",
        "\n",
        "print(\"AUC: \", auc(fpr, tpr))\n",
        "\n",
        "eval(y_test, predictions)"
      ]
    },
    {
      "cell_type": "markdown",
      "metadata": {
        "id": "I2sNWTAqHfkV"
      },
      "source": [
        "### **LSTM classifier**"
      ]
    },
    {
      "cell_type": "code",
      "execution_count": null,
      "metadata": {
        "id": "YXsqe03VgY2y"
      },
      "outputs": [],
      "source": [
        "import pandas as pd\n",
        "import numpy as np\n",
        "from keras.models import Sequential\n",
        "from keras.layers import LSTM, Dense, Dropout\n",
        "from keras.callbacks import EarlyStopping, ModelCheckpoint\n",
        "from matplotlib import pyplot\n",
        "from keras.layers import Bidirectional"
      ]
    },
    {
      "cell_type": "code",
      "execution_count": null,
      "metadata": {
        "id": "zwE0YElKohWc",
        "colab": {
          "base_uri": "https://localhost:8080/"
        },
        "outputId": "c04dd933-abb7-4d92-efa7-3d7e8c3108ab"
      },
      "outputs": [
        {
          "output_type": "stream",
          "name": "stdout",
          "text": [
            "Epoch 1/50\n",
            "59/59 [==============================] - 19s 217ms/step - loss: 0.6048 - val_loss: 0.5818\n",
            "Epoch 2/50\n",
            "59/59 [==============================] - 12s 197ms/step - loss: 0.5586 - val_loss: 0.5848\n",
            "Epoch 3/50\n",
            "59/59 [==============================] - 12s 199ms/step - loss: 0.5342 - val_loss: 0.5685\n",
            "Epoch 4/50\n",
            "59/59 [==============================] - 12s 198ms/step - loss: 0.4944 - val_loss: 0.5681\n",
            "Epoch 5/50\n",
            "59/59 [==============================] - 12s 200ms/step - loss: 0.4601 - val_loss: 0.5729\n",
            "Epoch 6/50\n",
            "59/59 [==============================] - 12s 199ms/step - loss: 0.4171 - val_loss: 0.6332\n",
            "Epoch 7/50\n",
            "59/59 [==============================] - 12s 198ms/step - loss: 0.3905 - val_loss: 0.6378\n",
            "Epoch 8/50\n",
            "59/59 [==============================] - 12s 198ms/step - loss: 0.3605 - val_loss: 0.6574\n",
            "Epoch 9/50\n",
            "59/59 [==============================] - 12s 199ms/step - loss: 0.3257 - val_loss: 0.6605\n",
            "Epoch 10/50\n",
            "59/59 [==============================] - 12s 198ms/step - loss: 0.2929 - val_loss: 0.6718\n",
            "Epoch 11/50\n",
            "59/59 [==============================] - 12s 196ms/step - loss: 0.2717 - val_loss: 0.7564\n"
          ]
        },
        {
          "output_type": "execute_result",
          "data": {
            "text/plain": [
              "<keras.callbacks.History at 0x7f2c761d8a10>"
            ]
          },
          "metadata": {},
          "execution_count": 16
        }
      ],
      "source": [
        "lstm = Sequential()\n",
        "lstm.add(Bidirectional(LSTM(768, return_sequences=False)))\n",
        "lstm.add(Dense(1, activation='sigmoid'))\n",
        "\n",
        "callback = EarlyStopping(monitor='val_loss', patience=7)\n",
        "\n",
        "lstm.compile(loss='binary_crossentropy', optimizer='adam')\n",
        "lstm.fit(np.array(x_train_preprocessed), y_train, validation_data=(np.array(x_valid_preprocessed), y_valid), epochs=50, batch_size=128, verbose=1, shuffle=True, callbacks=[callback])\n"
      ]
    },
    {
      "cell_type": "code",
      "execution_count": null,
      "metadata": {
        "colab": {
          "base_uri": "https://localhost:8080/"
        },
        "id": "iRhLJLgkotpZ",
        "outputId": "e0197e07-e987-452e-818a-e4f82c823926"
      },
      "outputs": [
        {
          "output_type": "stream",
          "name": "stdout",
          "text": [
            "721 1043\n"
          ]
        }
      ],
      "source": [
        "import math\n",
        "\n",
        "predictions_lstm = lstm.predict(np.array(x_test_preprocessed))\n",
        "\n",
        "print(sum([math.ceil(predictions_lstm[i]) == y_test[i] for i in range(len(x_test))]), len(x_test))"
      ]
    },
    {
      "cell_type": "code",
      "execution_count": null,
      "metadata": {
        "colab": {
          "base_uri": "https://localhost:8080/",
          "height": 573
        },
        "id": "-cAS5e7xJbI8",
        "outputId": "c69f7b2e-aabe-4ee1-eb7d-03d070e67a0f"
      },
      "outputs": [
        {
          "output_type": "stream",
          "name": "stdout",
          "text": [
            "BERT, LSTM, no balancing techniques\n",
            "F-measure or f1-score:  0.8174603174603174\n",
            "Log loss:  0.7572909342710693\n",
            "Log loss:  10.663224803004567\n",
            "AUC:  0.6606098327891731\n",
            "AUC:  0.5\n",
            "Classification Report:\n",
            "              precision    recall  f1-score   support\n",
            "\n",
            "           1     0.6913    1.0000    0.8175       721\n",
            "           0     0.0000    0.0000    0.0000       322\n",
            "\n",
            "    accuracy                         0.6913      1043\n",
            "   macro avg     0.3456    0.5000    0.4087      1043\n",
            "weighted avg     0.4779    0.6913    0.5651      1043\n",
            "\n"
          ]
        },
        {
          "output_type": "display_data",
          "data": {
            "text/plain": [
              "<Figure size 432x288 with 2 Axes>"
            ],
            "image/png": "[encoded data removed]"
          },
          "metadata": {
            "needs_background": "light"
          }
        }
      ],
      "source": [
        "# model evaluation\n",
        "\n",
        "print(\"BERT, LSTM, no balancing techniques\")\n",
        "print(\"F-measure or f1-score: \", f1_score(y_test, [math.ceil(predictions_lstm[i]) for i in range(len(predictions_lstm))]))\n",
        "print(\"Log loss: \", log_loss(y_test, predictions_lstm))\n",
        "print(\"Log loss: \", log_loss(y_test, [math.ceil(predictions_lstm[i]) for i in range(len(predictions_lstm))]))\n",
        "\n",
        "fpr, tpr, thresholds = roc_curve(y_test, predictions_lstm)\n",
        "\n",
        "print(\"AUC: \", auc(fpr, tpr))\n",
        "\n",
        "fpr, tpr, thresholds = roc_curve(y_test,[math.ceil(predictions_lstm[i]) for i in range(len(predictions_lstm))])\n",
        "\n",
        "print(\"AUC: \", auc(fpr, tpr))\n",
        "\n",
        "eval(y_test, [math.ceil(predictions_lstm[i]) for i in range(len(predictions_lstm))])"
      ]
    },
    {
      "cell_type": "markdown",
      "metadata": {
        "id": "Ksff1H9JrZ1X"
      },
      "source": [
        "## **Doc2Vec**\n",
        "\n",
        "Application of the second representation approach."
      ]
    },
    {
      "cell_type": "code",
      "execution_count": null,
      "metadata": {
        "id": "SD2yOtYnuSjB"
      },
      "outputs": [],
      "source": [
        "!pip install --upgrade numpy"
      ]
    },
    {
      "cell_type": "code",
      "execution_count": null,
      "metadata": {
        "colab": {
          "base_uri": "https://localhost:8080/"
        },
        "id": "hndLVOrUrh_e",
        "outputId": "bef7541e-77b1-4c44-d030-845e4093f1bb"
      },
      "outputs": [
        {
          "output_type": "stream",
          "name": "stdout",
          "text": [
            "[nltk_data] Downloading package stopwords to /root/nltk_data...\n",
            "[nltk_data]   Package stopwords is already up-to-date!\n",
            "[nltk_data] Downloading package punkt to /root/nltk_data...\n",
            "[nltk_data]   Package punkt is already up-to-date!\n"
          ]
        }
      ],
      "source": [
        "from gensim.models.doc2vec import Doc2Vec, TaggedDocument\n",
        "import nltk\n",
        "nltk.download('stopwords')\n",
        "nltk.download('punkt')\n",
        "from nltk.corpus import stopwords\n",
        "from nltk.tokenize import word_tokenize\n",
        "\n",
        "stop_words = set(stopwords.words('english'))\n",
        "\n",
        "def cosine(u, v):\n",
        "    return np.dot(u, v) / (np.linalg.norm(u) * np.linalg.norm(v))\n",
        "\n",
        "def sent_tokenize(sents):\n",
        "  tokenized_sent = []\n",
        "  for s in sents:\n",
        "    word_tokens = word_tokenize(s.lower())\n",
        "    filtered_sentence = [w for w in word_tokens if w not in stop_words]\n",
        "    tokenized_sent.append(filtered_sentence)\n",
        "  return [TaggedDocument(d, [i]) for i, d in enumerate(tokenized_sent)]\n",
        "\n",
        "tagged_train_sent = sent_tokenize(x_train)\n",
        "tagged_test_sent = sent_tokenize(x_test)"
      ]
    },
    {
      "cell_type": "code",
      "execution_count": null,
      "metadata": {
        "id": "yGO1rngIxov2"
      },
      "outputs": [],
      "source": [
        "tagged_train_sent"
      ]
    },
    {
      "cell_type": "code",
      "execution_count": null,
      "metadata": {
        "id": "vaUZ5ENKt21c"
      },
      "outputs": [],
      "source": [
        "vector_size = 100\n",
        "\n",
        "model_doc2vec = Doc2Vec(tagged_train_sent+tagged_test_sent, vector_size = vector_size, window = 4, min_count = 1, epochs = 100)"
      ]
    },
    {
      "cell_type": "code",
      "execution_count": null,
      "metadata": {
        "id": "N3t4LwXP3z_l"
      },
      "outputs": [],
      "source": [
        "x_train = train_data.loc[:,'sentence']\n",
        "y_train = train_data.loc[:,'index']\n",
        "x_test = test_data.loc[:,'sentence']\n",
        "y_test = test_data.loc[:,'index']"
      ]
    },
    {
      "cell_type": "code",
      "execution_count": null,
      "metadata": {
        "id": "bdRMjUf9v1VV",
        "colab": {
          "base_uri": "https://localhost:8080/"
        },
        "outputId": "2f3b8c0f-d423-4335-8192-29b3d404e5dd"
      },
      "outputs": [
        {
          "output_type": "stream",
          "name": "stderr",
          "text": [
            "100%|██████████| 8551/8551 [00:44<00:00, 190.09it/s]\n",
            "100%|██████████| 1043/1043 [00:05<00:00, 193.14it/s]\n"
          ]
        }
      ],
      "source": [
        "import tqdm\n",
        "\n",
        "x_train_preprocessed = [model_doc2vec.infer_vector(word_tokenize(sent.lower())) for sent in tqdm.tqdm(x_train)]\n",
        "x_test_preprocessed = [model_doc2vec.infer_vector(word_tokenize(sent.lower())) for sent in tqdm.tqdm(x_test)]\n",
        "\n",
        "x_train_preprocessed_doc2vec = x_train_preprocessed\n",
        "x_test_preprocessed_doc2vec = x_test_preprocessed"
      ]
    },
    {
      "cell_type": "code",
      "execution_count": null,
      "metadata": {
        "colab": {
          "base_uri": "https://localhost:8080/"
        },
        "id": "RTjpcWGhzmth",
        "outputId": "58950c0c-9982-4b86-8c41-fa9630729c69"
      },
      "outputs": [
        {
          "output_type": "execute_result",
          "data": {
            "text/plain": [
              "(8551, 100)"
            ]
          },
          "metadata": {},
          "execution_count": 25
        }
      ],
      "source": [
        "import numpy as np\n",
        "\n",
        "np.array(x_train_preprocessed).shape"
      ]
    },
    {
      "cell_type": "code",
      "execution_count": null,
      "metadata": {
        "id": "1oF1GNlercP2"
      },
      "outputs": [],
      "source": [
        "from lazypredict.Supervised import LazyClassifier\n",
        "import numpy as np\n",
        "import pandas as pd\n",
        "\n",
        "size = np.array(x_train_preprocessed).shape[0]\n",
        "\n",
        "df_train = pd.DataFrame(np.array(x_train_preprocessed).reshape([size,vector_size]))\n",
        "df_test = pd.DataFrame(np.array(x_test_preprocessed).reshape([np.array(x_test_preprocessed).shape[0],vector_size]))\n",
        "\n",
        "df_train.to_csv('df_train_doc2vec_100_CoLA.csv')\n",
        "df_test.to_csv('df_test_doc2vec_100_CoLA.csv')"
      ]
    },
    {
      "cell_type": "code",
      "execution_count": null,
      "metadata": {
        "id": "22T2vwqqwZPd"
      },
      "outputs": [],
      "source": [
        "x_valid_preprocessed = x_train_preprocessed[7501:size]\n",
        "x_train_preprocessed = x_train_preprocessed[0:7500]\n",
        "\n",
        "y_valid = y_train[7501:size]\n",
        "y_train = y_train[0:7500]\n",
        "\n",
        "print(len(x_valid_preprocessed))\n",
        "print(len(x_train_preprocessed))\n",
        "print(len(y_valid))\n",
        "print(len(y_train))"
      ]
    },
    {
      "cell_type": "markdown",
      "metadata": {
        "id": "jDVrEenDNN0I"
      },
      "source": [
        "### **General classifier**"
      ]
    },
    {
      "cell_type": "code",
      "execution_count": null,
      "metadata": {
        "id": "CnuGWflcIlp_",
        "colab": {
          "base_uri": "https://localhost:8080/"
        },
        "outputId": "c1cf8dfc-cbe0-458c-be91-121be20d2737"
      },
      "outputs": [
        {
          "output_type": "stream",
          "name": "stderr",
          "text": [
            "100%|██████████| 29/29 [01:20<00:00,  2.78s/it]"
          ]
        },
        {
          "output_type": "stream",
          "name": "stdout",
          "text": [
            "                               Accuracy  Balanced Accuracy  ROC AUC  F1 Score  \\\n",
            "Model                                                                           \n",
            "QuadraticDiscriminantAnalysis      0.50               0.56     0.56      0.51   \n",
            "GaussianNB                         0.48               0.55     0.55      0.49   \n",
            "ExtraTreeClassifier                0.58               0.51     0.51      0.59   \n",
            "KNeighborsClassifier               0.65               0.51     0.51      0.62   \n",
            "DecisionTreeClassifier             0.59               0.51     0.51      0.60   \n",
            "NuSVC                              0.69               0.51     0.51      0.62   \n",
            "XGBClassifier                      0.67               0.51     0.51      0.62   \n",
            "PassiveAggressiveClassifier        0.51               0.51     0.51      0.54   \n",
            "Perceptron                         0.58               0.51     0.51      0.59   \n",
            "BaggingClassifier                  0.64               0.51     0.51      0.61   \n",
            "ExtraTreesClassifier               0.71               0.50     0.50      0.60   \n",
            "NearestCentroid                    0.53               0.50     0.50      0.55   \n",
            "LogisticRegression                 0.71               0.50     0.50      0.60   \n",
            "LinearDiscriminantAnalysis         0.71               0.50     0.50      0.60   \n",
            "BernoulliNB                        0.70               0.50     0.50      0.60   \n",
            "LGBMClassifier                     0.70               0.50     0.50      0.60   \n",
            "SVC                                0.71               0.50     0.50      0.59   \n",
            "CalibratedClassifierCV             0.71               0.50     0.50      0.59   \n",
            "LinearSVC                          0.71               0.50     0.50      0.59   \n",
            "RidgeClassifierCV                  0.71               0.50     0.50      0.59   \n",
            "RandomForestClassifier             0.71               0.50     0.50      0.59   \n",
            "RidgeClassifier                    0.71               0.50     0.50      0.59   \n",
            "DummyClassifier                    0.58               0.49     0.49      0.58   \n",
            "AdaBoostClassifier                 0.70               0.49     0.49      0.59   \n",
            "LabelSpreading                     0.30               0.49     0.49      0.17   \n",
            "LabelPropagation                   0.30               0.49     0.49      0.17   \n",
            "SGDClassifier                      0.66               0.49     0.49      0.60   \n",
            "\n",
            "                               Time Taken  \n",
            "Model                                      \n",
            "QuadraticDiscriminantAnalysis        0.17  \n",
            "GaussianNB                           0.06  \n",
            "ExtraTreeClassifier                  0.06  \n",
            "KNeighborsClassifier                 1.57  \n",
            "DecisionTreeClassifier               1.38  \n",
            "NuSVC                               10.04  \n",
            "XGBClassifier                       11.08  \n",
            "PassiveAggressiveClassifier          0.08  \n",
            "Perceptron                           0.10  \n",
            "BaggingClassifier                    7.56  \n",
            "ExtraTreesClassifier                 2.15  \n",
            "NearestCentroid                      0.08  \n",
            "LogisticRegression                   0.21  \n",
            "LinearDiscriminantAnalysis           0.28  \n",
            "BernoulliNB                          0.07  \n",
            "LGBMClassifier                       2.81  \n",
            "SVC                                 10.56  \n",
            "CalibratedClassifierCV              10.51  \n",
            "LinearSVC                            3.20  \n",
            "RidgeClassifierCV                    0.26  \n",
            "RandomForestClassifier               7.87  \n",
            "RidgeClassifier                      0.09  \n",
            "DummyClassifier                      0.05  \n",
            "AdaBoostClassifier                   5.06  \n",
            "LabelSpreading                       3.47  \n",
            "LabelPropagation                     1.46  \n",
            "SGDClassifier                        0.30  \n"
          ]
        },
        {
          "output_type": "stream",
          "name": "stderr",
          "text": [
            "\n"
          ]
        }
      ],
      "source": [
        "clf = LazyClassifier(verbose=0,ignore_warnings=True, custom_metric=None)\n",
        "models,predictions = clf.fit(np.array(x_train_preprocessed).reshape([len(x_train_preprocessed),vector_size]), np.array(x_valid_preprocessed).reshape([len(x_valid_preprocessed),vector_size]), y_train, y_valid)\n",
        "\n",
        "print(models)"
      ]
    },
    {
      "cell_type": "code",
      "execution_count": null,
      "metadata": {
        "id": "Ta2v2oroCXT9",
        "colab": {
          "base_uri": "https://localhost:8080/"
        },
        "outputId": "c826190e-345d-4b06-8030-6c6e401adb4a"
      },
      "outputs": [
        {
          "output_type": "stream",
          "name": "stdout",
          "text": [
            "556 1043\n"
          ]
        }
      ],
      "source": [
        "models = clf.provide_models(np.array(x_train_preprocessed).reshape([len(x_train_preprocessed),vector_size]), np.array(x_valid_preprocessed).reshape([len(x_valid_preprocessed),vector_size]), y_train, y_valid)\n",
        "predictions = models['QuadraticDiscriminantAnalysis'].predict(np.array(x_test_preprocessed).reshape([x_test.shape[0],vector_size]))\n",
        "\n",
        "print(sum([predictions[i] == y_test[i] for i in range(len(x_test))]), len(x_test))"
      ]
    },
    {
      "cell_type": "code",
      "execution_count": null,
      "metadata": {
        "id": "3W9ntU9aKim5",
        "colab": {
          "base_uri": "https://localhost:8080/",
          "height": 538
        },
        "outputId": "dd936144-084c-4c25-d2f1-7409f17359ca"
      },
      "outputs": [
        {
          "output_type": "stream",
          "name": "stdout",
          "text": [
            "Doc2vec, best general classifier, no balancing techniques\n",
            "F-measure or f1-score:  0.597187758478081\n",
            "Log loss:  16.12702363681221\n",
            "AUC:  0.5531417716939034\n",
            "Classification Report:\n",
            "              precision    recall  f1-score   support\n",
            "\n",
            "           1     0.7398    0.5007    0.5972       721\n",
            "           0     0.3514    0.6056    0.4447       322\n",
            "\n",
            "    accuracy                         0.5331      1043\n",
            "   macro avg     0.5456    0.5531    0.5209      1043\n",
            "weighted avg     0.6198    0.5331    0.5501      1043\n",
            "\n"
          ]
        },
        {
          "output_type": "display_data",
          "data": {
            "text/plain": [
              "<Figure size 432x288 with 2 Axes>"
            ],
            "image/png": "[encoded data removed]"
          },
          "metadata": {
            "needs_background": "light"
          }
        }
      ],
      "source": [
        "# model evaluation\n",
        "\n",
        "print(\"Doc2vec, best general classifier, no balancing techniques\")\n",
        "print(\"F-measure or f1-score: \", f1_score(y_test, predictions))\n",
        "print(\"Log loss: \", log_loss(y_test, predictions))\n",
        "\n",
        "fpr, tpr, thresholds = roc_curve(y_test, predictions)\n",
        "\n",
        "print(\"AUC: \", auc(fpr, tpr))\n",
        "\n",
        "eval(y_test, predictions)"
      ]
    },
    {
      "cell_type": "markdown",
      "metadata": {
        "id": "fo9u5MULNKrk"
      },
      "source": [
        "### **LSTM classifier**"
      ]
    },
    {
      "cell_type": "code",
      "execution_count": null,
      "metadata": {
        "id": "G6lebYY51JWf"
      },
      "outputs": [],
      "source": [
        "import pandas as pd\n",
        "import numpy as np\n",
        "from keras.models import Sequential\n",
        "from keras.layers import LSTM, Dense, Dropout\n",
        "from keras.callbacks import EarlyStopping, ModelCheckpoint\n",
        "from matplotlib import pyplot\n",
        "from keras.layers import Bidirectional"
      ]
    },
    {
      "cell_type": "code",
      "execution_count": null,
      "metadata": {
        "id": "SSiUA6zBD5Uz",
        "colab": {
          "base_uri": "https://localhost:8080/"
        },
        "outputId": "f4704484-9b53-4bed-f917-3fbccc83f45c"
      },
      "outputs": [
        {
          "output_type": "stream",
          "name": "stdout",
          "text": [
            "Epoch 1/50\n",
            "59/59 [==============================] - 16s 151ms/step - loss: 0.6171 - val_loss: 0.6189\n",
            "Epoch 2/50\n",
            "59/59 [==============================] - 8s 133ms/step - loss: 0.6043 - val_loss: 0.6108\n",
            "Epoch 3/50\n",
            "59/59 [==============================] - 8s 133ms/step - loss: 0.6006 - val_loss: 0.6054\n",
            "Epoch 4/50\n",
            "59/59 [==============================] - 8s 133ms/step - loss: 0.5983 - val_loss: 0.6076\n",
            "Epoch 5/50\n",
            "59/59 [==============================] - 8s 133ms/step - loss: 0.5973 - val_loss: 0.6075\n",
            "Epoch 6/50\n",
            "59/59 [==============================] - 8s 134ms/step - loss: 0.5964 - val_loss: 0.6064\n",
            "Epoch 7/50\n",
            "59/59 [==============================] - 8s 133ms/step - loss: 0.5942 - val_loss: 0.6050\n",
            "Epoch 8/50\n",
            "59/59 [==============================] - 8s 133ms/step - loss: 0.5928 - val_loss: 0.6082\n",
            "Epoch 9/50\n",
            "59/59 [==============================] - 8s 133ms/step - loss: 0.5905 - val_loss: 0.6064\n",
            "Epoch 10/50\n",
            "59/59 [==============================] - 8s 134ms/step - loss: 0.5877 - val_loss: 0.6103\n",
            "Epoch 11/50\n",
            "59/59 [==============================] - 8s 134ms/step - loss: 0.5843 - val_loss: 0.6096\n",
            "Epoch 12/50\n",
            "59/59 [==============================] - 8s 134ms/step - loss: 0.5817 - val_loss: 0.6128\n",
            "Epoch 13/50\n",
            "59/59 [==============================] - 8s 132ms/step - loss: 0.5786 - val_loss: 0.6103\n",
            "Epoch 14/50\n",
            "59/59 [==============================] - 8s 133ms/step - loss: 0.5744 - val_loss: 0.6133\n"
          ]
        },
        {
          "output_type": "execute_result",
          "data": {
            "text/plain": [
              "<keras.callbacks.History at 0x7f2c6e78d490>"
            ]
          },
          "metadata": {},
          "execution_count": 32
        }
      ],
      "source": [
        "lstm = Sequential()\n",
        "lstm.add(Bidirectional(LSTM(768, return_sequences=False)))\n",
        "lstm.add(Dense(1, activation='sigmoid'))\n",
        "\n",
        "callback = EarlyStopping(monitor='val_loss', patience=7)\n",
        "\n",
        "lstm.compile(loss='binary_crossentropy', optimizer='adam')\n",
        "lstm.fit(np.array(x_train_preprocessed).reshape([len(x_train_preprocessed),1,vector_size]), y_train, validation_data=(np.array(x_valid_preprocessed).reshape([len(x_valid_preprocessed),1,vector_size]), y_valid), epochs=50, batch_size=128, verbose=1, shuffle=True, callbacks=[callback])\n"
      ]
    },
    {
      "cell_type": "code",
      "execution_count": null,
      "metadata": {
        "id": "_mpA9O2_h8wU",
        "colab": {
          "base_uri": "https://localhost:8080/"
        },
        "outputId": "68915d04-fa24-43b0-c3eb-e3dafaf4a790"
      },
      "outputs": [
        {
          "output_type": "stream",
          "name": "stdout",
          "text": [
            "721 1043\n"
          ]
        }
      ],
      "source": [
        "import math\n",
        "\n",
        "predictions_lstm = lstm.predict(np.array(x_test_preprocessed).reshape([len(x_test_preprocessed),1,vector_size]))\n",
        "\n",
        "print(sum([math.ceil(predictions_lstm[i]) == y_test[i] for i in range(len(x_test))]), len(x_test))"
      ]
    },
    {
      "cell_type": "code",
      "execution_count": null,
      "metadata": {
        "id": "QVLdsbtgKSOy",
        "colab": {
          "base_uri": "https://localhost:8080/",
          "height": 573
        },
        "outputId": "6f1722e1-59d7-4c81-a317-eb8cf3cd48ab"
      },
      "outputs": [
        {
          "output_type": "stream",
          "name": "stdout",
          "text": [
            "Doc2Vec, LSTM, no balancing techniques\n",
            "F-measure or f1-score:  0.8174603174603174\n",
            "Log loss:  0.6203679926782733\n",
            "Log loss:  10.663224803004567\n",
            "AUC:  0.5881754981435376\n",
            "AUC:  0.5\n",
            "Classification Report:\n",
            "              precision    recall  f1-score   support\n",
            "\n",
            "           1     0.6913    1.0000    0.8175       721\n",
            "           0     0.0000    0.0000    0.0000       322\n",
            "\n",
            "    accuracy                         0.6913      1043\n",
            "   macro avg     0.3456    0.5000    0.4087      1043\n",
            "weighted avg     0.4779    0.6913    0.5651      1043\n",
            "\n"
          ]
        },
        {
          "output_type": "display_data",
          "data": {
            "text/plain": [
              "<Figure size 432x288 with 2 Axes>"
            ],
            "image/png": "[encoded data removed]"
          },
          "metadata": {
            "needs_background": "light"
          }
        }
      ],
      "source": [
        "# model evaluation\n",
        "\n",
        "print(\"Doc2Vec, LSTM, no balancing techniques\")\n",
        "print(\"F-measure or f1-score: \", f1_score(y_test, [math.ceil(predictions_lstm[i]) for i in range(len(predictions_lstm))]))\n",
        "print(\"Log loss: \", log_loss(y_test, predictions_lstm))\n",
        "print(\"Log loss: \", log_loss(y_test, [math.ceil(predictions_lstm[i]) for i in range(len(predictions_lstm))]))\n",
        "\n",
        "fpr, tpr, thresholds = roc_curve(y_test, predictions_lstm)\n",
        "\n",
        "print(\"AUC: \", auc(fpr, tpr))\n",
        "\n",
        "fpr, tpr, thresholds = roc_curve(y_test,[math.ceil(predictions_lstm[i]) for i in range(len(predictions_lstm))])\n",
        "\n",
        "print(\"AUC: \", auc(fpr, tpr))\n",
        "\n",
        "eval(y_test, [math.ceil(predictions_lstm[i]) for i in range(len(predictions_lstm))])"
      ]
    },
    {
      "cell_type": "markdown",
      "metadata": {
        "id": "VpgXIyE2Kxzi"
      },
      "source": [
        "# **Undersampling**\n",
        "\n",
        "Here we apply undersampling techique in order to assess the contribution of it on classifier performance"
      ]
    },
    {
      "cell_type": "code",
      "execution_count": null,
      "metadata": {
        "id": "I5t6zK3eKxzj"
      },
      "outputs": [],
      "source": [
        "## CoLA\n",
        "import pandas as pd\n",
        "\n",
        "data_pth = '/content/data'\n",
        "TASKS = [\"CoLA\", \"SST-2\", \"RTE\"]\n",
        "\n",
        "colnames_train = ['id', 'index', 'field_1', 'sentence']\n",
        "colnames_test = ['index', 'sentence']\n",
        "train_data = pd.read_table(os.path.join(data_pth, TASKS[0], 'train.tsv'), names=colnames_train, header=None)\n",
        "test_data = pd.read_table(os.path.join(data_pth, TASKS[0], 'dev.tsv'), names=colnames_train, header=None)"
      ]
    },
    {
      "cell_type": "code",
      "execution_count": null,
      "metadata": {
        "id": "LYj9aPBgKxzj"
      },
      "outputs": [],
      "source": [
        "x_train = train_data.loc[:,'sentence']\n",
        "y_train = train_data.loc[:,'index']\n",
        "x_test = test_data.loc[:,'sentence']\n",
        "y_test = test_data.loc[:,'index']"
      ]
    },
    {
      "cell_type": "markdown",
      "metadata": {
        "id": "h3mxHweOKxzj"
      },
      "source": [
        "## **BERT**"
      ]
    },
    {
      "cell_type": "code",
      "execution_count": null,
      "metadata": {
        "id": "0ZXVhqcuKxzj",
        "colab": {
          "base_uri": "https://localhost:8080/"
        },
        "outputId": "6c8eb1e2-e759-4001-81c1-352a14db7dae"
      },
      "outputs": [
        {
          "output_type": "stream",
          "name": "stdout",
          "text": [
            "[nltk_data] Downloading package stopwords to /root/nltk_data...\n",
            "[nltk_data]   Package stopwords is already up-to-date!\n",
            "[nltk_data] Downloading package punkt to /root/nltk_data...\n",
            "[nltk_data]   Package punkt is already up-to-date!\n"
          ]
        }
      ],
      "source": [
        "import time\n",
        "from transformers import AutoTokenizer, AutoModel\n",
        "import torch\n",
        "import nltk\n",
        "nltk.download('stopwords')\n",
        "nltk.download('punkt')\n",
        "from nltk.corpus import stopwords\n",
        "from nltk.tokenize import word_tokenize\n",
        "from sklearn.metrics.pairwise import cosine_similarity\n",
        "\n",
        "stop_words = set(stopwords.words('english'))\n",
        "tokenizer = AutoTokenizer.from_pretrained('sentence-transformers/bert-base-nli-mean-tokens')\n",
        "model = AutoModel.from_pretrained('sentence-transformers/bert-base-nli-mean-tokens')\n",
        "\n",
        "def sent_preprocess(sentence):\n",
        "  word_tokens = word_tokenize(sentence)\n",
        "  filtered_sentence = [w.lower() for w in word_tokens if w not in stop_words]\n",
        "  \n",
        "  tokens = {'input_ids': [], 'attention_mask': []}\n",
        "\n",
        "  new_tokens = tokenizer.encode_plus(sentence, max_length=128,\n",
        "                                      truncation=True, padding='max_length',\n",
        "                                      return_tensors='pt')\n",
        "  tokens['input_ids'].append(new_tokens['input_ids'][0])\n",
        "  tokens['attention_mask'].append(new_tokens['attention_mask'][0])\n",
        "\n",
        "  tokens['input_ids'] = torch.stack(tokens['input_ids'])\n",
        "  tokens['attention_mask'] = torch.stack(tokens['attention_mask'])\n",
        "\n",
        "  outputs = model(**tokens)\n",
        "  embeddings = outputs.last_hidden_state\n",
        "\n",
        "  attention_mask = tokens['attention_mask']\n",
        "  mask = attention_mask.unsqueeze(-1).expand(embeddings.size()).float()\n",
        "  masked_embeddings = embeddings * mask\n",
        "  summed = torch.sum(masked_embeddings, 1)\n",
        "  summed_mask = torch.clamp(mask.sum(1), min=1e-9)\n",
        "  mean_pooled = summed / summed_mask\n",
        "\n",
        "  mean_pooled = mean_pooled.detach().numpy()\n",
        "\n",
        "  return mean_pooled"
      ]
    },
    {
      "cell_type": "code",
      "execution_count": null,
      "metadata": {
        "id": "-cIIS9EbKxzk"
      },
      "outputs": [],
      "source": [
        "import tqdm\n",
        "\n",
        "if x_test_preprocessed_bert and x_train_preprocessed_bert:\n",
        "  x_train_preprocessed = x_train_preprocessed_bert\n",
        "  x_test_preprocessed = x_test_preprocessed_bert\n",
        "else:\n",
        "  x_train_preprocessed = [sent_preprocess(sent) for sent in tqdm.tqdm(x_train)]\n",
        "  x_test_preprocessed = [sent_preprocess(sent) for sent in tqdm.tqdm(x_test)]"
      ]
    },
    {
      "cell_type": "code",
      "execution_count": null,
      "metadata": {
        "id": "XTwEx9aXR4hD"
      },
      "outputs": [],
      "source": [
        "from imblearn.under_sampling import NearMiss\n",
        "nr = NearMiss()\n",
        "\n",
        "vector_size = 768\n",
        "\n",
        "x_train_preprocessed, y_train = nr.fit_resample(np.array(x_train_preprocessed).reshape([len(x_train_preprocessed), vector_size]), y_train)"
      ]
    },
    {
      "cell_type": "code",
      "source": [
        "x_train_preprocessed = x_train_preprocessed.reshape([len(x_train_preprocessed), 1,  vector_size])"
      ],
      "metadata": {
        "id": "cN65J5g-qZ2Y"
      },
      "execution_count": null,
      "outputs": []
    },
    {
      "cell_type": "code",
      "execution_count": null,
      "metadata": {
        "id": "0rawSyVVKxzk"
      },
      "outputs": [],
      "source": [
        "from lazypredict.Supervised import LazyClassifier\n",
        "import numpy as np\n",
        "import pandas as pd\n",
        "\n",
        "size = np.array(x_train_preprocessed).shape[0]\n",
        "vector_size = 768\n",
        "\n",
        "df_train = pd.DataFrame(np.array(x_train_preprocessed).reshape([size,vector_size]))\n",
        "df_test = pd.DataFrame(np.array(x_test_preprocessed).reshape([np.array(x_test_preprocessed).shape[0],vector_size]))\n",
        "\n",
        "df_train.to_csv('df_train_CoLA_under.csv')\n",
        "df_test.to_csv('df_test_CoLA_under.csv')"
      ]
    },
    {
      "cell_type": "code",
      "source": [
        "size"
      ],
      "metadata": {
        "colab": {
          "base_uri": "https://localhost:8080/"
        },
        "id": "aFkLEh-vqrnh",
        "outputId": "cc295f55-d157-41d8-9b38-19c0da22eddb"
      },
      "execution_count": null,
      "outputs": [
        {
          "output_type": "execute_result",
          "data": {
            "text/plain": [
              "5056"
            ]
          },
          "metadata": {},
          "execution_count": 43
        }
      ]
    },
    {
      "cell_type": "code",
      "execution_count": null,
      "metadata": {
        "id": "lEAugCrAKxzk"
      },
      "outputs": [],
      "source": [
        "x_valid_preprocessed = x_train_preprocessed[4701:size]\n",
        "x_train_preprocessed = x_train_preprocessed[0:4700]\n",
        "\n",
        "y_valid = y_train[4701:size]\n",
        "y_train = y_train[0:4700]\n",
        "\n",
        "print(len(x_valid_preprocessed))\n",
        "print(len(x_train_preprocessed))\n",
        "print(len(y_valid))\n",
        "print(len(y_train))"
      ]
    },
    {
      "cell_type": "markdown",
      "metadata": {
        "id": "jXptj3AJKxzk"
      },
      "source": [
        "### **General Classifiers**"
      ]
    },
    {
      "cell_type": "code",
      "execution_count": null,
      "metadata": {
        "id": "W3whIb8CKxzl",
        "colab": {
          "base_uri": "https://localhost:8080/"
        },
        "outputId": "984be9cf-29e6-45c3-b42f-40c57bc3b118"
      },
      "outputs": [
        {
          "output_type": "stream",
          "name": "stderr",
          "text": [
            "100%|██████████| 29/29 [04:26<00:00,  9.18s/it]"
          ]
        },
        {
          "output_type": "stream",
          "name": "stdout",
          "text": [
            "                               Accuracy  Balanced Accuracy ROC AUC  F1 Score  \\\n",
            "Model                                                                          \n",
            "LinearDiscriminantAnalysis         0.62               0.62    None      0.77   \n",
            "RidgeClassifier                    0.61               0.61    None      0.76   \n",
            "NuSVC                              0.61               0.61    None      0.75   \n",
            "RidgeClassifierCV                  0.61               0.61    None      0.75   \n",
            "Perceptron                         0.60               0.60    None      0.75   \n",
            "LogisticRegression                 0.59               0.59    None      0.74   \n",
            "PassiveAggressiveClassifier        0.58               0.58    None      0.74   \n",
            "SGDClassifier                      0.57               0.57    None      0.73   \n",
            "KNeighborsClassifier               0.57               0.57    None      0.73   \n",
            "LinearSVC                          0.54               0.54    None      0.70   \n",
            "DecisionTreeClassifier             0.51               0.51    None      0.67   \n",
            "NearestCentroid                    0.50               0.50    None      0.67   \n",
            "GaussianNB                         0.49               0.49    None      0.66   \n",
            "XGBClassifier                      0.48               0.48    None      0.65   \n",
            "BernoulliNB                        0.47               0.47    None      0.64   \n",
            "SVC                                0.46               0.46    None      0.63   \n",
            "DummyClassifier                    0.46               0.46    None      0.63   \n",
            "ExtraTreeClassifier                0.45               0.45    None      0.62   \n",
            "LGBMClassifier                     0.45               0.45    None      0.62   \n",
            "AdaBoostClassifier                 0.43               0.43    None      0.61   \n",
            "RandomForestClassifier             0.40               0.40    None      0.57   \n",
            "ExtraTreesClassifier               0.39               0.39    None      0.57   \n",
            "BaggingClassifier                  0.35               0.35    None      0.52   \n",
            "CalibratedClassifierCV             0.22               0.22    None      0.36   \n",
            "QuadraticDiscriminantAnalysis      0.20               0.20    None      0.34   \n",
            "LabelSpreading                     0.00               0.00    None      0.00   \n",
            "LabelPropagation                   0.00               0.00    None      0.00   \n",
            "\n",
            "                               Time Taken  \n",
            "Model                                      \n",
            "LinearDiscriminantAnalysis           1.83  \n",
            "RidgeClassifier                      0.30  \n",
            "NuSVC                               24.65  \n",
            "RidgeClassifierCV                    1.59  \n",
            "Perceptron                           0.33  \n",
            "LogisticRegression                   0.76  \n",
            "PassiveAggressiveClassifier          0.39  \n",
            "SGDClassifier                        1.31  \n",
            "KNeighborsClassifier                 3.26  \n",
            "LinearSVC                           10.50  \n",
            "DecisionTreeClassifier               4.74  \n",
            "NearestCentroid                      0.21  \n",
            "GaussianNB                           0.19  \n",
            "XGBClassifier                       52.34  \n",
            "BernoulliNB                          0.26  \n",
            "SVC                                 22.52  \n",
            "DummyClassifier                      0.17  \n",
            "ExtraTreeClassifier                  0.19  \n",
            "LGBMClassifier                      21.80  \n",
            "AdaBoostClassifier                  26.53  \n",
            "RandomForestClassifier              10.90  \n",
            "ExtraTreesClassifier                 3.61  \n",
            "BaggingClassifier                   31.95  \n",
            "CalibratedClassifierCV              40.16  \n",
            "QuadraticDiscriminantAnalysis        1.83  \n",
            "LabelSpreading                       2.18  \n",
            "LabelPropagation                     1.43  \n"
          ]
        },
        {
          "output_type": "stream",
          "name": "stderr",
          "text": [
            "\n"
          ]
        }
      ],
      "source": [
        "clf = LazyClassifier(verbose=0,ignore_warnings=True, custom_metric=None)\n",
        "models,predictions = clf.fit(np.array(x_train_preprocessed).reshape([len(x_train_preprocessed),vector_size]), np.array(x_valid_preprocessed).reshape([len(x_valid_preprocessed),vector_size]), y_train, y_valid)\n",
        "\n",
        "print(models)"
      ]
    },
    {
      "cell_type": "code",
      "execution_count": null,
      "metadata": {
        "id": "-U0L5kFQKxzl",
        "colab": {
          "base_uri": "https://localhost:8080/"
        },
        "outputId": "aa68fac7-dbfd-475f-f003-00ecc6d3a8a2"
      },
      "outputs": [
        {
          "output_type": "stream",
          "name": "stdout",
          "text": [
            "613 1043\n"
          ]
        }
      ],
      "source": [
        "models = clf.provide_models(np.array(x_train_preprocessed).reshape([len(x_train_preprocessed),vector_size]), np.array(x_valid_preprocessed).reshape([len(x_valid_preprocessed),vector_size]), y_train, y_valid)\n",
        "predictions = models['LinearDiscriminantAnalysis'].predict(np.array(x_test_preprocessed).reshape([x_test.shape[0],vector_size]))\n",
        "\n",
        "print(sum([predictions[i] == y_test[i] for i in range(len(x_test))]), len(x_test))"
      ]
    },
    {
      "cell_type": "code",
      "execution_count": null,
      "metadata": {
        "id": "UBex972lKxzl",
        "colab": {
          "base_uri": "https://localhost:8080/",
          "height": 538
        },
        "outputId": "9d508516-86af-43c4-8e62-51b56d34341e"
      },
      "outputs": [
        {
          "output_type": "stream",
          "name": "stdout",
          "text": [
            "BERT, best general classifier, undersampling\n",
            "F-measure or f1-score:  0.6537842190016102\n",
            "Log loss:  14.239468651501502\n",
            "AUC:  0.6029819694868237\n",
            "Classification Report:\n",
            "              precision    recall  f1-score   support\n",
            "\n",
            "           1     0.7793    0.5631    0.6538       721\n",
            "           0     0.3966    0.6429    0.4905       322\n",
            "\n",
            "    accuracy                         0.5877      1043\n",
            "   macro avg     0.5879    0.6030    0.5722      1043\n",
            "weighted avg     0.6611    0.5877    0.6034      1043\n",
            "\n"
          ]
        },
        {
          "output_type": "display_data",
          "data": {
            "text/plain": [
              "<Figure size 432x288 with 2 Axes>"
            ],
            "image/png": "[encoded data removed]"
          },
          "metadata": {
            "needs_background": "light"
          }
        }
      ],
      "source": [
        "# model evaluation\n",
        "\n",
        "print(\"BERT, best general classifier, undersampling\")\n",
        "print(\"F-measure or f1-score: \", f1_score(y_test, predictions))\n",
        "print(\"Log loss: \", log_loss(y_test, predictions))\n",
        "\n",
        "fpr, tpr, thresholds = roc_curve(y_test, predictions)\n",
        "\n",
        "print(\"AUC: \", auc(fpr, tpr))\n",
        "\n",
        "eval(y_test, predictions)"
      ]
    },
    {
      "cell_type": "markdown",
      "metadata": {
        "id": "cdNoUTStKxzl"
      },
      "source": [
        "### **LSTM classifier**"
      ]
    },
    {
      "cell_type": "code",
      "execution_count": null,
      "metadata": {
        "id": "66vw5NnBKxzl"
      },
      "outputs": [],
      "source": [
        "import pandas as pd\n",
        "import numpy as np\n",
        "from keras.models import Sequential\n",
        "from keras.layers import LSTM, Dense, Dropout\n",
        "from keras.callbacks import EarlyStopping, ModelCheckpoint\n",
        "from matplotlib import pyplot\n",
        "from keras.layers import Bidirectional"
      ]
    },
    {
      "cell_type": "code",
      "execution_count": null,
      "metadata": {
        "id": "ywGmWU35Kxzl",
        "colab": {
          "base_uri": "https://localhost:8080/"
        },
        "outputId": "30c2f5fb-b7e6-46b9-ac65-0ed59258416c"
      },
      "outputs": [
        {
          "output_type": "stream",
          "name": "stdout",
          "text": [
            "Epoch 1/50\n",
            "37/37 [==============================] - 18s 319ms/step - loss: 0.6825 - val_loss: 0.8385\n",
            "Epoch 2/50\n",
            "37/37 [==============================] - 10s 273ms/step - loss: 0.6293 - val_loss: 0.8339\n",
            "Epoch 3/50\n",
            "37/37 [==============================] - 7s 191ms/step - loss: 0.6112 - val_loss: 0.7991\n",
            "Epoch 4/50\n",
            "37/37 [==============================] - 7s 189ms/step - loss: 0.5936 - val_loss: 0.9057\n",
            "Epoch 5/50\n",
            "37/37 [==============================] - 7s 189ms/step - loss: 0.5602 - val_loss: 0.8522\n",
            "Epoch 6/50\n",
            "37/37 [==============================] - 7s 190ms/step - loss: 0.5395 - val_loss: 0.8150\n",
            "Epoch 7/50\n",
            "37/37 [==============================] - 7s 190ms/step - loss: 0.5268 - val_loss: 0.8907\n",
            "Epoch 8/50\n",
            "37/37 [==============================] - 7s 189ms/step - loss: 0.4909 - val_loss: 0.6020\n",
            "Epoch 9/50\n",
            "37/37 [==============================] - 7s 190ms/step - loss: 0.4762 - val_loss: 1.0826\n",
            "Epoch 10/50\n",
            "37/37 [==============================] - 7s 189ms/step - loss: 0.4514 - val_loss: 0.8570\n",
            "Epoch 11/50\n",
            "37/37 [==============================] - 7s 191ms/step - loss: 0.4311 - val_loss: 0.8027\n",
            "Epoch 12/50\n",
            "37/37 [==============================] - 7s 189ms/step - loss: 0.3976 - val_loss: 1.0279\n",
            "Epoch 13/50\n",
            "37/37 [==============================] - 7s 189ms/step - loss: 0.3822 - val_loss: 0.9924\n",
            "Epoch 14/50\n",
            "37/37 [==============================] - 7s 189ms/step - loss: 0.3603 - val_loss: 0.9461\n",
            "Epoch 15/50\n",
            "37/37 [==============================] - 7s 189ms/step - loss: 0.3377 - val_loss: 1.1723\n"
          ]
        },
        {
          "output_type": "execute_result",
          "data": {
            "text/plain": [
              "<keras.callbacks.History at 0x7f2c6783f4d0>"
            ]
          },
          "metadata": {},
          "execution_count": 49
        }
      ],
      "source": [
        "lstm = Sequential()\n",
        "lstm.add(Bidirectional(LSTM(768, return_sequences=False)))\n",
        "lstm.add(Dense(1, activation='sigmoid'))\n",
        "\n",
        "callback = EarlyStopping(monitor='val_loss', patience=7)\n",
        "\n",
        "lstm.compile(loss='binary_crossentropy', optimizer='adam')\n",
        "lstm.fit(np.array(x_train_preprocessed), y_train, validation_data=(np.array(x_valid_preprocessed), y_valid), epochs=50, batch_size=128, verbose=1, shuffle=True, callbacks=[callback])\n"
      ]
    },
    {
      "cell_type": "code",
      "execution_count": null,
      "metadata": {
        "id": "bEftN5l1Kxzl",
        "colab": {
          "base_uri": "https://localhost:8080/"
        },
        "outputId": "5448797e-c9ec-4004-b7b5-7a9612627fa5"
      },
      "outputs": [
        {
          "output_type": "stream",
          "name": "stdout",
          "text": [
            "721 1043\n"
          ]
        }
      ],
      "source": [
        "import math\n",
        "\n",
        "predictions_lstm = lstm.predict(np.array(x_test_preprocessed))\n",
        "\n",
        "print(sum([math.ceil(predictions_lstm[i]) == y_test[i] for i in range(len(x_test))]), len(x_test))"
      ]
    },
    {
      "cell_type": "code",
      "execution_count": null,
      "metadata": {
        "id": "Uv7Uv1ChKxzm",
        "colab": {
          "base_uri": "https://localhost:8080/",
          "height": 573
        },
        "outputId": "4f5104b7-38a5-4248-925d-d524da23d0d7"
      },
      "outputs": [
        {
          "output_type": "stream",
          "name": "stdout",
          "text": [
            "BERT, LSTM, undersampling\n",
            "F-measure or f1-score:  0.8174603174603174\n",
            "Log loss:  1.2503484568425083\n",
            "Log loss:  10.663224803004567\n",
            "AUC:  0.6281626622789259\n",
            "AUC:  0.5\n",
            "Classification Report:\n",
            "              precision    recall  f1-score   support\n",
            "\n",
            "           1     0.6913    1.0000    0.8175       721\n",
            "           0     0.0000    0.0000    0.0000       322\n",
            "\n",
            "    accuracy                         0.6913      1043\n",
            "   macro avg     0.3456    0.5000    0.4087      1043\n",
            "weighted avg     0.4779    0.6913    0.5651      1043\n",
            "\n"
          ]
        },
        {
          "output_type": "display_data",
          "data": {
            "text/plain": [
              "<Figure size 432x288 with 2 Axes>"
            ],
            "image/png": "[encoded data removed]"
          },
          "metadata": {
            "needs_background": "light"
          }
        }
      ],
      "source": [
        "# model evaluation\n",
        "\n",
        "print(\"BERT, LSTM, undersampling\")\n",
        "print(\"F-measure or f1-score: \", f1_score(y_test, [math.ceil(predictions_lstm[i]) for i in range(len(predictions_lstm))]))\n",
        "print(\"Log loss: \", log_loss(y_test, predictions_lstm))\n",
        "print(\"Log loss: \", log_loss(y_test, [math.ceil(predictions_lstm[i]) for i in range(len(predictions_lstm))]))\n",
        "\n",
        "fpr, tpr, thresholds = roc_curve(y_test, predictions_lstm)\n",
        "\n",
        "print(\"AUC: \", auc(fpr, tpr))\n",
        "\n",
        "fpr, tpr, thresholds = roc_curve(y_test,[math.ceil(predictions_lstm[i]) for i in range(len(predictions_lstm))])\n",
        "\n",
        "print(\"AUC: \", auc(fpr, tpr))\n",
        "\n",
        "eval(y_test, [math.ceil(predictions_lstm[i]) for i in range(len(predictions_lstm))])"
      ]
    },
    {
      "cell_type": "markdown",
      "metadata": {
        "id": "8OCinE78Kxzm"
      },
      "source": [
        "## **Doc2Vec**"
      ]
    },
    {
      "cell_type": "code",
      "execution_count": null,
      "metadata": {
        "id": "Kaxg_HoIKxzm"
      },
      "outputs": [],
      "source": [
        "!pip install --upgrade numpy"
      ]
    },
    {
      "cell_type": "code",
      "execution_count": null,
      "metadata": {
        "id": "k-DDFEXTKxzm"
      },
      "outputs": [],
      "source": [
        "from gensim.models.doc2vec import Doc2Vec, TaggedDocument\n",
        "import nltk\n",
        "nltk.download('stopwords')\n",
        "nltk.download('punkt')\n",
        "from nltk.corpus import stopwords\n",
        "from nltk.tokenize import word_tokenize\n",
        "\n",
        "stop_words = set(stopwords.words('english'))\n",
        "\n",
        "def cosine(u, v):\n",
        "    return np.dot(u, v) / (np.linalg.norm(u) * np.linalg.norm(v))\n",
        "\n",
        "def sent_tokenize(sents):\n",
        "  tokenized_sent = []\n",
        "  for s in sents:\n",
        "    word_tokens = word_tokenize(s.lower())\n",
        "    filtered_sentence = [w for w in word_tokens if w not in stop_words]\n",
        "    tokenized_sent.append(filtered_sentence)\n",
        "  return [TaggedDocument(d, [i]) for i, d in enumerate(tokenized_sent)]\n",
        "\n",
        "tagged_train_sent = sent_tokenize(x_train)\n",
        "tagged_test_sent = sent_tokenize(x_test)"
      ]
    },
    {
      "cell_type": "code",
      "execution_count": null,
      "metadata": {
        "id": "8dgmiZuFKxzm"
      },
      "outputs": [],
      "source": [
        "tagged_train_sent"
      ]
    },
    {
      "cell_type": "code",
      "execution_count": null,
      "metadata": {
        "id": "c1PCzC99Kxzm"
      },
      "outputs": [],
      "source": [
        "vector_size = 100\n",
        "\n",
        "model_doc2vec = Doc2Vec(tagged_train_sent+tagged_test_sent, vector_size = vector_size, window = 4, min_count = 1, epochs = 100)"
      ]
    },
    {
      "cell_type": "code",
      "execution_count": null,
      "metadata": {
        "id": "v_7oNXjnKxzm"
      },
      "outputs": [],
      "source": [
        "import tqdm\n",
        "\n",
        "if x_test_preprocessed_doc2vec and x_train_preprocessed_doc2vec:\n",
        "  x_test_preprocessed = x_test_preprocessed_doc2vec\n",
        "  x_train_preprocessed = x_train_preprocessed_doc2vec\n",
        "else:\n",
        "  x_train_preprocessed = [model_doc2vec.infer_vector(word_tokenize(sent.lower())) for sent in tqdm.tqdm(x_train)]\n",
        "  x_test_preprocessed = [model_doc2vec.infer_vector(word_tokenize(sent.lower())) for sent in tqdm.tqdm(x_test)]"
      ]
    },
    {
      "cell_type": "code",
      "source": [
        "x_train = train_data.loc[:,'sentence']\n",
        "y_train = train_data.loc[:,'index']\n",
        "x_test = test_data.loc[:,'sentence']\n",
        "y_test = test_data.loc[:,'index']"
      ],
      "metadata": {
        "id": "42LyqZ-zs3WZ"
      },
      "execution_count": null,
      "outputs": []
    },
    {
      "cell_type": "code",
      "execution_count": null,
      "metadata": {
        "id": "m_VxM4BuSYNX"
      },
      "outputs": [],
      "source": [
        "from imblearn.under_sampling import NearMiss\n",
        "nr = NearMiss()\n",
        "import numpy as np\n",
        "\n",
        "x_train_preprocessed, y_train = nr.fit_resample(np.array(x_train_preprocessed), y_train)"
      ]
    },
    {
      "cell_type": "code",
      "execution_count": null,
      "metadata": {
        "id": "ZqIaycbzKxzm",
        "colab": {
          "base_uri": "https://localhost:8080/"
        },
        "outputId": "3ff74cf4-ae8f-4624-a1e0-18be707ae43b"
      },
      "outputs": [
        {
          "output_type": "execute_result",
          "data": {
            "text/plain": [
              "(5056, 100)"
            ]
          },
          "metadata": {},
          "execution_count": 56
        }
      ],
      "source": [
        "import numpy as np\n",
        "\n",
        "x_train_preprocessed.shape"
      ]
    },
    {
      "cell_type": "code",
      "execution_count": null,
      "metadata": {
        "id": "qGeXFbN0Kxzn"
      },
      "outputs": [],
      "source": [
        "from lazypredict.Supervised import LazyClassifier\n",
        "import numpy as np\n",
        "import pandas as pd\n",
        "\n",
        "size = np.array(x_train_preprocessed).shape[0]\n",
        "vector_size = 100\n",
        "\n",
        "df_train = pd.DataFrame(np.array(x_train_preprocessed).reshape([size,vector_size]))\n",
        "df_test = pd.DataFrame(np.array(x_test_preprocessed).reshape([np.array(x_test_preprocessed).shape[0],vector_size]))\n",
        "\n",
        "df_train.to_csv('df_train_doc2vec_100_CoLA_under.csv')\n",
        "df_test.to_csv('df_test_doc2vec_100_CoLA_under.csv')"
      ]
    },
    {
      "cell_type": "code",
      "execution_count": null,
      "metadata": {
        "id": "3IB9BRH0Ymdu",
        "colab": {
          "base_uri": "https://localhost:8080/"
        },
        "outputId": "e715f9db-4826-4773-8a11-72a652a93867"
      },
      "outputs": [
        {
          "output_type": "stream",
          "name": "stdout",
          "text": [
            "(5056, 100)\n"
          ]
        }
      ],
      "source": [
        "print(x_train_preprocessed.shape)"
      ]
    },
    {
      "cell_type": "code",
      "execution_count": null,
      "metadata": {
        "id": "FXuuzLNIKxzn",
        "colab": {
          "base_uri": "https://localhost:8080/"
        },
        "outputId": "66829670-ba25-4c24-8a21-c82ebd7f5b8d"
      },
      "outputs": [
        {
          "output_type": "stream",
          "name": "stdout",
          "text": [
            "355\n",
            "4700\n",
            "355\n",
            "4700\n"
          ]
        }
      ],
      "source": [
        "x_valid_preprocessed = x_train_preprocessed[4701:size]\n",
        "x_train_preprocessed = x_train_preprocessed[0:4700]\n",
        "\n",
        "y_valid = y_train[4701:size]\n",
        "y_train = y_train[0:4700]\n",
        "\n",
        "print(len(x_valid_preprocessed))\n",
        "print(len(x_train_preprocessed))\n",
        "print(len(y_valid))\n",
        "print(len(y_train))"
      ]
    },
    {
      "cell_type": "markdown",
      "metadata": {
        "id": "mNMnOJuWNgww"
      },
      "source": [
        "### **General classifier**"
      ]
    },
    {
      "cell_type": "code",
      "execution_count": null,
      "metadata": {
        "id": "969vrwJrKxzn",
        "colab": {
          "base_uri": "https://localhost:8080/"
        },
        "outputId": "2862c30f-f421-4c86-bef8-099c4e93f88a"
      },
      "outputs": [
        {
          "output_type": "stream",
          "name": "stderr",
          "text": [
            "100%|██████████| 29/29 [00:48<00:00,  1.66s/it]"
          ]
        },
        {
          "output_type": "stream",
          "name": "stdout",
          "text": [
            "                               Accuracy  Balanced Accuracy ROC AUC  F1 Score  \\\n",
            "Model                                                                          \n",
            "KNeighborsClassifier               0.68               0.68    None      0.81   \n",
            "PassiveAggressiveClassifier        0.65               0.65    None      0.79   \n",
            "NearestCentroid                    0.58               0.58    None      0.73   \n",
            "Perceptron                         0.48               0.48    None      0.65   \n",
            "DummyClassifier                    0.46               0.46    None      0.63   \n",
            "BernoulliNB                        0.44               0.44    None      0.61   \n",
            "SGDClassifier                      0.44               0.44    None      0.61   \n",
            "GaussianNB                         0.43               0.43    None      0.60   \n",
            "LinearSVC                          0.41               0.41    None      0.58   \n",
            "ExtraTreeClassifier                0.40               0.40    None      0.57   \n",
            "NuSVC                              0.40               0.40    None      0.57   \n",
            "DecisionTreeClassifier             0.38               0.38    None      0.55   \n",
            "LogisticRegression                 0.37               0.37    None      0.54   \n",
            "RidgeClassifier                    0.37               0.37    None      0.54   \n",
            "LinearDiscriminantAnalysis         0.37               0.37    None      0.54   \n",
            "RidgeClassifierCV                  0.36               0.36    None      0.53   \n",
            "QuadraticDiscriminantAnalysis      0.35               0.35    None      0.52   \n",
            "SVC                                0.32               0.32    None      0.48   \n",
            "AdaBoostClassifier                 0.29               0.29    None      0.45   \n",
            "XGBClassifier                      0.28               0.28    None      0.44   \n",
            "LGBMClassifier                     0.25               0.25    None      0.40   \n",
            "ExtraTreesClassifier               0.15               0.15    None      0.27   \n",
            "BaggingClassifier                  0.15               0.15    None      0.26   \n",
            "RandomForestClassifier             0.10               0.10    None      0.18   \n",
            "LabelSpreading                     0.01               0.01    None      0.02   \n",
            "LabelPropagation                   0.01               0.01    None      0.02   \n",
            "CalibratedClassifierCV             0.00               0.00    None      0.00   \n",
            "\n",
            "                               Time Taken  \n",
            "Model                                      \n",
            "KNeighborsClassifier                 0.45  \n",
            "PassiveAggressiveClassifier          0.05  \n",
            "NearestCentroid                      0.05  \n",
            "Perceptron                           0.07  \n",
            "DummyClassifier                      0.03  \n",
            "BernoulliNB                          0.07  \n",
            "SGDClassifier                        0.23  \n",
            "GaussianNB                           0.04  \n",
            "LinearSVC                            1.59  \n",
            "ExtraTreeClassifier                  0.04  \n",
            "NuSVC                                3.58  \n",
            "DecisionTreeClassifier               0.85  \n",
            "LogisticRegression                   0.15  \n",
            "RidgeClassifier                      0.05  \n",
            "LinearDiscriminantAnalysis           0.19  \n",
            "RidgeClassifierCV                    0.14  \n",
            "QuadraticDiscriminantAnalysis        0.13  \n",
            "SVC                                  2.79  \n",
            "AdaBoostClassifier                   3.82  \n",
            "XGBClassifier                        6.64  \n",
            "LGBMClassifier                       2.65  \n",
            "ExtraTreesClassifier                 1.31  \n",
            "BaggingClassifier                    7.95  \n",
            "RandomForestClassifier               5.58  \n",
            "LabelSpreading                       1.47  \n",
            "LabelPropagation                     0.59  \n",
            "CalibratedClassifierCV               7.51  \n"
          ]
        },
        {
          "output_type": "stream",
          "name": "stderr",
          "text": [
            "\n"
          ]
        }
      ],
      "source": [
        "clf = LazyClassifier(verbose=0,ignore_warnings=True, custom_metric=None)\n",
        "models,predictions = clf.fit(np.array(x_train_preprocessed).reshape([len(x_train_preprocessed),vector_size]), np.array(x_valid_preprocessed).reshape([len(x_valid_preprocessed),vector_size]), y_train, y_valid)\n",
        "\n",
        "print(models)"
      ]
    },
    {
      "cell_type": "code",
      "execution_count": null,
      "metadata": {
        "id": "s972oJxQKxzn",
        "colab": {
          "base_uri": "https://localhost:8080/"
        },
        "outputId": "491b1b0c-b39c-4694-a0cf-6860fd8daae5"
      },
      "outputs": [
        {
          "output_type": "stream",
          "name": "stdout",
          "text": [
            "545 1043\n"
          ]
        }
      ],
      "source": [
        "models = clf.provide_models(np.array(x_train_preprocessed).reshape([len(x_train_preprocessed),vector_size]), np.array(x_valid_preprocessed).reshape([len(x_valid_preprocessed),vector_size]), y_train, y_valid)\n",
        "predictions = models['PassiveAggressiveClassifier'].predict(np.array(x_test_preprocessed).reshape([x_test.shape[0],vector_size]))\n",
        "\n",
        "print(sum([predictions[i] == y_test[i] for i in range(len(x_test))]), len(x_test))"
      ]
    },
    {
      "cell_type": "code",
      "execution_count": null,
      "metadata": {
        "id": "kFF9ysoXKxzn",
        "colab": {
          "base_uri": "https://localhost:8080/",
          "height": 538
        },
        "outputId": "0f8456ed-635f-47a3-ad50-dfb10bb3a2ab"
      },
      "outputs": [
        {
          "output_type": "stream",
          "name": "stdout",
          "text": [
            "Doc2vec, best general classifier, undersampling\n",
            "F-measure or f1-score:  0.6244343891402715\n",
            "Log loss:  16.491335923082158\n",
            "AUC:  0.49051739733461974\n",
            "Classification Report:\n",
            "              precision    recall  f1-score   support\n",
            "\n",
            "           1     0.6843    0.5742    0.6244       721\n",
            "           0     0.2991    0.4068    0.3447       322\n",
            "\n",
            "    accuracy                         0.5225      1043\n",
            "   macro avg     0.4917    0.4905    0.4846      1043\n",
            "weighted avg     0.5654    0.5225    0.5381      1043\n",
            "\n"
          ]
        },
        {
          "output_type": "display_data",
          "data": {
            "text/plain": [
              "<Figure size 432x288 with 2 Axes>"
            ],
            "image/png": "[encoded data removed]"
          },
          "metadata": {
            "needs_background": "light"
          }
        }
      ],
      "source": [
        "# model evaluation\n",
        "\n",
        "print(\"Doc2vec, best general classifier, undersampling\")\n",
        "print(\"F-measure or f1-score: \", f1_score(y_test, predictions))\n",
        "print(\"Log loss: \", log_loss(y_test, predictions))\n",
        "\n",
        "fpr, tpr, thresholds = roc_curve(y_test, predictions)\n",
        "\n",
        "print(\"AUC: \", auc(fpr, tpr))\n",
        "\n",
        "eval(y_test, predictions)"
      ]
    },
    {
      "cell_type": "markdown",
      "metadata": {
        "id": "E6JyC0k_M8jc"
      },
      "source": [
        "### **LSTM classifier**"
      ]
    },
    {
      "cell_type": "code",
      "execution_count": null,
      "metadata": {
        "id": "Zjcxa609Kxzn"
      },
      "outputs": [],
      "source": [
        "import pandas as pd\n",
        "import numpy as np\n",
        "from keras.models import Sequential\n",
        "from keras.layers import LSTM, Dense, Dropout\n",
        "from keras.callbacks import EarlyStopping, ModelCheckpoint\n",
        "from matplotlib import pyplot\n",
        "from keras.layers import Bidirectional"
      ]
    },
    {
      "cell_type": "code",
      "execution_count": null,
      "metadata": {
        "id": "d5qn_siJKxzo",
        "colab": {
          "base_uri": "https://localhost:8080/"
        },
        "outputId": "75d07de3-f01f-40de-f602-3f59798e315a"
      },
      "outputs": [
        {
          "output_type": "stream",
          "name": "stdout",
          "text": [
            "Epoch 1/50\n",
            "37/37 [==============================] - 19s 274ms/step - loss: 0.6866 - val_loss: 0.7435\n",
            "Epoch 2/50\n",
            "37/37 [==============================] - 5s 133ms/step - loss: 0.6715 - val_loss: 0.7306\n",
            "Epoch 3/50\n",
            "37/37 [==============================] - 5s 132ms/step - loss: 0.6657 - val_loss: 0.7010\n",
            "Epoch 4/50\n",
            "37/37 [==============================] - 5s 133ms/step - loss: 0.6600 - val_loss: 0.8503\n",
            "Epoch 5/50\n",
            "37/37 [==============================] - 5s 132ms/step - loss: 0.6501 - val_loss: 0.7445\n",
            "Epoch 6/50\n",
            "37/37 [==============================] - 6s 154ms/step - loss: 0.6406 - val_loss: 0.7361\n",
            "Epoch 7/50\n",
            "37/37 [==============================] - 5s 132ms/step - loss: 0.6242 - val_loss: 0.8584\n",
            "Epoch 8/50\n",
            "37/37 [==============================] - 5s 133ms/step - loss: 0.6061 - val_loss: 0.8418\n",
            "Epoch 9/50\n",
            "37/37 [==============================] - 5s 131ms/step - loss: 0.5836 - val_loss: 0.9304\n",
            "Epoch 10/50\n",
            "37/37 [==============================] - 5s 134ms/step - loss: 0.5654 - val_loss: 0.8289\n"
          ]
        },
        {
          "output_type": "execute_result",
          "data": {
            "text/plain": [
              "<keras.callbacks.History at 0x7f2c6b9e73d0>"
            ]
          },
          "metadata": {},
          "execution_count": 66
        }
      ],
      "source": [
        "lstm = Sequential()\n",
        "lstm.add(Bidirectional(LSTM(768, return_sequences=False)))\n",
        "lstm.add(Dense(1, activation='sigmoid'))\n",
        "\n",
        "callback = EarlyStopping(monitor='val_loss', patience=7)\n",
        "\n",
        "lstm.compile(loss='binary_crossentropy', optimizer='adam')\n",
        "lstm.fit(np.array(x_train_preprocessed).reshape([len(x_train_preprocessed),1,vector_size]), y_train, validation_data=(np.array(x_valid_preprocessed).reshape([len(x_valid_preprocessed),1,vector_size]), y_valid), epochs=50, batch_size=128, verbose=1, shuffle=True, callbacks=[callback])\n"
      ]
    },
    {
      "cell_type": "code",
      "execution_count": null,
      "metadata": {
        "id": "nlSNjqb0Kxzo",
        "colab": {
          "base_uri": "https://localhost:8080/"
        },
        "outputId": "164bac32-406e-4922-e645-6a8b814582fd"
      },
      "outputs": [
        {
          "output_type": "stream",
          "name": "stdout",
          "text": [
            "721 1043\n"
          ]
        }
      ],
      "source": [
        "import math\n",
        "\n",
        "predictions_lstm = lstm.predict(np.array(x_test_preprocessed).reshape([len(x_test_preprocessed),1,vector_size]))\n",
        "\n",
        "print(sum([math.ceil(predictions_lstm[i]) == y_test[i] for i in range(len(x_test))]), len(x_test))"
      ]
    },
    {
      "cell_type": "code",
      "execution_count": null,
      "metadata": {
        "id": "e4s6i6m1Kxzo",
        "colab": {
          "base_uri": "https://localhost:8080/",
          "height": 573
        },
        "outputId": "216ddbca-a38d-4fa3-d4fc-49c2797461fe"
      },
      "outputs": [
        {
          "output_type": "stream",
          "name": "stdout",
          "text": [
            "Doc2Vec, LSTM, undersampling\n",
            "F-measure or f1-score:  0.8174603174603174\n",
            "Log loss:  1.406718177981876\n",
            "Log loss:  10.663224803004567\n",
            "AUC:  0.4690474754697151\n",
            "AUC:  0.5\n",
            "Classification Report:\n",
            "              precision    recall  f1-score   support\n",
            "\n",
            "           1     0.6913    1.0000    0.8175       721\n",
            "           0     0.0000    0.0000    0.0000       322\n",
            "\n",
            "    accuracy                         0.6913      1043\n",
            "   macro avg     0.3456    0.5000    0.4087      1043\n",
            "weighted avg     0.4779    0.6913    0.5651      1043\n",
            "\n"
          ]
        },
        {
          "output_type": "display_data",
          "data": {
            "text/plain": [
              "<Figure size 432x288 with 2 Axes>"
            ],
            "image/png": "[encoded data removed]"
          },
          "metadata": {
            "needs_background": "light"
          }
        }
      ],
      "source": [
        "# model evaluation\n",
        "\n",
        "print(\"Doc2Vec, LSTM, undersampling\")\n",
        "print(\"F-measure or f1-score: \", f1_score(y_test, [math.ceil(predictions_lstm[i]) for i in range(len(predictions_lstm))]))\n",
        "print(\"Log loss: \", log_loss(y_test, predictions_lstm))\n",
        "print(\"Log loss: \", log_loss(y_test, [math.ceil(predictions_lstm[i]) for i in range(len(predictions_lstm))]))\n",
        "\n",
        "fpr, tpr, thresholds = roc_curve(y_test, predictions_lstm)\n",
        "\n",
        "print(\"AUC: \", auc(fpr, tpr))\n",
        "\n",
        "fpr, tpr, thresholds = roc_curve(y_test,[math.ceil(predictions_lstm[i]) for i in range(len(predictions_lstm))])\n",
        "\n",
        "print(\"AUC: \", auc(fpr, tpr))\n",
        "\n",
        "eval(y_test, [math.ceil(predictions_lstm[i]) for i in range(len(predictions_lstm))])"
      ]
    },
    {
      "cell_type": "markdown",
      "metadata": {
        "id": "wWX_ttWMOE7j"
      },
      "source": [
        "# **Oversampling**\n",
        "\n",
        "Here we apply oversampling techique - SMOTE - in order to assess the contribution of it on classifier performance"
      ]
    },
    {
      "cell_type": "code",
      "execution_count": null,
      "metadata": {
        "id": "Hx7JTmZ7OE7k"
      },
      "outputs": [],
      "source": [
        "## CoLA\n",
        "import pandas as pd\n",
        "\n",
        "data_pth = '/content/data'\n",
        "TASKS = [\"CoLA\", \"SST-2\", \"RTE\"]\n",
        "\n",
        "colnames_train = ['id', 'index', 'field_1', 'sentence']\n",
        "colnames_test = ['index', 'sentence']\n",
        "train_data = pd.read_table(os.path.join(data_pth, TASKS[0], 'train.tsv'), names=colnames_train, header=None)\n",
        "test_data = pd.read_table(os.path.join(data_pth, TASKS[0], 'dev.tsv'), names=colnames_train, header=None)"
      ]
    },
    {
      "cell_type": "code",
      "execution_count": null,
      "metadata": {
        "id": "tCi5ag8MOE7k"
      },
      "outputs": [],
      "source": [
        "test_data"
      ]
    },
    {
      "cell_type": "code",
      "execution_count": null,
      "metadata": {
        "id": "AsgpZoILOE7k"
      },
      "outputs": [],
      "source": [
        "x_train = train_data.loc[:,'sentence']\n",
        "y_train = train_data.loc[:,'index']\n",
        "x_test = test_data.loc[:,'sentence']\n",
        "y_test = test_data.loc[:,'index']"
      ]
    },
    {
      "cell_type": "markdown",
      "metadata": {
        "id": "gZtCWFdSOE7k"
      },
      "source": [
        "## **BERT**"
      ]
    },
    {
      "cell_type": "code",
      "execution_count": null,
      "metadata": {
        "id": "uP84wGzzOE7k"
      },
      "outputs": [],
      "source": [
        "import time\n",
        "from transformers import AutoTokenizer, AutoModel\n",
        "import torch\n",
        "import nltk\n",
        "nltk.download('stopwords')\n",
        "nltk.download('punkt')\n",
        "from nltk.corpus import stopwords\n",
        "from nltk.tokenize import word_tokenize\n",
        "from sklearn.metrics.pairwise import cosine_similarity\n",
        "\n",
        "stop_words = set(stopwords.words('english'))\n",
        "tokenizer = AutoTokenizer.from_pretrained('sentence-transformers/bert-base-nli-mean-tokens')\n",
        "model = AutoModel.from_pretrained('sentence-transformers/bert-base-nli-mean-tokens')\n",
        "\n",
        "def sent_preprocess(sentence):\n",
        "  word_tokens = word_tokenize(sentence)\n",
        "  filtered_sentence = [w.lower() for w in word_tokens if w not in stop_words]\n",
        "  \n",
        "  tokens = {'input_ids': [], 'attention_mask': []}\n",
        "\n",
        "  new_tokens = tokenizer.encode_plus(sentence, max_length=128,\n",
        "                                      truncation=True, padding='max_length',\n",
        "                                      return_tensors='pt')\n",
        "  tokens['input_ids'].append(new_tokens['input_ids'][0])\n",
        "  tokens['attention_mask'].append(new_tokens['attention_mask'][0])\n",
        "\n",
        "  tokens['input_ids'] = torch.stack(tokens['input_ids'])\n",
        "  tokens['attention_mask'] = torch.stack(tokens['attention_mask'])\n",
        "\n",
        "  outputs = model(**tokens)\n",
        "  embeddings = outputs.last_hidden_state\n",
        "\n",
        "  attention_mask = tokens['attention_mask']\n",
        "  mask = attention_mask.unsqueeze(-1).expand(embeddings.size()).float()\n",
        "  masked_embeddings = embeddings * mask\n",
        "  summed = torch.sum(masked_embeddings, 1)\n",
        "  summed_mask = torch.clamp(mask.sum(1), min=1e-9)\n",
        "  mean_pooled = summed / summed_mask\n",
        "\n",
        "  mean_pooled = mean_pooled.detach().numpy()\n",
        "\n",
        "  return mean_pooled"
      ]
    },
    {
      "cell_type": "code",
      "execution_count": null,
      "metadata": {
        "id": "XZCIFlMxOE7l"
      },
      "outputs": [],
      "source": [
        "import tqdm\n",
        "\n",
        "if x_test_preprocessed_bert and x_train_preprocessed_bert:\n",
        "  x_train_preprocessed = x_train_preprocessed_bert\n",
        "  x_test_preprocessed = x_test_preprocessed_bert\n",
        "else:\n",
        "  x_train_preprocessed = [sent_preprocess(sent) for sent in tqdm.tqdm(x_train)]\n",
        "  x_test_preprocessed = [sent_preprocess(sent) for sent in tqdm.tqdm(x_test)]"
      ]
    },
    {
      "cell_type": "code",
      "execution_count": null,
      "metadata": {
        "id": "K1_iWf1DTM_7"
      },
      "outputs": [],
      "source": [
        "from imblearn.over_sampling import SMOTE\n",
        "sm = SMOTE()\n",
        "\n",
        "vector_size = 768\n",
        "\n",
        "x_train_preprocessed, y_train = sm.fit_resample(np.array(x_train_preprocessed).reshape([len(x_train_preprocessed), vector_size]), y_train)"
      ]
    },
    {
      "cell_type": "code",
      "source": [
        "x_train_preprocessed = x_train_preprocessed.reshape([len(x_train_preprocessed), 1, vector_size])"
      ],
      "metadata": {
        "id": "7825tHsCuxeI"
      },
      "execution_count": null,
      "outputs": []
    },
    {
      "cell_type": "code",
      "execution_count": null,
      "metadata": {
        "id": "mLrBGJ4nOE7l"
      },
      "outputs": [],
      "source": [
        "from lazypredict.Supervised import LazyClassifier\n",
        "import numpy as np\n",
        "import pandas as pd\n",
        "\n",
        "size = np.array(x_train_preprocessed).shape[0]\n",
        "vector_size = 768\n",
        "\n",
        "df_train = pd.DataFrame(np.array(x_train_preprocessed).reshape([size,vector_size]))\n",
        "df_test = pd.DataFrame(np.array(x_test_preprocessed).reshape([np.array(x_test_preprocessed).shape[0],vector_size]))\n",
        "\n",
        "df_train.to_csv('df_train_CoLA_over.csv')\n",
        "df_test.to_csv('df_test_CoLA_over.csv')"
      ]
    },
    {
      "cell_type": "code",
      "source": [
        "print(len(x_train_preprocessed))"
      ],
      "metadata": {
        "colab": {
          "base_uri": "https://localhost:8080/"
        },
        "id": "KC0JM07iu_Vn",
        "outputId": "0bf6d803-d93a-4ba1-f302-d4bc38efa958"
      },
      "execution_count": null,
      "outputs": [
        {
          "output_type": "stream",
          "name": "stdout",
          "text": [
            "12046\n"
          ]
        }
      ]
    },
    {
      "cell_type": "code",
      "execution_count": null,
      "metadata": {
        "id": "U6WEpJHLOE7l"
      },
      "outputs": [],
      "source": [
        "x_valid_preprocessed = x_train_preprocessed[11201:size]\n",
        "x_train_preprocessed = x_train_preprocessed[0:11200]\n",
        "\n",
        "y_valid = y_train[11201:size]\n",
        "y_train = y_train[0:11200]\n",
        "\n",
        "print(len(x_valid_preprocessed))\n",
        "print(len(x_train_preprocessed))\n",
        "print(len(y_valid))\n",
        "print(len(y_train))"
      ]
    },
    {
      "cell_type": "markdown",
      "metadata": {
        "id": "dmDJ7aaYOE7l"
      },
      "source": [
        "### **General Classifiers**"
      ]
    },
    {
      "cell_type": "code",
      "execution_count": null,
      "metadata": {
        "id": "PzGBuOjuOE7l",
        "colab": {
          "base_uri": "https://localhost:8080/"
        },
        "outputId": "8c600155-9d4f-4654-93cd-ed20ca7a4a64"
      },
      "outputs": [
        {
          "output_type": "stream",
          "name": "stderr",
          "text": [
            "100%|██████████| 29/29 [13:36<00:00, 28.16s/it]"
          ]
        },
        {
          "output_type": "stream",
          "name": "stdout",
          "text": [
            "                               Accuracy  Balanced Accuracy ROC AUC  F1 Score  \\\n",
            "Model                                                                          \n",
            "LabelSpreading                     1.00               1.00    None      1.00   \n",
            "LabelPropagation                   1.00               1.00    None      1.00   \n",
            "XGBClassifier                      0.98               0.98    None      0.99   \n",
            "QuadraticDiscriminantAnalysis      0.96               0.96    None      0.98   \n",
            "ExtraTreesClassifier               0.96               0.96    None      0.98   \n",
            "NuSVC                              0.95               0.95    None      0.98   \n",
            "KNeighborsClassifier               0.95               0.95    None      0.97   \n",
            "RandomForestClassifier             0.95               0.95    None      0.97   \n",
            "LGBMClassifier                     0.94               0.94    None      0.97   \n",
            "SVC                                0.93               0.93    None      0.96   \n",
            "BaggingClassifier                  0.92               0.92    None      0.96   \n",
            "ExtraTreeClassifier                0.81               0.81    None      0.90   \n",
            "DecisionTreeClassifier             0.80               0.80    None      0.89   \n",
            "LinearDiscriminantAnalysis         0.75               0.75    None      0.86   \n",
            "RidgeClassifier                    0.75               0.75    None      0.86   \n",
            "RidgeClassifierCV                  0.75               0.75    None      0.86   \n",
            "LogisticRegression                 0.75               0.75    None      0.86   \n",
            "LinearSVC                          0.70               0.70    None      0.83   \n",
            "GaussianNB                         0.70               0.70    None      0.83   \n",
            "SGDClassifier                      0.70               0.70    None      0.83   \n",
            "AdaBoostClassifier                 0.69               0.69    None      0.82   \n",
            "PassiveAggressiveClassifier        0.68               0.68    None      0.81   \n",
            "Perceptron                         0.66               0.66    None      0.79   \n",
            "NearestCentroid                    0.58               0.58    None      0.74   \n",
            "BernoulliNB                        0.56               0.56    None      0.72   \n",
            "CalibratedClassifierCV             0.55               0.55    None      0.71   \n",
            "DummyClassifier                    0.46               0.46    None      0.63   \n",
            "\n",
            "                               Time Taken  \n",
            "Model                                      \n",
            "LabelSpreading                      11.20  \n",
            "LabelPropagation                     9.03  \n",
            "XGBClassifier                      120.35  \n",
            "QuadraticDiscriminantAnalysis        3.38  \n",
            "ExtraTreesClassifier                 8.44  \n",
            "NuSVC                              124.64  \n",
            "KNeighborsClassifier                15.79  \n",
            "RandomForestClassifier              36.15  \n",
            "LGBMClassifier                      31.69  \n",
            "SVC                                107.47  \n",
            "BaggingClassifier                  115.04  \n",
            "ExtraTreeClassifier                  0.44  \n",
            "DecisionTreeClassifier              19.92  \n",
            "LinearDiscriminantAnalysis           3.90  \n",
            "RidgeClassifier                      0.70  \n",
            "RidgeClassifierCV                    3.28  \n",
            "LogisticRegression                   2.18  \n",
            "LinearSVC                           26.49  \n",
            "GaussianNB                           0.46  \n",
            "SGDClassifier                        3.27  \n",
            "AdaBoostClassifier                  64.51  \n",
            "PassiveAggressiveClassifier          0.93  \n",
            "Perceptron                           0.68  \n",
            "NearestCentroid                      0.44  \n",
            "BernoulliNB                          0.59  \n",
            "CalibratedClassifierCV             104.83  \n",
            "DummyClassifier                      0.37  \n"
          ]
        },
        {
          "output_type": "stream",
          "name": "stderr",
          "text": [
            "\n"
          ]
        }
      ],
      "source": [
        "clf = LazyClassifier(verbose=0,ignore_warnings=True, custom_metric=None)\n",
        "models,predictions = clf.fit(np.array(x_train_preprocessed).reshape([len(x_train_preprocessed),vector_size]), np.array(x_valid_preprocessed).reshape([len(x_valid_preprocessed),vector_size]), y_train, y_valid)\n",
        "\n",
        "print(models)"
      ]
    },
    {
      "cell_type": "code",
      "execution_count": null,
      "metadata": {
        "id": "6kdnIvovOE7l",
        "colab": {
          "base_uri": "https://localhost:8080/"
        },
        "outputId": "3a20928b-43c6-43fa-f69f-420fc8a1602b"
      },
      "outputs": [
        {
          "output_type": "stream",
          "name": "stdout",
          "text": [
            "736 1043\n"
          ]
        }
      ],
      "source": [
        "models = clf.provide_models(np.array(x_train_preprocessed).reshape([len(x_train_preprocessed),vector_size]), np.array(x_valid_preprocessed).reshape([len(x_valid_preprocessed),vector_size]), y_train, y_valid)\n",
        "predictions = models['NuSVC'].predict(np.array(x_test_preprocessed).reshape([x_test.shape[0],vector_size]))\n",
        "\n",
        "print(sum([predictions[i] == y_test[i] for i in range(len(x_test))]), len(x_test))"
      ]
    },
    {
      "cell_type": "code",
      "execution_count": null,
      "metadata": {
        "id": "Ijb-sMHKOE7l",
        "colab": {
          "base_uri": "https://localhost:8080/",
          "height": 538
        },
        "outputId": "f51398a8-cab3-4b70-c889-1dc05bc998dd"
      },
      "outputs": [
        {
          "output_type": "stream",
          "name": "stdout",
          "text": [
            "BERT, best general classifier, oversampling\n",
            "F-measure or f1-score:  0.7997390737116764\n",
            "Log loss:  10.16640793204812\n",
            "AUC:  0.6160978110112767\n",
            "Classification Report:\n",
            "              precision    recall  f1-score   support\n",
            "\n",
            "           1     0.7549    0.8502    0.7997       721\n",
            "           0     0.5325    0.3820    0.4448       322\n",
            "\n",
            "    accuracy                         0.7057      1043\n",
            "   macro avg     0.6437    0.6161    0.6223      1043\n",
            "weighted avg     0.6862    0.7057    0.6902      1043\n",
            "\n"
          ]
        },
        {
          "output_type": "display_data",
          "data": {
            "text/plain": [
              "<Figure size 432x288 with 2 Axes>"
            ],
            "image/png": "[encoded data removed]"
          },
          "metadata": {
            "needs_background": "light"
          }
        }
      ],
      "source": [
        "# model evaluation\n",
        "\n",
        "print(\"BERT, best general classifier, oversampling\")\n",
        "print(\"F-measure or f1-score: \", f1_score(y_test, predictions))\n",
        "print(\"Log loss: \", log_loss(y_test, predictions))\n",
        "\n",
        "fpr, tpr, thresholds = roc_curve(y_test, predictions)\n",
        "\n",
        "print(\"AUC: \", auc(fpr, tpr))\n",
        "\n",
        "eval(y_test, predictions)"
      ]
    },
    {
      "cell_type": "markdown",
      "metadata": {
        "id": "8V8y8w_4OE7l"
      },
      "source": [
        "### **LSTM classifier**"
      ]
    },
    {
      "cell_type": "code",
      "execution_count": null,
      "metadata": {
        "id": "4rEagUmvOE7l"
      },
      "outputs": [],
      "source": [
        "import pandas as pd\n",
        "import numpy as np\n",
        "from keras.models import Sequential\n",
        "from keras.layers import LSTM, Dense, Dropout\n",
        "from keras.callbacks import EarlyStopping, ModelCheckpoint\n",
        "from matplotlib import pyplot\n",
        "from keras.layers import Bidirectional"
      ]
    },
    {
      "cell_type": "code",
      "execution_count": null,
      "metadata": {
        "id": "ZJuyxS68OE7m",
        "colab": {
          "base_uri": "https://localhost:8080/"
        },
        "outputId": "28ae0f15-4b38-41e0-8d14-7191ff257298"
      },
      "outputs": [
        {
          "output_type": "stream",
          "name": "stdout",
          "text": [
            "Epoch 1/50\n",
            "88/88 [==============================] - 33s 313ms/step - loss: 0.6548 - val_loss: 0.6640\n",
            "Epoch 2/50\n",
            "88/88 [==============================] - 19s 211ms/step - loss: 0.5750 - val_loss: 0.5389\n",
            "Epoch 3/50\n",
            "88/88 [==============================] - 18s 200ms/step - loss: 0.5031 - val_loss: 0.5935\n",
            "Epoch 4/50\n",
            "88/88 [==============================] - 18s 200ms/step - loss: 0.4459 - val_loss: 0.2842\n",
            "Epoch 5/50\n",
            "88/88 [==============================] - 18s 201ms/step - loss: 0.3952 - val_loss: 0.3078\n",
            "Epoch 6/50\n",
            "88/88 [==============================] - 17s 199ms/step - loss: 0.3449 - val_loss: 0.2824\n",
            "Epoch 7/50\n",
            "88/88 [==============================] - 17s 198ms/step - loss: 0.3019 - val_loss: 0.1533\n",
            "Epoch 8/50\n",
            "88/88 [==============================] - 18s 210ms/step - loss: 0.2671 - val_loss: 0.1740\n",
            "Epoch 9/50\n",
            "88/88 [==============================] - 18s 199ms/step - loss: 0.2380 - val_loss: 0.1476\n",
            "Epoch 10/50\n",
            "88/88 [==============================] - 18s 200ms/step - loss: 0.2096 - val_loss: 0.2070\n",
            "Epoch 11/50\n",
            "88/88 [==============================] - 18s 200ms/step - loss: 0.1958 - val_loss: 0.1250\n",
            "Epoch 12/50\n",
            "88/88 [==============================] - 18s 201ms/step - loss: 0.1771 - val_loss: 0.1086\n",
            "Epoch 13/50\n",
            "88/88 [==============================] - 18s 200ms/step - loss: 0.1645 - val_loss: 0.1119\n",
            "Epoch 14/50\n",
            "88/88 [==============================] - 19s 211ms/step - loss: 0.1405 - val_loss: 0.1910\n",
            "Epoch 15/50\n",
            "88/88 [==============================] - 18s 201ms/step - loss: 0.1426 - val_loss: 0.1095\n",
            "Epoch 16/50\n",
            "88/88 [==============================] - 18s 199ms/step - loss: 0.1279 - val_loss: 0.0759\n",
            "Epoch 17/50\n",
            "88/88 [==============================] - 18s 201ms/step - loss: 0.1242 - val_loss: 0.1089\n",
            "Epoch 18/50\n",
            "88/88 [==============================] - 18s 200ms/step - loss: 0.1107 - val_loss: 0.0747\n",
            "Epoch 19/50\n",
            "88/88 [==============================] - 18s 202ms/step - loss: 0.1015 - val_loss: 0.1165\n",
            "Epoch 20/50\n",
            "88/88 [==============================] - 18s 200ms/step - loss: 0.1008 - val_loss: 0.0972\n",
            "Epoch 21/50\n",
            "88/88 [==============================] - 18s 201ms/step - loss: 0.1022 - val_loss: 0.1358\n",
            "Epoch 22/50\n",
            "88/88 [==============================] - 18s 200ms/step - loss: 0.0896 - val_loss: 0.0675\n",
            "Epoch 23/50\n",
            "88/88 [==============================] - 18s 199ms/step - loss: 0.0856 - val_loss: 0.0444\n",
            "Epoch 24/50\n",
            "88/88 [==============================] - 18s 200ms/step - loss: 0.0871 - val_loss: 0.0344\n",
            "Epoch 25/50\n",
            "88/88 [==============================] - 17s 199ms/step - loss: 0.0835 - val_loss: 0.0411\n",
            "Epoch 26/50\n",
            "88/88 [==============================] - 18s 200ms/step - loss: 0.0912 - val_loss: 0.0661\n",
            "Epoch 27/50\n",
            "88/88 [==============================] - 18s 202ms/step - loss: 0.0777 - val_loss: 0.0839\n",
            "Epoch 28/50\n",
            "88/88 [==============================] - 18s 200ms/step - loss: 0.0686 - val_loss: 0.0537\n",
            "Epoch 29/50\n",
            "88/88 [==============================] - 18s 202ms/step - loss: 0.0650 - val_loss: 0.0448\n",
            "Epoch 30/50\n",
            "88/88 [==============================] - 18s 199ms/step - loss: 0.0657 - val_loss: 0.0622\n",
            "Epoch 31/50\n",
            "88/88 [==============================] - 18s 201ms/step - loss: 0.0692 - val_loss: 0.0312\n",
            "Epoch 32/50\n",
            "88/88 [==============================] - 18s 199ms/step - loss: 0.0622 - val_loss: 0.0277\n",
            "Epoch 33/50\n",
            "88/88 [==============================] - 18s 199ms/step - loss: 0.0569 - val_loss: 0.0517\n",
            "Epoch 34/50\n",
            "88/88 [==============================] - 18s 201ms/step - loss: 0.0586 - val_loss: 0.0452\n",
            "Epoch 35/50\n",
            "88/88 [==============================] - 18s 201ms/step - loss: 0.0587 - val_loss: 0.0444\n",
            "Epoch 36/50\n",
            "88/88 [==============================] - 18s 199ms/step - loss: 0.0537 - val_loss: 0.0206\n",
            "Epoch 37/50\n",
            "88/88 [==============================] - 18s 201ms/step - loss: 0.0557 - val_loss: 0.0449\n",
            "Epoch 38/50\n",
            "88/88 [==============================] - 18s 200ms/step - loss: 0.0503 - val_loss: 0.0306\n",
            "Epoch 39/50\n",
            "88/88 [==============================] - 18s 207ms/step - loss: 0.0467 - val_loss: 0.0183\n",
            "Epoch 40/50\n",
            "88/88 [==============================] - 18s 200ms/step - loss: 0.0542 - val_loss: 0.0356\n",
            "Epoch 41/50\n",
            "88/88 [==============================] - 18s 200ms/step - loss: 0.0508 - val_loss: 0.0456\n",
            "Epoch 42/50\n",
            "88/88 [==============================] - 18s 200ms/step - loss: 0.0455 - val_loss: 0.0322\n",
            "Epoch 43/50\n",
            "88/88 [==============================] - 18s 199ms/step - loss: 0.0449 - val_loss: 0.0781\n",
            "Epoch 44/50\n",
            "88/88 [==============================] - 18s 200ms/step - loss: 0.0548 - val_loss: 0.0461\n",
            "Epoch 45/50\n",
            "88/88 [==============================] - 18s 200ms/step - loss: 0.0475 - val_loss: 0.0156\n",
            "Epoch 46/50\n",
            "88/88 [==============================] - 18s 200ms/step - loss: 0.0470 - val_loss: 0.0404\n",
            "Epoch 47/50\n",
            "88/88 [==============================] - 18s 200ms/step - loss: 0.0452 - val_loss: 0.0301\n",
            "Epoch 48/50\n",
            "88/88 [==============================] - 18s 202ms/step - loss: 0.0427 - val_loss: 0.0640\n",
            "Epoch 49/50\n",
            "88/88 [==============================] - 18s 201ms/step - loss: 0.0455 - val_loss: 0.0215\n",
            "Epoch 50/50\n",
            "88/88 [==============================] - 18s 200ms/step - loss: 0.0453 - val_loss: 0.0230\n"
          ]
        },
        {
          "output_type": "execute_result",
          "data": {
            "text/plain": [
              "<keras.callbacks.History at 0x7f2c64a69590>"
            ]
          },
          "metadata": {},
          "execution_count": 90
        }
      ],
      "source": [
        "lstm = Sequential()\n",
        "lstm.add(Bidirectional(LSTM(768, return_sequences=False)))\n",
        "lstm.add(Dense(1, activation='sigmoid'))\n",
        "\n",
        "callback = EarlyStopping(monitor='val_loss', patience=7)\n",
        "\n",
        "lstm.compile(loss='binary_crossentropy', optimizer='adam')\n",
        "lstm.fit(np.array(x_train_preprocessed), y_train, validation_data=(np.array(x_valid_preprocessed), y_valid), epochs=50, batch_size=128, verbose=1, shuffle=True, callbacks=[callback])\n"
      ]
    },
    {
      "cell_type": "code",
      "execution_count": null,
      "metadata": {
        "id": "YjQ0ijkVOE7m",
        "colab": {
          "base_uri": "https://localhost:8080/"
        },
        "outputId": "92a4eaa9-9422-42f5-8aaa-8f8fdb70e89e"
      },
      "outputs": [
        {
          "output_type": "stream",
          "name": "stdout",
          "text": [
            "721 1043\n"
          ]
        }
      ],
      "source": [
        "import math\n",
        "\n",
        "predictions_lstm = lstm.predict(np.array(x_test_preprocessed))\n",
        "\n",
        "print(sum([math.ceil(predictions_lstm[i]) == y_test[i] for i in range(len(x_test))]), len(x_test))"
      ]
    },
    {
      "cell_type": "code",
      "execution_count": null,
      "metadata": {
        "id": "SmrlQgK_OE7m",
        "colab": {
          "base_uri": "https://localhost:8080/",
          "height": 573
        },
        "outputId": "f5eb81f1-5f42-42da-ebea-3d8e1e183c89"
      },
      "outputs": [
        {
          "output_type": "stream",
          "name": "stdout",
          "text": [
            "BERT, LSTM, oversampling\n",
            "F-measure or f1-score:  0.8174603174603174\n",
            "Log loss:  nan\n",
            "Log loss:  10.663224803004567\n",
            "AUC:  0.6805011156003136\n",
            "AUC:  0.5\n",
            "Classification Report:\n",
            "              precision    recall  f1-score   support\n",
            "\n",
            "           1     0.6913    1.0000    0.8175       721\n",
            "           0     0.0000    0.0000    0.0000       322\n",
            "\n",
            "    accuracy                         0.6913      1043\n",
            "   macro avg     0.3456    0.5000    0.4087      1043\n",
            "weighted avg     0.4779    0.6913    0.5651      1043\n",
            "\n"
          ]
        },
        {
          "output_type": "display_data",
          "data": {
            "text/plain": [
              "<Figure size 432x288 with 2 Axes>"
            ],
            "image/png": "[encoded data removed]"
          },
          "metadata": {
            "needs_background": "light"
          }
        }
      ],
      "source": [
        "# model evaluation\n",
        "\n",
        "print(\"BERT, LSTM, oversampling\")\n",
        "print(\"F-measure or f1-score: \", f1_score(y_test, [math.ceil(predictions_lstm[i]) for i in range(len(predictions_lstm))]))\n",
        "print(\"Log loss: \", log_loss(y_test, predictions_lstm))\n",
        "print(\"Log loss: \", log_loss(y_test, [math.ceil(predictions_lstm[i]) for i in range(len(predictions_lstm))]))\n",
        "\n",
        "fpr, tpr, thresholds = roc_curve(y_test, predictions_lstm)\n",
        "\n",
        "print(\"AUC: \", auc(fpr, tpr))\n",
        "\n",
        "fpr, tpr, thresholds = roc_curve(y_test,[math.ceil(predictions_lstm[i]) for i in range(len(predictions_lstm))])\n",
        "\n",
        "print(\"AUC: \", auc(fpr, tpr))\n",
        "\n",
        "eval(y_test, [math.ceil(predictions_lstm[i]) for i in range(len(predictions_lstm))])"
      ]
    },
    {
      "cell_type": "markdown",
      "metadata": {
        "id": "990ak_IcOE7m"
      },
      "source": [
        "## **Doc2Vec**"
      ]
    },
    {
      "cell_type": "code",
      "execution_count": null,
      "metadata": {
        "id": "opfEVZxsOE7m"
      },
      "outputs": [],
      "source": [
        "!pip install --upgrade numpy"
      ]
    },
    {
      "cell_type": "code",
      "execution_count": null,
      "metadata": {
        "id": "OZBOqTl9OE7m"
      },
      "outputs": [],
      "source": [
        "tagged_train_sent = sent_tokenize(x_train)\n",
        "tagged_test_sent = sent_tokenize(x_test)"
      ]
    },
    {
      "cell_type": "code",
      "execution_count": null,
      "metadata": {
        "id": "H0nwcFSiOE7m"
      },
      "outputs": [],
      "source": [
        "tagged_train_sent"
      ]
    },
    {
      "cell_type": "code",
      "execution_count": null,
      "metadata": {
        "id": "Mp4KPapjOE7m"
      },
      "outputs": [],
      "source": [
        "vector_size = 100\n",
        "\n",
        "model_doc2vec = Doc2Vec(tagged_train_sent+tagged_test_sent, vector_size = vector_size, window = 4, min_count = 1, epochs = 100)"
      ]
    },
    {
      "cell_type": "code",
      "execution_count": null,
      "metadata": {
        "id": "pIjYsNRDOE7m"
      },
      "outputs": [],
      "source": [
        "import tqdm\n",
        "\n",
        "if x_test_preprocessed_doc2vec and x_train_preprocessed_doc2vec:\n",
        "  x_test_preprocessed = x_test_preprocessed_doc2vec\n",
        "  x_train_preprocessed = x_train_preprocessed_doc2vec\n",
        "else:\n",
        "  x_train_preprocessed = [model_doc2vec.infer_vector(word_tokenize(sent.lower())) for sent in tqdm.tqdm(x_train)]\n",
        "  x_test_preprocessed = [model_doc2vec.infer_vector(word_tokenize(sent.lower())) for sent in tqdm.tqdm(x_test)]"
      ]
    },
    {
      "cell_type": "code",
      "source": [
        "x_train = train_data.loc[:,'sentence']\n",
        "y_train = train_data.loc[:,'index']\n",
        "x_test = test_data.loc[:,'sentence']\n",
        "y_test = test_data.loc[:,'index']"
      ],
      "metadata": {
        "id": "NJmE1g3b21_Z"
      },
      "execution_count": null,
      "outputs": []
    },
    {
      "cell_type": "code",
      "execution_count": null,
      "metadata": {
        "id": "vKEiPRkxTYn6"
      },
      "outputs": [],
      "source": [
        "from imblearn.over_sampling import SMOTE\n",
        "sm = SMOTE()\n",
        "\n",
        "x_train_preprocessed, y_train = sm.fit_resample(x_train_preprocessed, y_train)"
      ]
    },
    {
      "cell_type": "code",
      "execution_count": null,
      "metadata": {
        "id": "U-dRCF78OE7n",
        "colab": {
          "base_uri": "https://localhost:8080/"
        },
        "outputId": "e26a4739-d81e-474b-8989-4f5bf8d8ad66"
      },
      "outputs": [
        {
          "output_type": "execute_result",
          "data": {
            "text/plain": [
              "(12046, 100)"
            ]
          },
          "metadata": {},
          "execution_count": 97
        }
      ],
      "source": [
        "import numpy as np\n",
        "\n",
        "np.array(x_train_preprocessed).shape"
      ]
    },
    {
      "cell_type": "code",
      "execution_count": null,
      "metadata": {
        "id": "xjWcvzLXOE7n"
      },
      "outputs": [],
      "source": [
        "from lazypredict.Supervised import LazyClassifier\n",
        "import numpy as np\n",
        "import pandas as pd\n",
        "\n",
        "size = np.array(x_train_preprocessed).shape[0]\n",
        "\n",
        "vector_size = 100\n",
        "\n",
        "df_train = pd.DataFrame(np.array(x_train_preprocessed).reshape([size,vector_size]))\n",
        "df_test = pd.DataFrame(np.array(x_test_preprocessed).reshape([np.array(x_test_preprocessed).shape[0],vector_size]))\n",
        "\n",
        "df_train.to_csv('df_train_doc2vec_100_CoLA_under.csv')\n",
        "df_test.to_csv('df_test_doc2vec_100_CoLA_under.csv')"
      ]
    },
    {
      "cell_type": "code",
      "execution_count": null,
      "metadata": {
        "id": "0A-CboRLOE7n",
        "colab": {
          "base_uri": "https://localhost:8080/"
        },
        "outputId": "82d507fd-4f18-463c-e5dd-f7ce59552ce9"
      },
      "outputs": [
        {
          "output_type": "stream",
          "name": "stdout",
          "text": [
            "845\n",
            "11200\n",
            "845\n",
            "11200\n"
          ]
        }
      ],
      "source": [
        "x_valid_preprocessed = x_train_preprocessed[11201:size]\n",
        "x_train_preprocessed = x_train_preprocessed[0:11200]\n",
        "\n",
        "y_valid = y_train[11201:size]\n",
        "y_train = y_train[0:11200]\n",
        "\n",
        "print(len(x_valid_preprocessed))\n",
        "print(len(x_train_preprocessed))\n",
        "print(len(y_valid))\n",
        "print(len(y_train))"
      ]
    },
    {
      "cell_type": "markdown",
      "metadata": {
        "id": "Z207VdpOOE7n"
      },
      "source": [
        "### **General classifier**"
      ]
    },
    {
      "cell_type": "code",
      "execution_count": null,
      "metadata": {
        "id": "hYzImS0gOE7n",
        "colab": {
          "base_uri": "https://localhost:8080/"
        },
        "outputId": "6a9cddfb-4f2e-446e-af28-b6cbf82612e5"
      },
      "outputs": [
        {
          "output_type": "stream",
          "name": "stderr",
          "text": [
            "100%|██████████| 29/29 [02:42<00:00,  5.61s/it]"
          ]
        },
        {
          "output_type": "stream",
          "name": "stdout",
          "text": [
            "                               Accuracy  Balanced Accuracy ROC AUC  F1 Score  \\\n",
            "Model                                                                          \n",
            "LabelPropagation                   1.00               1.00    None      1.00   \n",
            "LabelSpreading                     1.00               1.00    None      1.00   \n",
            "NuSVC                              0.95               0.95    None      0.98   \n",
            "ExtraTreesClassifier               0.92               0.92    None      0.96   \n",
            "KNeighborsClassifier               0.91               0.91    None      0.95   \n",
            "RandomForestClassifier             0.88               0.88    None      0.94   \n",
            "BaggingClassifier                  0.87               0.87    None      0.93   \n",
            "XGBClassifier                      0.87               0.87    None      0.93   \n",
            "QuadraticDiscriminantAnalysis      0.86               0.86    None      0.93   \n",
            "SVC                                0.86               0.86    None      0.93   \n",
            "LGBMClassifier                     0.84               0.84    None      0.91   \n",
            "GaussianNB                         0.83               0.83    None      0.91   \n",
            "DecisionTreeClassifier             0.76               0.76    None      0.87   \n",
            "ExtraTreeClassifier                0.74               0.74    None      0.85   \n",
            "AdaBoostClassifier                 0.65               0.65    None      0.79   \n",
            "NearestCentroid                    0.53               0.53    None      0.69   \n",
            "PassiveAggressiveClassifier        0.52               0.52    None      0.68   \n",
            "Perceptron                         0.47               0.47    None      0.64   \n",
            "DummyClassifier                    0.46               0.46    None      0.63   \n",
            "SGDClassifier                      0.45               0.45    None      0.62   \n",
            "BernoulliNB                        0.41               0.41    None      0.58   \n",
            "LinearSVC                          0.33               0.33    None      0.49   \n",
            "LogisticRegression                 0.31               0.31    None      0.47   \n",
            "LinearDiscriminantAnalysis         0.30               0.30    None      0.47   \n",
            "RidgeClassifier                    0.30               0.30    None      0.47   \n",
            "RidgeClassifierCV                  0.30               0.30    None      0.47   \n",
            "CalibratedClassifierCV             0.00               0.00    None      0.00   \n",
            "\n",
            "                               Time Taken  \n",
            "Model                                      \n",
            "LabelPropagation                     4.90  \n",
            "LabelSpreading                      12.61  \n",
            "NuSVC                               26.75  \n",
            "ExtraTreesClassifier                 3.00  \n",
            "KNeighborsClassifier                 2.36  \n",
            "RandomForestClassifier              12.95  \n",
            "BaggingClassifier                   14.46  \n",
            "XGBClassifier                       16.95  \n",
            "QuadraticDiscriminantAnalysis        0.39  \n",
            "SVC                                 22.62  \n",
            "LGBMClassifier                       3.54  \n",
            "GaussianNB                           0.08  \n",
            "DecisionTreeClassifier               2.08  \n",
            "ExtraTreeClassifier                  0.09  \n",
            "AdaBoostClassifier                   8.15  \n",
            "NearestCentroid                      0.09  \n",
            "PassiveAggressiveClassifier          0.21  \n",
            "Perceptron                           0.23  \n",
            "DummyClassifier                      0.07  \n",
            "SGDClassifier                        0.79  \n",
            "BernoulliNB                          0.20  \n",
            "LinearSVC                            5.46  \n",
            "LogisticRegression                   0.26  \n",
            "LinearDiscriminantAnalysis           0.33  \n",
            "RidgeClassifier                      0.25  \n",
            "RidgeClassifierCV                    0.39  \n",
            "CalibratedClassifierCV              23.35  \n"
          ]
        },
        {
          "output_type": "stream",
          "name": "stderr",
          "text": [
            "\n"
          ]
        }
      ],
      "source": [
        "clf = LazyClassifier(verbose=0,ignore_warnings=True, custom_metric=None)\n",
        "models,predictions = clf.fit(np.array(x_train_preprocessed).reshape([len(x_train_preprocessed),vector_size]), np.array(x_valid_preprocessed).reshape([len(x_valid_preprocessed),vector_size]), y_train, y_valid)\n",
        "\n",
        "print(models)"
      ]
    },
    {
      "cell_type": "code",
      "execution_count": null,
      "metadata": {
        "id": "UogA3XZYOE7n",
        "colab": {
          "base_uri": "https://localhost:8080/"
        },
        "outputId": "a1192e19-89bc-4971-e235-b594e5cd8b30"
      },
      "outputs": [
        {
          "output_type": "stream",
          "name": "stdout",
          "text": [
            "679 1043\n"
          ]
        }
      ],
      "source": [
        "models = clf.provide_models(np.array(x_train_preprocessed).reshape([len(x_train_preprocessed),vector_size]), np.array(x_valid_preprocessed).reshape([len(x_valid_preprocessed),vector_size]), y_train, y_valid)\n",
        "predictions = models['ExtraTreesClassifier'].predict(np.array(x_test_preprocessed).reshape([x_test.shape[0],vector_size]))\n",
        "\n",
        "print(sum([predictions[i] == y_test[i] for i in range(len(x_test))]), len(x_test))"
      ]
    },
    {
      "cell_type": "code",
      "execution_count": null,
      "metadata": {
        "id": "7mELAIv-OE7n",
        "colab": {
          "base_uri": "https://localhost:8080/",
          "height": 538
        },
        "outputId": "9aa98d8c-2296-48b3-f0be-5d14527cb1a5"
      },
      "outputs": [
        {
          "output_type": "stream",
          "name": "stdout",
          "text": [
            "Doc2vec, best general classifier, oversampling\n",
            "F-measure or f1-score:  0.7801932367149758\n",
            "Log loss:  12.05402271467384\n",
            "AUC:  0.4992311403244286\n",
            "Classification Report:\n",
            "              precision    recall  f1-score   support\n",
            "\n",
            "           1     0.6909    0.8960    0.7802       721\n",
            "           0     0.3056    0.1025    0.1535       322\n",
            "\n",
            "    accuracy                         0.6510      1043\n",
            "   macro avg     0.4982    0.4992    0.4668      1043\n",
            "weighted avg     0.5719    0.6510    0.5867      1043\n",
            "\n"
          ]
        },
        {
          "output_type": "display_data",
          "data": {
            "text/plain": [
              "<Figure size 432x288 with 2 Axes>"
            ],
            "image/png": "[encoded data removed]"
          },
          "metadata": {
            "needs_background": "light"
          }
        }
      ],
      "source": [
        "# model evaluation\n",
        "\n",
        "print(\"Doc2vec, best general classifier, oversampling\")\n",
        "print(\"F-measure or f1-score: \", f1_score(y_test, predictions))\n",
        "print(\"Log loss: \", log_loss(y_test, predictions))\n",
        "\n",
        "fpr, tpr, thresholds = roc_curve(y_test, predictions)\n",
        "\n",
        "print(\"AUC: \", auc(fpr, tpr))\n",
        "\n",
        "eval(y_test, predictions)"
      ]
    },
    {
      "cell_type": "markdown",
      "metadata": {
        "id": "AAiV2k7KOE7n"
      },
      "source": [
        "### **LSTM classifier**"
      ]
    },
    {
      "cell_type": "code",
      "execution_count": null,
      "metadata": {
        "id": "ZphODn30OE7n"
      },
      "outputs": [],
      "source": [
        "import pandas as pd\n",
        "import numpy as np\n",
        "from keras.models import Sequential\n",
        "from keras.layers import LSTM, Dense, Dropout\n",
        "from keras.callbacks import EarlyStopping, ModelCheckpoint\n",
        "from matplotlib import pyplot\n",
        "from keras.layers import Bidirectional"
      ]
    },
    {
      "cell_type": "code",
      "execution_count": null,
      "metadata": {
        "id": "48sPP4rhOE7n",
        "colab": {
          "base_uri": "https://localhost:8080/"
        },
        "outputId": "2fbb1e8d-796e-4405-a78c-18e814ae59ca"
      },
      "outputs": [
        {
          "output_type": "stream",
          "name": "stdout",
          "text": [
            "Epoch 1/50\n",
            "88/88 [==============================] - 22s 189ms/step - loss: 0.6856 - val_loss: 0.8700\n",
            "Epoch 2/50\n",
            "88/88 [==============================] - 18s 201ms/step - loss: 0.6786 - val_loss: 0.7829\n",
            "Epoch 3/50\n",
            "88/88 [==============================] - 12s 133ms/step - loss: 0.6748 - val_loss: 0.7150\n",
            "Epoch 4/50\n",
            "88/88 [==============================] - 12s 132ms/step - loss: 0.6689 - val_loss: 0.7743\n",
            "Epoch 5/50\n",
            "88/88 [==============================] - 12s 132ms/step - loss: 0.6610 - val_loss: 0.7383\n",
            "Epoch 6/50\n",
            "88/88 [==============================] - 12s 133ms/step - loss: 0.6511 - val_loss: 0.6568\n",
            "Epoch 7/50\n",
            "88/88 [==============================] - 12s 132ms/step - loss: 0.6425 - val_loss: 0.6070\n",
            "Epoch 8/50\n",
            "88/88 [==============================] - 12s 131ms/step - loss: 0.6362 - val_loss: 0.6898\n",
            "Epoch 9/50\n",
            "88/88 [==============================] - 12s 131ms/step - loss: 0.6303 - val_loss: 0.6257\n",
            "Epoch 10/50\n",
            "88/88 [==============================] - 12s 135ms/step - loss: 0.6256 - val_loss: 0.6499\n",
            "Epoch 11/50\n",
            "88/88 [==============================] - 12s 132ms/step - loss: 0.6203 - val_loss: 0.6048\n",
            "Epoch 12/50\n",
            "88/88 [==============================] - 12s 133ms/step - loss: 0.6176 - val_loss: 0.5375\n",
            "Epoch 13/50\n",
            "88/88 [==============================] - 12s 131ms/step - loss: 0.6111 - val_loss: 0.7405\n",
            "Epoch 14/50\n",
            "88/88 [==============================] - 12s 131ms/step - loss: 0.6070 - val_loss: 0.5304\n",
            "Epoch 15/50\n",
            "88/88 [==============================] - 12s 132ms/step - loss: 0.6002 - val_loss: 0.5561\n",
            "Epoch 16/50\n",
            "88/88 [==============================] - 12s 132ms/step - loss: 0.5956 - val_loss: 0.7289\n",
            "Epoch 17/50\n",
            "88/88 [==============================] - 12s 132ms/step - loss: 0.5924 - val_loss: 0.6765\n",
            "Epoch 18/50\n",
            "88/88 [==============================] - 12s 132ms/step - loss: 0.5869 - val_loss: 0.6711\n",
            "Epoch 19/50\n",
            "88/88 [==============================] - 12s 132ms/step - loss: 0.5817 - val_loss: 0.7445\n",
            "Epoch 20/50\n",
            "88/88 [==============================] - 12s 133ms/step - loss: 0.5776 - val_loss: 0.6560\n",
            "Epoch 21/50\n",
            "88/88 [==============================] - 12s 132ms/step - loss: 0.5710 - val_loss: 0.6376\n"
          ]
        },
        {
          "output_type": "execute_result",
          "data": {
            "text/plain": [
              "<keras.callbacks.History at 0x7f2c5de51310>"
            ]
          },
          "metadata": {},
          "execution_count": 116
        }
      ],
      "source": [
        "lstm = Sequential()\n",
        "lstm.add(Bidirectional(LSTM(768, return_sequences=False)))\n",
        "lstm.add(Dense(1, activation='sigmoid'))\n",
        "\n",
        "callback = EarlyStopping(monitor='val_loss', patience=7)\n",
        "\n",
        "lstm.compile(loss='binary_crossentropy', optimizer='adam')\n",
        "lstm.fit(np.array(x_train_preprocessed).reshape([len(x_train_preprocessed),1,vector_size]), y_train, validation_data=(np.array(x_valid_preprocessed).reshape([len(x_valid_preprocessed),1,vector_size]), y_valid), epochs=50, batch_size=128, verbose=1, shuffle=True, callbacks=[callback])\n"
      ]
    },
    {
      "cell_type": "code",
      "execution_count": null,
      "metadata": {
        "id": "u5E2RRrMOE7o",
        "colab": {
          "base_uri": "https://localhost:8080/"
        },
        "outputId": "8eda4975-dea7-4264-e191-4a3c8fc5b83a"
      },
      "outputs": [
        {
          "output_type": "stream",
          "name": "stdout",
          "text": [
            "721 1043\n"
          ]
        }
      ],
      "source": [
        "import math\n",
        "\n",
        "predictions_lstm = lstm.predict(np.array(x_test_preprocessed).reshape([len(x_test_preprocessed),1,vector_size]))\n",
        "\n",
        "print(sum([math.ceil(predictions_lstm[i]) == y_test[i] for i in range(len(x_test))]), len(x_test))"
      ]
    },
    {
      "cell_type": "code",
      "execution_count": null,
      "metadata": {
        "id": "SndzTL1MOE7o",
        "colab": {
          "base_uri": "https://localhost:8080/",
          "height": 573
        },
        "outputId": "42079d68-805a-4c60-b2b3-e64a3638dfe7"
      },
      "outputs": [
        {
          "output_type": "stream",
          "name": "stdout",
          "text": [
            "Doc2Vec, LSTM, oversampling\n",
            "F-measure or f1-score:  0.8174603174603174\n",
            "Log loss:  0.7466806529426623\n",
            "Log loss:  10.663224803004567\n",
            "AUC:  0.574874441123009\n",
            "AUC:  0.5\n",
            "Classification Report:\n",
            "              precision    recall  f1-score   support\n",
            "\n",
            "           1     0.6913    1.0000    0.8175       721\n",
            "           0     0.0000    0.0000    0.0000       322\n",
            "\n",
            "    accuracy                         0.6913      1043\n",
            "   macro avg     0.3456    0.5000    0.4087      1043\n",
            "weighted avg     0.4779    0.6913    0.5651      1043\n",
            "\n"
          ]
        },
        {
          "output_type": "display_data",
          "data": {
            "text/plain": [
              "<Figure size 432x288 with 2 Axes>"
            ],
            "image/png": "[encoded data removed]"
          },
          "metadata": {
            "needs_background": "light"
          }
        }
      ],
      "source": [
        "# model evaluation\n",
        "\n",
        "print(\"Doc2Vec, LSTM, oversampling\")\n",
        "print(\"F-measure or f1-score: \", f1_score(y_test, [math.ceil(predictions_lstm[i]) for i in range(len(predictions_lstm))]))\n",
        "print(\"Log loss: \", log_loss(y_test, predictions_lstm))\n",
        "print(\"Log loss: \", log_loss(y_test, [math.ceil(predictions_lstm[i]) for i in range(len(predictions_lstm))]))\n",
        "\n",
        "fpr, tpr, thresholds = roc_curve(y_test, predictions_lstm)\n",
        "\n",
        "print(\"AUC: \", auc(fpr, tpr))\n",
        "\n",
        "fpr, tpr, thresholds = roc_curve(y_test,[math.ceil(predictions_lstm[i]) for i in range(len(predictions_lstm))])\n",
        "\n",
        "print(\"AUC: \", auc(fpr, tpr))\n",
        "\n",
        "eval(y_test, [math.ceil(predictions_lstm[i]) for i in range(len(predictions_lstm))])"
      ]
    }
  ],
  "metadata": {
    "colab": {
      "collapsed_sections": [],
      "name": "CoLA.ipynb",
      "provenance": []
    },
    "kernelspec": {
      "display_name": "Python 3",
      "name": "python3"
    },
    "language_info": {
      "name": "python"
    },
    "widgets": {
      "application/vnd.jupyter.widget-state+json": {
        "1bd6cad56a7d46c8a5a7031b02e16645": {
          "model_module": "@jupyter-widgets/controls",
          "model_name": "HBoxModel",
          "model_module_version": "1.5.0",
          "state": {
            "_dom_classes": [],
            "_model_module": "@jupyter-widgets/controls",
            "_model_module_version": "1.5.0",
            "_model_name": "HBoxModel",
            "_view_count": null,
            "_view_module": "@jupyter-widgets/controls",
            "_view_module_version": "1.5.0",
            "_view_name": "HBoxView",
            "box_style": "",
            "children": [
              "IPY_MODEL_e312201c0f974cdcb85a768f1512ea0f",
              "IPY_MODEL_34077b8fdda34e9a936840be0b6fad42",
              "IPY_MODEL_0fd5bcf556ef49b0a781f76c9e18e10d"
            ],
            "layout": "IPY_MODEL_6f4f47ddb6644034aabc31614bc3c5ff"
          }
        },
        "e312201c0f974cdcb85a768f1512ea0f": {
          "model_module": "@jupyter-widgets/controls",
          "model_name": "HTMLModel",
          "model_module_version": "1.5.0",
          "state": {
            "_dom_classes": [],
            "_model_module": "@jupyter-widgets/controls",
            "_model_module_version": "1.5.0",
            "_model_name": "HTMLModel",
            "_view_count": null,
            "_view_module": "@jupyter-widgets/controls",
            "_view_module_version": "1.5.0",
            "_view_name": "HTMLView",
            "description": "",
            "description_tooltip": null,
            "layout": "IPY_MODEL_1fd4e82ffc664997809dad965a31e784",
            "placeholder": "​",
            "style": "IPY_MODEL_0925933582314fa3b026703551786cba",
            "value": "Downloading: 100%"
          }
        },
        "34077b8fdda34e9a936840be0b6fad42": {
          "model_module": "@jupyter-widgets/controls",
          "model_name": "FloatProgressModel",
          "model_module_version": "1.5.0",
          "state": {
            "_dom_classes": [],
            "_model_module": "@jupyter-widgets/controls",
            "_model_module_version": "1.5.0",
            "_model_name": "FloatProgressModel",
            "_view_count": null,
            "_view_module": "@jupyter-widgets/controls",
            "_view_module_version": "1.5.0",
            "_view_name": "ProgressView",
            "bar_style": "success",
            "description": "",
            "description_tooltip": null,
            "layout": "IPY_MODEL_c36533fef16240c5bc057b84869449cb",
            "max": 399,
            "min": 0,
            "orientation": "horizontal",
            "style": "IPY_MODEL_f483c50693c4482a949ad0f1e0ef3da6",
            "value": 399
          }
        },
        "0fd5bcf556ef49b0a781f76c9e18e10d": {
          "model_module": "@jupyter-widgets/controls",
          "model_name": "HTMLModel",
          "model_module_version": "1.5.0",
          "state": {
            "_dom_classes": [],
            "_model_module": "@jupyter-widgets/controls",
            "_model_module_version": "1.5.0",
            "_model_name": "HTMLModel",
            "_view_count": null,
            "_view_module": "@jupyter-widgets/controls",
            "_view_module_version": "1.5.0",
            "_view_name": "HTMLView",
            "description": "",
            "description_tooltip": null,
            "layout": "IPY_MODEL_175a0d1246f347d88afff09a535739b4",
            "placeholder": "​",
            "style": "IPY_MODEL_aaa9a268c61942ebb7426e6d8280cbd8",
            "value": " 399/399 [00:00&lt;00:00, 2.96kB/s]"
          }
        },
        "6f4f47ddb6644034aabc31614bc3c5ff": {
          "model_module": "@jupyter-widgets/base",
          "model_name": "LayoutModel",
          "model_module_version": "1.2.0",
          "state": {
            "_model_module": "@jupyter-widgets/base",
            "_model_module_version": "1.2.0",
            "_model_name": "LayoutModel",
            "_view_count": null,
            "_view_module": "@jupyter-widgets/base",
            "_view_module_version": "1.2.0",
            "_view_name": "LayoutView",
            "align_content": null,
            "align_items": null,
            "align_self": null,
            "border": null,
            "bottom": null,
            "display": null,
            "flex": null,
            "flex_flow": null,
            "grid_area": null,
            "grid_auto_columns": null,
            "grid_auto_flow": null,
            "grid_auto_rows": null,
            "grid_column": null,
            "grid_gap": null,
            "grid_row": null,
            "grid_template_areas": null,
            "grid_template_columns": null,
            "grid_template_rows": null,
            "height": null,
            "justify_content": null,
            "justify_items": null,
            "left": null,
            "margin": null,
            "max_height": null,
            "max_width": null,
            "min_height": null,
            "min_width": null,
            "object_fit": null,
            "object_position": null,
            "order": null,
            "overflow": null,
            "overflow_x": null,
            "overflow_y": null,
            "padding": null,
            "right": null,
            "top": null,
            "visibility": null,
            "width": null
          }
        },
        "1fd4e82ffc664997809dad965a31e784": {
          "model_module": "@jupyter-widgets/base",
          "model_name": "LayoutModel",
          "model_module_version": "1.2.0",
          "state": {
            "_model_module": "@jupyter-widgets/base",
            "_model_module_version": "1.2.0",
            "_model_name": "LayoutModel",
            "_view_count": null,
            "_view_module": "@jupyter-widgets/base",
            "_view_module_version": "1.2.0",
            "_view_name": "LayoutView",
            "align_content": null,
            "align_items": null,
            "align_self": null,
            "border": null,
            "bottom": null,
            "display": null,
            "flex": null,
            "flex_flow": null,
            "grid_area": null,
            "grid_auto_columns": null,
            "grid_auto_flow": null,
            "grid_auto_rows": null,
            "grid_column": null,
            "grid_gap": null,
            "grid_row": null,
            "grid_template_areas": null,
            "grid_template_columns": null,
            "grid_template_rows": null,
            "height": null,
            "justify_content": null,
            "justify_items": null,
            "left": null,
            "margin": null,
            "max_height": null,
            "max_width": null,
            "min_height": null,
            "min_width": null,
            "object_fit": null,
            "object_position": null,
            "order": null,
            "overflow": null,
            "overflow_x": null,
            "overflow_y": null,
            "padding": null,
            "right": null,
            "top": null,
            "visibility": null,
            "width": null
          }
        },
        "0925933582314fa3b026703551786cba": {
          "model_module": "@jupyter-widgets/controls",
          "model_name": "DescriptionStyleModel",
          "model_module_version": "1.5.0",
          "state": {
            "_model_module": "@jupyter-widgets/controls",
            "_model_module_version": "1.5.0",
            "_model_name": "DescriptionStyleModel",
            "_view_count": null,
            "_view_module": "@jupyter-widgets/base",
            "_view_module_version": "1.2.0",
            "_view_name": "StyleView",
            "description_width": ""
          }
        },
        "c36533fef16240c5bc057b84869449cb": {
          "model_module": "@jupyter-widgets/base",
          "model_name": "LayoutModel",
          "model_module_version": "1.2.0",
          "state": {
            "_model_module": "@jupyter-widgets/base",
            "_model_module_version": "1.2.0",
            "_model_name": "LayoutModel",
            "_view_count": null,
            "_view_module": "@jupyter-widgets/base",
            "_view_module_version": "1.2.0",
            "_view_name": "LayoutView",
            "align_content": null,
            "align_items": null,
            "align_self": null,
            "border": null,
            "bottom": null,
            "display": null,
            "flex": null,
            "flex_flow": null,
            "grid_area": null,
            "grid_auto_columns": null,
            "grid_auto_flow": null,
            "grid_auto_rows": null,
            "grid_column": null,
            "grid_gap": null,
            "grid_row": null,
            "grid_template_areas": null,
            "grid_template_columns": null,
            "grid_template_rows": null,
            "height": null,
            "justify_content": null,
            "justify_items": null,
            "left": null,
            "margin": null,
            "max_height": null,
            "max_width": null,
            "min_height": null,
            "min_width": null,
            "object_fit": null,
            "object_position": null,
            "order": null,
            "overflow": null,
            "overflow_x": null,
            "overflow_y": null,
            "padding": null,
            "right": null,
            "top": null,
            "visibility": null,
            "width": null
          }
        },
        "f483c50693c4482a949ad0f1e0ef3da6": {
          "model_module": "@jupyter-widgets/controls",
          "model_name": "ProgressStyleModel",
          "model_module_version": "1.5.0",
          "state": {
            "_model_module": "@jupyter-widgets/controls",
            "_model_module_version": "1.5.0",
            "_model_name": "ProgressStyleModel",
            "_view_count": null,
            "_view_module": "@jupyter-widgets/base",
            "_view_module_version": "1.2.0",
            "_view_name": "StyleView",
            "bar_color": null,
            "description_width": ""
          }
        },
        "175a0d1246f347d88afff09a535739b4": {
          "model_module": "@jupyter-widgets/base",
          "model_name": "LayoutModel",
          "model_module_version": "1.2.0",
          "state": {
            "_model_module": "@jupyter-widgets/base",
            "_model_module_version": "1.2.0",
            "_model_name": "LayoutModel",
            "_view_count": null,
            "_view_module": "@jupyter-widgets/base",
            "_view_module_version": "1.2.0",
            "_view_name": "LayoutView",
            "align_content": null,
            "align_items": null,
            "align_self": null,
            "border": null,
            "bottom": null,
            "display": null,
            "flex": null,
            "flex_flow": null,
            "grid_area": null,
            "grid_auto_columns": null,
            "grid_auto_flow": null,
            "grid_auto_rows": null,
            "grid_column": null,
            "grid_gap": null,
            "grid_row": null,
            "grid_template_areas": null,
            "grid_template_columns": null,
            "grid_template_rows": null,
            "height": null,
            "justify_content": null,
            "justify_items": null,
            "left": null,
            "margin": null,
            "max_height": null,
            "max_width": null,
            "min_height": null,
            "min_width": null,
            "object_fit": null,
            "object_position": null,
            "order": null,
            "overflow": null,
            "overflow_x": null,
            "overflow_y": null,
            "padding": null,
            "right": null,
            "top": null,
            "visibility": null,
            "width": null
          }
        },
        "aaa9a268c61942ebb7426e6d8280cbd8": {
          "model_module": "@jupyter-widgets/controls",
          "model_name": "DescriptionStyleModel",
          "model_module_version": "1.5.0",
          "state": {
            "_model_module": "@jupyter-widgets/controls",
            "_model_module_version": "1.5.0",
            "_model_name": "DescriptionStyleModel",
            "_view_count": null,
            "_view_module": "@jupyter-widgets/base",
            "_view_module_version": "1.2.0",
            "_view_name": "StyleView",
            "description_width": ""
          }
        },
        "3438d550aa71410fb19f4c7b8b1ab501": {
          "model_module": "@jupyter-widgets/controls",
          "model_name": "HBoxModel",
          "model_module_version": "1.5.0",
          "state": {
            "_dom_classes": [],
            "_model_module": "@jupyter-widgets/controls",
            "_model_module_version": "1.5.0",
            "_model_name": "HBoxModel",
            "_view_count": null,
            "_view_module": "@jupyter-widgets/controls",
            "_view_module_version": "1.5.0",
            "_view_name": "HBoxView",
            "box_style": "",
            "children": [
              "IPY_MODEL_751090192d8140289f7a19255ba181c8",
              "IPY_MODEL_897d938f7360461f954f0a9cf93dbff8",
              "IPY_MODEL_506bbd10d459477ba598c78d1cdbe615"
            ],
            "layout": "IPY_MODEL_1cd49d9dcef84343907ddff3feb0f367"
          }
        },
        "751090192d8140289f7a19255ba181c8": {
          "model_module": "@jupyter-widgets/controls",
          "model_name": "HTMLModel",
          "model_module_version": "1.5.0",
          "state": {
            "_dom_classes": [],
            "_model_module": "@jupyter-widgets/controls",
            "_model_module_version": "1.5.0",
            "_model_name": "HTMLModel",
            "_view_count": null,
            "_view_module": "@jupyter-widgets/controls",
            "_view_module_version": "1.5.0",
            "_view_name": "HTMLView",
            "description": "",
            "description_tooltip": null,
            "layout": "IPY_MODEL_a83859666a424352b59ca728e040a9b0",
            "placeholder": "​",
            "style": "IPY_MODEL_ab2897fa8aa84c189e1d483b76ff73bd",
            "value": "Downloading: 100%"
          }
        },
        "897d938f7360461f954f0a9cf93dbff8": {
          "model_module": "@jupyter-widgets/controls",
          "model_name": "FloatProgressModel",
          "model_module_version": "1.5.0",
          "state": {
            "_dom_classes": [],
            "_model_module": "@jupyter-widgets/controls",
            "_model_module_version": "1.5.0",
            "_model_name": "FloatProgressModel",
            "_view_count": null,
            "_view_module": "@jupyter-widgets/controls",
            "_view_module_version": "1.5.0",
            "_view_name": "ProgressView",
            "bar_style": "success",
            "description": "",
            "description_tooltip": null,
            "layout": "IPY_MODEL_18ecb3969cb546479eb095833f4d3d0c",
            "max": 625,
            "min": 0,
            "orientation": "horizontal",
            "style": "IPY_MODEL_04f77dad562041a4b865d206507a2c27",
            "value": 625
          }
        },
        "506bbd10d459477ba598c78d1cdbe615": {
          "model_module": "@jupyter-widgets/controls",
          "model_name": "HTMLModel",
          "model_module_version": "1.5.0",
          "state": {
            "_dom_classes": [],
            "_model_module": "@jupyter-widgets/controls",
            "_model_module_version": "1.5.0",
            "_model_name": "HTMLModel",
            "_view_count": null,
            "_view_module": "@jupyter-widgets/controls",
            "_view_module_version": "1.5.0",
            "_view_name": "HTMLView",
            "description": "",
            "description_tooltip": null,
            "layout": "IPY_MODEL_7967bf8a3b204aec8f6f3d579af0b3ed",
            "placeholder": "​",
            "style": "IPY_MODEL_a3b4120f60644c58ae49e745a4824378",
            "value": " 625/625 [00:00&lt;00:00, 5.47kB/s]"
          }
        },
        "1cd49d9dcef84343907ddff3feb0f367": {
          "model_module": "@jupyter-widgets/base",
          "model_name": "LayoutModel",
          "model_module_version": "1.2.0",
          "state": {
            "_model_module": "@jupyter-widgets/base",
            "_model_module_version": "1.2.0",
            "_model_name": "LayoutModel",
            "_view_count": null,
            "_view_module": "@jupyter-widgets/base",
            "_view_module_version": "1.2.0",
            "_view_name": "LayoutView",
            "align_content": null,
            "align_items": null,
            "align_self": null,
            "border": null,
            "bottom": null,
            "display": null,
            "flex": null,
            "flex_flow": null,
            "grid_area": null,
            "grid_auto_columns": null,
            "grid_auto_flow": null,
            "grid_auto_rows": null,
            "grid_column": null,
            "grid_gap": null,
            "grid_row": null,
            "grid_template_areas": null,
            "grid_template_columns": null,
            "grid_template_rows": null,
            "height": null,
            "justify_content": null,
            "justify_items": null,
            "left": null,
            "margin": null,
            "max_height": null,
            "max_width": null,
            "min_height": null,
            "min_width": null,
            "object_fit": null,
            "object_position": null,
            "order": null,
            "overflow": null,
            "overflow_x": null,
            "overflow_y": null,
            "padding": null,
            "right": null,
            "top": null,
            "visibility": null,
            "width": null
          }
        },
        "a83859666a424352b59ca728e040a9b0": {
          "model_module": "@jupyter-widgets/base",
          "model_name": "LayoutModel",
          "model_module_version": "1.2.0",
          "state": {
            "_model_module": "@jupyter-widgets/base",
            "_model_module_version": "1.2.0",
            "_model_name": "LayoutModel",
            "_view_count": null,
            "_view_module": "@jupyter-widgets/base",
            "_view_module_version": "1.2.0",
            "_view_name": "LayoutView",
            "align_content": null,
            "align_items": null,
            "align_self": null,
            "border": null,
            "bottom": null,
            "display": null,
            "flex": null,
            "flex_flow": null,
            "grid_area": null,
            "grid_auto_columns": null,
            "grid_auto_flow": null,
            "grid_auto_rows": null,
            "grid_column": null,
            "grid_gap": null,
            "grid_row": null,
            "grid_template_areas": null,
            "grid_template_columns": null,
            "grid_template_rows": null,
            "height": null,
            "justify_content": null,
            "justify_items": null,
            "left": null,
            "margin": null,
            "max_height": null,
            "max_width": null,
            "min_height": null,
            "min_width": null,
            "object_fit": null,
            "object_position": null,
            "order": null,
            "overflow": null,
            "overflow_x": null,
            "overflow_y": null,
            "padding": null,
            "right": null,
            "top": null,
            "visibility": null,
            "width": null
          }
        },
        "ab2897fa8aa84c189e1d483b76ff73bd": {
          "model_module": "@jupyter-widgets/controls",
          "model_name": "DescriptionStyleModel",
          "model_module_version": "1.5.0",
          "state": {
            "_model_module": "@jupyter-widgets/controls",
            "_model_module_version": "1.5.0",
            "_model_name": "DescriptionStyleModel",
            "_view_count": null,
            "_view_module": "@jupyter-widgets/base",
            "_view_module_version": "1.2.0",
            "_view_name": "StyleView",
            "description_width": ""
          }
        },
        "18ecb3969cb546479eb095833f4d3d0c": {
          "model_module": "@jupyter-widgets/base",
          "model_name": "LayoutModel",
          "model_module_version": "1.2.0",
          "state": {
            "_model_module": "@jupyter-widgets/base",
            "_model_module_version": "1.2.0",
            "_model_name": "LayoutModel",
            "_view_count": null,
            "_view_module": "@jupyter-widgets/base",
            "_view_module_version": "1.2.0",
            "_view_name": "LayoutView",
            "align_content": null,
            "align_items": null,
            "align_self": null,
            "border": null,
            "bottom": null,
            "display": null,
            "flex": null,
            "flex_flow": null,
            "grid_area": null,
            "grid_auto_columns": null,
            "grid_auto_flow": null,
            "grid_auto_rows": null,
            "grid_column": null,
            "grid_gap": null,
            "grid_row": null,
            "grid_template_areas": null,
            "grid_template_columns": null,
            "grid_template_rows": null,
            "height": null,
            "justify_content": null,
            "justify_items": null,
            "left": null,
            "margin": null,
            "max_height": null,
            "max_width": null,
            "min_height": null,
            "min_width": null,
            "object_fit": null,
            "object_position": null,
            "order": null,
            "overflow": null,
            "overflow_x": null,
            "overflow_y": null,
            "padding": null,
            "right": null,
            "top": null,
            "visibility": null,
            "width": null
          }
        },
        "04f77dad562041a4b865d206507a2c27": {
          "model_module": "@jupyter-widgets/controls",
          "model_name": "ProgressStyleModel",
          "model_module_version": "1.5.0",
          "state": {
            "_model_module": "@jupyter-widgets/controls",
            "_model_module_version": "1.5.0",
            "_model_name": "ProgressStyleModel",
            "_view_count": null,
            "_view_module": "@jupyter-widgets/base",
            "_view_module_version": "1.2.0",
            "_view_name": "StyleView",
            "bar_color": null,
            "description_width": ""
          }
        },
        "7967bf8a3b204aec8f6f3d579af0b3ed": {
          "model_module": "@jupyter-widgets/base",
          "model_name": "LayoutModel",
          "model_module_version": "1.2.0",
          "state": {
            "_model_module": "@jupyter-widgets/base",
            "_model_module_version": "1.2.0",
            "_model_name": "LayoutModel",
            "_view_count": null,
            "_view_module": "@jupyter-widgets/base",
            "_view_module_version": "1.2.0",
            "_view_name": "LayoutView",
            "align_content": null,
            "align_items": null,
            "align_self": null,
            "border": null,
            "bottom": null,
            "display": null,
            "flex": null,
            "flex_flow": null,
            "grid_area": null,
            "grid_auto_columns": null,
            "grid_auto_flow": null,
            "grid_auto_rows": null,
            "grid_column": null,
            "grid_gap": null,
            "grid_row": null,
            "grid_template_areas": null,
            "grid_template_columns": null,
            "grid_template_rows": null,
            "height": null,
            "justify_content": null,
            "justify_items": null,
            "left": null,
            "margin": null,
            "max_height": null,
            "max_width": null,
            "min_height": null,
            "min_width": null,
            "object_fit": null,
            "object_position": null,
            "order": null,
            "overflow": null,
            "overflow_x": null,
            "overflow_y": null,
            "padding": null,
            "right": null,
            "top": null,
            "visibility": null,
            "width": null
          }
        },
        "a3b4120f60644c58ae49e745a4824378": {
          "model_module": "@jupyter-widgets/controls",
          "model_name": "DescriptionStyleModel",
          "model_module_version": "1.5.0",
          "state": {
            "_model_module": "@jupyter-widgets/controls",
            "_model_module_version": "1.5.0",
            "_model_name": "DescriptionStyleModel",
            "_view_count": null,
            "_view_module": "@jupyter-widgets/base",
            "_view_module_version": "1.2.0",
            "_view_name": "StyleView",
            "description_width": ""
          }
        },
        "c2fcd73e22d14f1289dc0f896146407d": {
          "model_module": "@jupyter-widgets/controls",
          "model_name": "HBoxModel",
          "model_module_version": "1.5.0",
          "state": {
            "_dom_classes": [],
            "_model_module": "@jupyter-widgets/controls",
            "_model_module_version": "1.5.0",
            "_model_name": "HBoxModel",
            "_view_count": null,
            "_view_module": "@jupyter-widgets/controls",
            "_view_module_version": "1.5.0",
            "_view_name": "HBoxView",
            "box_style": "",
            "children": [
              "IPY_MODEL_6effebbd4db5415092f98a165e85ce63",
              "IPY_MODEL_527e16aa744848e487d82a9422c4e247",
              "IPY_MODEL_b20f65996d534aee89472193b869648b"
            ],
            "layout": "IPY_MODEL_6046d7873c5c4665a76e2a19d8ceb8de"
          }
        },
        "6effebbd4db5415092f98a165e85ce63": {
          "model_module": "@jupyter-widgets/controls",
          "model_name": "HTMLModel",
          "model_module_version": "1.5.0",
          "state": {
            "_dom_classes": [],
            "_model_module": "@jupyter-widgets/controls",
            "_model_module_version": "1.5.0",
            "_model_name": "HTMLModel",
            "_view_count": null,
            "_view_module": "@jupyter-widgets/controls",
            "_view_module_version": "1.5.0",
            "_view_name": "HTMLView",
            "description": "",
            "description_tooltip": null,
            "layout": "IPY_MODEL_e60bf64c74504bb5b9d1f2fe94cf1374",
            "placeholder": "​",
            "style": "IPY_MODEL_b6cb9d59af4143a2b99b4c54152bf335",
            "value": "Downloading: 100%"
          }
        },
        "527e16aa744848e487d82a9422c4e247": {
          "model_module": "@jupyter-widgets/controls",
          "model_name": "FloatProgressModel",
          "model_module_version": "1.5.0",
          "state": {
            "_dom_classes": [],
            "_model_module": "@jupyter-widgets/controls",
            "_model_module_version": "1.5.0",
            "_model_name": "FloatProgressModel",
            "_view_count": null,
            "_view_module": "@jupyter-widgets/controls",
            "_view_module_version": "1.5.0",
            "_view_name": "ProgressView",
            "bar_style": "success",
            "description": "",
            "description_tooltip": null,
            "layout": "IPY_MODEL_f9068d61c6ff47ef8274adcb14cddfb1",
            "max": 231508,
            "min": 0,
            "orientation": "horizontal",
            "style": "IPY_MODEL_c72b39f150444beba94045e0507dab02",
            "value": 231508
          }
        },
        "b20f65996d534aee89472193b869648b": {
          "model_module": "@jupyter-widgets/controls",
          "model_name": "HTMLModel",
          "model_module_version": "1.5.0",
          "state": {
            "_dom_classes": [],
            "_model_module": "@jupyter-widgets/controls",
            "_model_module_version": "1.5.0",
            "_model_name": "HTMLModel",
            "_view_count": null,
            "_view_module": "@jupyter-widgets/controls",
            "_view_module_version": "1.5.0",
            "_view_name": "HTMLView",
            "description": "",
            "description_tooltip": null,
            "layout": "IPY_MODEL_5e563d003c4c413384dbac5d9b4db3d3",
            "placeholder": "​",
            "style": "IPY_MODEL_9840bcde8fc8468493066a38449e5c59",
            "value": " 226k/226k [00:00&lt;00:00, 275kB/s]"
          }
        },
        "6046d7873c5c4665a76e2a19d8ceb8de": {
          "model_module": "@jupyter-widgets/base",
          "model_name": "LayoutModel",
          "model_module_version": "1.2.0",
          "state": {
            "_model_module": "@jupyter-widgets/base",
            "_model_module_version": "1.2.0",
            "_model_name": "LayoutModel",
            "_view_count": null,
            "_view_module": "@jupyter-widgets/base",
            "_view_module_version": "1.2.0",
            "_view_name": "LayoutView",
            "align_content": null,
            "align_items": null,
            "align_self": null,
            "border": null,
            "bottom": null,
            "display": null,
            "flex": null,
            "flex_flow": null,
            "grid_area": null,
            "grid_auto_columns": null,
            "grid_auto_flow": null,
            "grid_auto_rows": null,
            "grid_column": null,
            "grid_gap": null,
            "grid_row": null,
            "grid_template_areas": null,
            "grid_template_columns": null,
            "grid_template_rows": null,
            "height": null,
            "justify_content": null,
            "justify_items": null,
            "left": null,
            "margin": null,
            "max_height": null,
            "max_width": null,
            "min_height": null,
            "min_width": null,
            "object_fit": null,
            "object_position": null,
            "order": null,
            "overflow": null,
            "overflow_x": null,
            "overflow_y": null,
            "padding": null,
            "right": null,
            "top": null,
            "visibility": null,
            "width": null
          }
        },
        "e60bf64c74504bb5b9d1f2fe94cf1374": {
          "model_module": "@jupyter-widgets/base",
          "model_name": "LayoutModel",
          "model_module_version": "1.2.0",
          "state": {
            "_model_module": "@jupyter-widgets/base",
            "_model_module_version": "1.2.0",
            "_model_name": "LayoutModel",
            "_view_count": null,
            "_view_module": "@jupyter-widgets/base",
            "_view_module_version": "1.2.0",
            "_view_name": "LayoutView",
            "align_content": null,
            "align_items": null,
            "align_self": null,
            "border": null,
            "bottom": null,
            "display": null,
            "flex": null,
            "flex_flow": null,
            "grid_area": null,
            "grid_auto_columns": null,
            "grid_auto_flow": null,
            "grid_auto_rows": null,
            "grid_column": null,
            "grid_gap": null,
            "grid_row": null,
            "grid_template_areas": null,
            "grid_template_columns": null,
            "grid_template_rows": null,
            "height": null,
            "justify_content": null,
            "justify_items": null,
            "left": null,
            "margin": null,
            "max_height": null,
            "max_width": null,
            "min_height": null,
            "min_width": null,
            "object_fit": null,
            "object_position": null,
            "order": null,
            "overflow": null,
            "overflow_x": null,
            "overflow_y": null,
            "padding": null,
            "right": null,
            "top": null,
            "visibility": null,
            "width": null
          }
        },
        "b6cb9d59af4143a2b99b4c54152bf335": {
          "model_module": "@jupyter-widgets/controls",
          "model_name": "DescriptionStyleModel",
          "model_module_version": "1.5.0",
          "state": {
            "_model_module": "@jupyter-widgets/controls",
            "_model_module_version": "1.5.0",
            "_model_name": "DescriptionStyleModel",
            "_view_count": null,
            "_view_module": "@jupyter-widgets/base",
            "_view_module_version": "1.2.0",
            "_view_name": "StyleView",
            "description_width": ""
          }
        },
        "f9068d61c6ff47ef8274adcb14cddfb1": {
          "model_module": "@jupyter-widgets/base",
          "model_name": "LayoutModel",
          "model_module_version": "1.2.0",
          "state": {
            "_model_module": "@jupyter-widgets/base",
            "_model_module_version": "1.2.0",
            "_model_name": "LayoutModel",
            "_view_count": null,
            "_view_module": "@jupyter-widgets/base",
            "_view_module_version": "1.2.0",
            "_view_name": "LayoutView",
            "align_content": null,
            "align_items": null,
            "align_self": null,
            "border": null,
            "bottom": null,
            "display": null,
            "flex": null,
            "flex_flow": null,
            "grid_area": null,
            "grid_auto_columns": null,
            "grid_auto_flow": null,
            "grid_auto_rows": null,
            "grid_column": null,
            "grid_gap": null,
            "grid_row": null,
            "grid_template_areas": null,
            "grid_template_columns": null,
            "grid_template_rows": null,
            "height": null,
            "justify_content": null,
            "justify_items": null,
            "left": null,
            "margin": null,
            "max_height": null,
            "max_width": null,
            "min_height": null,
            "min_width": null,
            "object_fit": null,
            "object_position": null,
            "order": null,
            "overflow": null,
            "overflow_x": null,
            "overflow_y": null,
            "padding": null,
            "right": null,
            "top": null,
            "visibility": null,
            "width": null
          }
        },
        "c72b39f150444beba94045e0507dab02": {
          "model_module": "@jupyter-widgets/controls",
          "model_name": "ProgressStyleModel",
          "model_module_version": "1.5.0",
          "state": {
            "_model_module": "@jupyter-widgets/controls",
            "_model_module_version": "1.5.0",
            "_model_name": "ProgressStyleModel",
            "_view_count": null,
            "_view_module": "@jupyter-widgets/base",
            "_view_module_version": "1.2.0",
            "_view_name": "StyleView",
            "bar_color": null,
            "description_width": ""
          }
        },
        "5e563d003c4c413384dbac5d9b4db3d3": {
          "model_module": "@jupyter-widgets/base",
          "model_name": "LayoutModel",
          "model_module_version": "1.2.0",
          "state": {
            "_model_module": "@jupyter-widgets/base",
            "_model_module_version": "1.2.0",
            "_model_name": "LayoutModel",
            "_view_count": null,
            "_view_module": "@jupyter-widgets/base",
            "_view_module_version": "1.2.0",
            "_view_name": "LayoutView",
            "align_content": null,
            "align_items": null,
            "align_self": null,
            "border": null,
            "bottom": null,
            "display": null,
            "flex": null,
            "flex_flow": null,
            "grid_area": null,
            "grid_auto_columns": null,
            "grid_auto_flow": null,
            "grid_auto_rows": null,
            "grid_column": null,
            "grid_gap": null,
            "grid_row": null,
            "grid_template_areas": null,
            "grid_template_columns": null,
            "grid_template_rows": null,
            "height": null,
            "justify_content": null,
            "justify_items": null,
            "left": null,
            "margin": null,
            "max_height": null,
            "max_width": null,
            "min_height": null,
            "min_width": null,
            "object_fit": null,
            "object_position": null,
            "order": null,
            "overflow": null,
            "overflow_x": null,
            "overflow_y": null,
            "padding": null,
            "right": null,
            "top": null,
            "visibility": null,
            "width": null
          }
        },
        "9840bcde8fc8468493066a38449e5c59": {
          "model_module": "@jupyter-widgets/controls",
          "model_name": "DescriptionStyleModel",
          "model_module_version": "1.5.0",
          "state": {
            "_model_module": "@jupyter-widgets/controls",
            "_model_module_version": "1.5.0",
            "_model_name": "DescriptionStyleModel",
            "_view_count": null,
            "_view_module": "@jupyter-widgets/base",
            "_view_module_version": "1.2.0",
            "_view_name": "StyleView",
            "description_width": ""
          }
        },
        "a27650b5ebbf4c1faeac0238b76ab312": {
          "model_module": "@jupyter-widgets/controls",
          "model_name": "HBoxModel",
          "model_module_version": "1.5.0",
          "state": {
            "_dom_classes": [],
            "_model_module": "@jupyter-widgets/controls",
            "_model_module_version": "1.5.0",
            "_model_name": "HBoxModel",
            "_view_count": null,
            "_view_module": "@jupyter-widgets/controls",
            "_view_module_version": "1.5.0",
            "_view_name": "HBoxView",
            "box_style": "",
            "children": [
              "IPY_MODEL_b55808e06f2840ea9ea86399b5b3ba1f",
              "IPY_MODEL_776a90945c5f4edf9aa4a73a29bad779",
              "IPY_MODEL_2f74fc76d85c44948108782fd9ca456d"
            ],
            "layout": "IPY_MODEL_c9dcdbe8077c450397bb27c714ddf84e"
          }
        },
        "b55808e06f2840ea9ea86399b5b3ba1f": {
          "model_module": "@jupyter-widgets/controls",
          "model_name": "HTMLModel",
          "model_module_version": "1.5.0",
          "state": {
            "_dom_classes": [],
            "_model_module": "@jupyter-widgets/controls",
            "_model_module_version": "1.5.0",
            "_model_name": "HTMLModel",
            "_view_count": null,
            "_view_module": "@jupyter-widgets/controls",
            "_view_module_version": "1.5.0",
            "_view_name": "HTMLView",
            "description": "",
            "description_tooltip": null,
            "layout": "IPY_MODEL_ee3dcf3c540742de9e4b5d282314090d",
            "placeholder": "​",
            "style": "IPY_MODEL_0e68a6817c084acaac7f54c030d1f249",
            "value": "Downloading: 100%"
          }
        },
        "776a90945c5f4edf9aa4a73a29bad779": {
          "model_module": "@jupyter-widgets/controls",
          "model_name": "FloatProgressModel",
          "model_module_version": "1.5.0",
          "state": {
            "_dom_classes": [],
            "_model_module": "@jupyter-widgets/controls",
            "_model_module_version": "1.5.0",
            "_model_name": "FloatProgressModel",
            "_view_count": null,
            "_view_module": "@jupyter-widgets/controls",
            "_view_module_version": "1.5.0",
            "_view_name": "ProgressView",
            "bar_style": "success",
            "description": "",
            "description_tooltip": null,
            "layout": "IPY_MODEL_677ab10ffd2c41be807857c15d28180d",
            "max": 466081,
            "min": 0,
            "orientation": "horizontal",
            "style": "IPY_MODEL_9fa857ad55dd44e8ac5d006aa4de0139",
            "value": 466081
          }
        },
        "2f74fc76d85c44948108782fd9ca456d": {
          "model_module": "@jupyter-widgets/controls",
          "model_name": "HTMLModel",
          "model_module_version": "1.5.0",
          "state": {
            "_dom_classes": [],
            "_model_module": "@jupyter-widgets/controls",
            "_model_module_version": "1.5.0",
            "_model_name": "HTMLModel",
            "_view_count": null,
            "_view_module": "@jupyter-widgets/controls",
            "_view_module_version": "1.5.0",
            "_view_name": "HTMLView",
            "description": "",
            "description_tooltip": null,
            "layout": "IPY_MODEL_c02f97982f4a419baa400424f06178c5",
            "placeholder": "​",
            "style": "IPY_MODEL_6a9f594ab3b9474ebced5c67674a7d48",
            "value": " 455k/455k [00:00&lt;00:00, 699kB/s]"
          }
        },
        "c9dcdbe8077c450397bb27c714ddf84e": {
          "model_module": "@jupyter-widgets/base",
          "model_name": "LayoutModel",
          "model_module_version": "1.2.0",
          "state": {
            "_model_module": "@jupyter-widgets/base",
            "_model_module_version": "1.2.0",
            "_model_name": "LayoutModel",
            "_view_count": null,
            "_view_module": "@jupyter-widgets/base",
            "_view_module_version": "1.2.0",
            "_view_name": "LayoutView",
            "align_content": null,
            "align_items": null,
            "align_self": null,
            "border": null,
            "bottom": null,
            "display": null,
            "flex": null,
            "flex_flow": null,
            "grid_area": null,
            "grid_auto_columns": null,
            "grid_auto_flow": null,
            "grid_auto_rows": null,
            "grid_column": null,
            "grid_gap": null,
            "grid_row": null,
            "grid_template_areas": null,
            "grid_template_columns": null,
            "grid_template_rows": null,
            "height": null,
            "justify_content": null,
            "justify_items": null,
            "left": null,
            "margin": null,
            "max_height": null,
            "max_width": null,
            "min_height": null,
            "min_width": null,
            "object_fit": null,
            "object_position": null,
            "order": null,
            "overflow": null,
            "overflow_x": null,
            "overflow_y": null,
            "padding": null,
            "right": null,
            "top": null,
            "visibility": null,
            "width": null
          }
        },
        "ee3dcf3c540742de9e4b5d282314090d": {
          "model_module": "@jupyter-widgets/base",
          "model_name": "LayoutModel",
          "model_module_version": "1.2.0",
          "state": {
            "_model_module": "@jupyter-widgets/base",
            "_model_module_version": "1.2.0",
            "_model_name": "LayoutModel",
            "_view_count": null,
            "_view_module": "@jupyter-widgets/base",
            "_view_module_version": "1.2.0",
            "_view_name": "LayoutView",
            "align_content": null,
            "align_items": null,
            "align_self": null,
            "border": null,
            "bottom": null,
            "display": null,
            "flex": null,
            "flex_flow": null,
            "grid_area": null,
            "grid_auto_columns": null,
            "grid_auto_flow": null,
            "grid_auto_rows": null,
            "grid_column": null,
            "grid_gap": null,
            "grid_row": null,
            "grid_template_areas": null,
            "grid_template_columns": null,
            "grid_template_rows": null,
            "height": null,
            "justify_content": null,
            "justify_items": null,
            "left": null,
            "margin": null,
            "max_height": null,
            "max_width": null,
            "min_height": null,
            "min_width": null,
            "object_fit": null,
            "object_position": null,
            "order": null,
            "overflow": null,
            "overflow_x": null,
            "overflow_y": null,
            "padding": null,
            "right": null,
            "top": null,
            "visibility": null,
            "width": null
          }
        },
        "0e68a6817c084acaac7f54c030d1f249": {
          "model_module": "@jupyter-widgets/controls",
          "model_name": "DescriptionStyleModel",
          "model_module_version": "1.5.0",
          "state": {
            "_model_module": "@jupyter-widgets/controls",
            "_model_module_version": "1.5.0",
            "_model_name": "DescriptionStyleModel",
            "_view_count": null,
            "_view_module": "@jupyter-widgets/base",
            "_view_module_version": "1.2.0",
            "_view_name": "StyleView",
            "description_width": ""
          }
        },
        "677ab10ffd2c41be807857c15d28180d": {
          "model_module": "@jupyter-widgets/base",
          "model_name": "LayoutModel",
          "model_module_version": "1.2.0",
          "state": {
            "_model_module": "@jupyter-widgets/base",
            "_model_module_version": "1.2.0",
            "_model_name": "LayoutModel",
            "_view_count": null,
            "_view_module": "@jupyter-widgets/base",
            "_view_module_version": "1.2.0",
            "_view_name": "LayoutView",
            "align_content": null,
            "align_items": null,
            "align_self": null,
            "border": null,
            "bottom": null,
            "display": null,
            "flex": null,
            "flex_flow": null,
            "grid_area": null,
            "grid_auto_columns": null,
            "grid_auto_flow": null,
            "grid_auto_rows": null,
            "grid_column": null,
            "grid_gap": null,
            "grid_row": null,
            "grid_template_areas": null,
            "grid_template_columns": null,
            "grid_template_rows": null,
            "height": null,
            "justify_content": null,
            "justify_items": null,
            "left": null,
            "margin": null,
            "max_height": null,
            "max_width": null,
            "min_height": null,
            "min_width": null,
            "object_fit": null,
            "object_position": null,
            "order": null,
            "overflow": null,
            "overflow_x": null,
            "overflow_y": null,
            "padding": null,
            "right": null,
            "top": null,
            "visibility": null,
            "width": null
          }
        },
        "9fa857ad55dd44e8ac5d006aa4de0139": {
          "model_module": "@jupyter-widgets/controls",
          "model_name": "ProgressStyleModel",
          "model_module_version": "1.5.0",
          "state": {
            "_model_module": "@jupyter-widgets/controls",
            "_model_module_version": "1.5.0",
            "_model_name": "ProgressStyleModel",
            "_view_count": null,
            "_view_module": "@jupyter-widgets/base",
            "_view_module_version": "1.2.0",
            "_view_name": "StyleView",
            "bar_color": null,
            "description_width": ""
          }
        },
        "c02f97982f4a419baa400424f06178c5": {
          "model_module": "@jupyter-widgets/base",
          "model_name": "LayoutModel",
          "model_module_version": "1.2.0",
          "state": {
            "_model_module": "@jupyter-widgets/base",
            "_model_module_version": "1.2.0",
            "_model_name": "LayoutModel",
            "_view_count": null,
            "_view_module": "@jupyter-widgets/base",
            "_view_module_version": "1.2.0",
            "_view_name": "LayoutView",
            "align_content": null,
            "align_items": null,
            "align_self": null,
            "border": null,
            "bottom": null,
            "display": null,
            "flex": null,
            "flex_flow": null,
            "grid_area": null,
            "grid_auto_columns": null,
            "grid_auto_flow": null,
            "grid_auto_rows": null,
            "grid_column": null,
            "grid_gap": null,
            "grid_row": null,
            "grid_template_areas": null,
            "grid_template_columns": null,
            "grid_template_rows": null,
            "height": null,
            "justify_content": null,
            "justify_items": null,
            "left": null,
            "margin": null,
            "max_height": null,
            "max_width": null,
            "min_height": null,
            "min_width": null,
            "object_fit": null,
            "object_position": null,
            "order": null,
            "overflow": null,
            "overflow_x": null,
            "overflow_y": null,
            "padding": null,
            "right": null,
            "top": null,
            "visibility": null,
            "width": null
          }
        },
        "6a9f594ab3b9474ebced5c67674a7d48": {
          "model_module": "@jupyter-widgets/controls",
          "model_name": "DescriptionStyleModel",
          "model_module_version": "1.5.0",
          "state": {
            "_model_module": "@jupyter-widgets/controls",
            "_model_module_version": "1.5.0",
            "_model_name": "DescriptionStyleModel",
            "_view_count": null,
            "_view_module": "@jupyter-widgets/base",
            "_view_module_version": "1.2.0",
            "_view_name": "StyleView",
            "description_width": ""
          }
        },
        "fc47a71b873d4cc485a1b0e95420d391": {
          "model_module": "@jupyter-widgets/controls",
          "model_name": "HBoxModel",
          "model_module_version": "1.5.0",
          "state": {
            "_dom_classes": [],
            "_model_module": "@jupyter-widgets/controls",
            "_model_module_version": "1.5.0",
            "_model_name": "HBoxModel",
            "_view_count": null,
            "_view_module": "@jupyter-widgets/controls",
            "_view_module_version": "1.5.0",
            "_view_name": "HBoxView",
            "box_style": "",
            "children": [
              "IPY_MODEL_2a2549b821204ba0ac4fec470117eedb",
              "IPY_MODEL_085910cea7894af6ab67b360147c626d",
              "IPY_MODEL_9a2b94623d654fb89c26f326455714e5"
            ],
            "layout": "IPY_MODEL_a6cb54d1379d409797f524d4b9055481"
          }
        },
        "2a2549b821204ba0ac4fec470117eedb": {
          "model_module": "@jupyter-widgets/controls",
          "model_name": "HTMLModel",
          "model_module_version": "1.5.0",
          "state": {
            "_dom_classes": [],
            "_model_module": "@jupyter-widgets/controls",
            "_model_module_version": "1.5.0",
            "_model_name": "HTMLModel",
            "_view_count": null,
            "_view_module": "@jupyter-widgets/controls",
            "_view_module_version": "1.5.0",
            "_view_name": "HTMLView",
            "description": "",
            "description_tooltip": null,
            "layout": "IPY_MODEL_b8c2e28578a940ee98eb009a9633c29a",
            "placeholder": "​",
            "style": "IPY_MODEL_53c2bef62e2f43ec95c2ff5127213eed",
            "value": "Downloading: 100%"
          }
        },
        "085910cea7894af6ab67b360147c626d": {
          "model_module": "@jupyter-widgets/controls",
          "model_name": "FloatProgressModel",
          "model_module_version": "1.5.0",
          "state": {
            "_dom_classes": [],
            "_model_module": "@jupyter-widgets/controls",
            "_model_module_version": "1.5.0",
            "_model_name": "FloatProgressModel",
            "_view_count": null,
            "_view_module": "@jupyter-widgets/controls",
            "_view_module_version": "1.5.0",
            "_view_name": "ProgressView",
            "bar_style": "success",
            "description": "",
            "description_tooltip": null,
            "layout": "IPY_MODEL_b2a3e5fe6eb04289abf22ff28d798e89",
            "max": 2,
            "min": 0,
            "orientation": "horizontal",
            "style": "IPY_MODEL_b09a0cc85ef840abbe43aff4e2f0e4cb",
            "value": 2
          }
        },
        "9a2b94623d654fb89c26f326455714e5": {
          "model_module": "@jupyter-widgets/controls",
          "model_name": "HTMLModel",
          "model_module_version": "1.5.0",
          "state": {
            "_dom_classes": [],
            "_model_module": "@jupyter-widgets/controls",
            "_model_module_version": "1.5.0",
            "_model_name": "HTMLModel",
            "_view_count": null,
            "_view_module": "@jupyter-widgets/controls",
            "_view_module_version": "1.5.0",
            "_view_name": "HTMLView",
            "description": "",
            "description_tooltip": null,
            "layout": "IPY_MODEL_5debcae8dddc45549c303bdea10dfbcc",
            "placeholder": "​",
            "style": "IPY_MODEL_5311a7d0acb243e59012eb970cf0306d",
            "value": " 2.00/2.00 [00:00&lt;00:00, 26.8B/s]"
          }
        },
        "a6cb54d1379d409797f524d4b9055481": {
          "model_module": "@jupyter-widgets/base",
          "model_name": "LayoutModel",
          "model_module_version": "1.2.0",
          "state": {
            "_model_module": "@jupyter-widgets/base",
            "_model_module_version": "1.2.0",
            "_model_name": "LayoutModel",
            "_view_count": null,
            "_view_module": "@jupyter-widgets/base",
            "_view_module_version": "1.2.0",
            "_view_name": "LayoutView",
            "align_content": null,
            "align_items": null,
            "align_self": null,
            "border": null,
            "bottom": null,
            "display": null,
            "flex": null,
            "flex_flow": null,
            "grid_area": null,
            "grid_auto_columns": null,
            "grid_auto_flow": null,
            "grid_auto_rows": null,
            "grid_column": null,
            "grid_gap": null,
            "grid_row": null,
            "grid_template_areas": null,
            "grid_template_columns": null,
            "grid_template_rows": null,
            "height": null,
            "justify_content": null,
            "justify_items": null,
            "left": null,
            "margin": null,
            "max_height": null,
            "max_width": null,
            "min_height": null,
            "min_width": null,
            "object_fit": null,
            "object_position": null,
            "order": null,
            "overflow": null,
            "overflow_x": null,
            "overflow_y": null,
            "padding": null,
            "right": null,
            "top": null,
            "visibility": null,
            "width": null
          }
        },
        "b8c2e28578a940ee98eb009a9633c29a": {
          "model_module": "@jupyter-widgets/base",
          "model_name": "LayoutModel",
          "model_module_version": "1.2.0",
          "state": {
            "_model_module": "@jupyter-widgets/base",
            "_model_module_version": "1.2.0",
            "_model_name": "LayoutModel",
            "_view_count": null,
            "_view_module": "@jupyter-widgets/base",
            "_view_module_version": "1.2.0",
            "_view_name": "LayoutView",
            "align_content": null,
            "align_items": null,
            "align_self": null,
            "border": null,
            "bottom": null,
            "display": null,
            "flex": null,
            "flex_flow": null,
            "grid_area": null,
            "grid_auto_columns": null,
            "grid_auto_flow": null,
            "grid_auto_rows": null,
            "grid_column": null,
            "grid_gap": null,
            "grid_row": null,
            "grid_template_areas": null,
            "grid_template_columns": null,
            "grid_template_rows": null,
            "height": null,
            "justify_content": null,
            "justify_items": null,
            "left": null,
            "margin": null,
            "max_height": null,
            "max_width": null,
            "min_height": null,
            "min_width": null,
            "object_fit": null,
            "object_position": null,
            "order": null,
            "overflow": null,
            "overflow_x": null,
            "overflow_y": null,
            "padding": null,
            "right": null,
            "top": null,
            "visibility": null,
            "width": null
          }
        },
        "53c2bef62e2f43ec95c2ff5127213eed": {
          "model_module": "@jupyter-widgets/controls",
          "model_name": "DescriptionStyleModel",
          "model_module_version": "1.5.0",
          "state": {
            "_model_module": "@jupyter-widgets/controls",
            "_model_module_version": "1.5.0",
            "_model_name": "DescriptionStyleModel",
            "_view_count": null,
            "_view_module": "@jupyter-widgets/base",
            "_view_module_version": "1.2.0",
            "_view_name": "StyleView",
            "description_width": ""
          }
        },
        "b2a3e5fe6eb04289abf22ff28d798e89": {
          "model_module": "@jupyter-widgets/base",
          "model_name": "LayoutModel",
          "model_module_version": "1.2.0",
          "state": {
            "_model_module": "@jupyter-widgets/base",
            "_model_module_version": "1.2.0",
            "_model_name": "LayoutModel",
            "_view_count": null,
            "_view_module": "@jupyter-widgets/base",
            "_view_module_version": "1.2.0",
            "_view_name": "LayoutView",
            "align_content": null,
            "align_items": null,
            "align_self": null,
            "border": null,
            "bottom": null,
            "display": null,
            "flex": null,
            "flex_flow": null,
            "grid_area": null,
            "grid_auto_columns": null,
            "grid_auto_flow": null,
            "grid_auto_rows": null,
            "grid_column": null,
            "grid_gap": null,
            "grid_row": null,
            "grid_template_areas": null,
            "grid_template_columns": null,
            "grid_template_rows": null,
            "height": null,
            "justify_content": null,
            "justify_items": null,
            "left": null,
            "margin": null,
            "max_height": null,
            "max_width": null,
            "min_height": null,
            "min_width": null,
            "object_fit": null,
            "object_position": null,
            "order": null,
            "overflow": null,
            "overflow_x": null,
            "overflow_y": null,
            "padding": null,
            "right": null,
            "top": null,
            "visibility": null,
            "width": null
          }
        },
        "b09a0cc85ef840abbe43aff4e2f0e4cb": {
          "model_module": "@jupyter-widgets/controls",
          "model_name": "ProgressStyleModel",
          "model_module_version": "1.5.0",
          "state": {
            "_model_module": "@jupyter-widgets/controls",
            "_model_module_version": "1.5.0",
            "_model_name": "ProgressStyleModel",
            "_view_count": null,
            "_view_module": "@jupyter-widgets/base",
            "_view_module_version": "1.2.0",
            "_view_name": "StyleView",
            "bar_color": null,
            "description_width": ""
          }
        },
        "5debcae8dddc45549c303bdea10dfbcc": {
          "model_module": "@jupyter-widgets/base",
          "model_name": "LayoutModel",
          "model_module_version": "1.2.0",
          "state": {
            "_model_module": "@jupyter-widgets/base",
            "_model_module_version": "1.2.0",
            "_model_name": "LayoutModel",
            "_view_count": null,
            "_view_module": "@jupyter-widgets/base",
            "_view_module_version": "1.2.0",
            "_view_name": "LayoutView",
            "align_content": null,
            "align_items": null,
            "align_self": null,
            "border": null,
            "bottom": null,
            "display": null,
            "flex": null,
            "flex_flow": null,
            "grid_area": null,
            "grid_auto_columns": null,
            "grid_auto_flow": null,
            "grid_auto_rows": null,
            "grid_column": null,
            "grid_gap": null,
            "grid_row": null,
            "grid_template_areas": null,
            "grid_template_columns": null,
            "grid_template_rows": null,
            "height": null,
            "justify_content": null,
            "justify_items": null,
            "left": null,
            "margin": null,
            "max_height": null,
            "max_width": null,
            "min_height": null,
            "min_width": null,
            "object_fit": null,
            "object_position": null,
            "order": null,
            "overflow": null,
            "overflow_x": null,
            "overflow_y": null,
            "padding": null,
            "right": null,
            "top": null,
            "visibility": null,
            "width": null
          }
        },
        "5311a7d0acb243e59012eb970cf0306d": {
          "model_module": "@jupyter-widgets/controls",
          "model_name": "DescriptionStyleModel",
          "model_module_version": "1.5.0",
          "state": {
            "_model_module": "@jupyter-widgets/controls",
            "_model_module_version": "1.5.0",
            "_model_name": "DescriptionStyleModel",
            "_view_count": null,
            "_view_module": "@jupyter-widgets/base",
            "_view_module_version": "1.2.0",
            "_view_name": "StyleView",
            "description_width": ""
          }
        },
        "e99a7d775f1d47e186eeac8648cb7b0d": {
          "model_module": "@jupyter-widgets/controls",
          "model_name": "HBoxModel",
          "model_module_version": "1.5.0",
          "state": {
            "_dom_classes": [],
            "_model_module": "@jupyter-widgets/controls",
            "_model_module_version": "1.5.0",
            "_model_name": "HBoxModel",
            "_view_count": null,
            "_view_module": "@jupyter-widgets/controls",
            "_view_module_version": "1.5.0",
            "_view_name": "HBoxView",
            "box_style": "",
            "children": [
              "IPY_MODEL_a990a6ca23dc4f00bae09cdd23095f61",
              "IPY_MODEL_6d2eb08cb2b04d3991d147c10467a67e",
              "IPY_MODEL_c4c4877ed3bf47469beecf237fc166f0"
            ],
            "layout": "IPY_MODEL_46530866d9404df2a2d04cc1f152ee7f"
          }
        },
        "a990a6ca23dc4f00bae09cdd23095f61": {
          "model_module": "@jupyter-widgets/controls",
          "model_name": "HTMLModel",
          "model_module_version": "1.5.0",
          "state": {
            "_dom_classes": [],
            "_model_module": "@jupyter-widgets/controls",
            "_model_module_version": "1.5.0",
            "_model_name": "HTMLModel",
            "_view_count": null,
            "_view_module": "@jupyter-widgets/controls",
            "_view_module_version": "1.5.0",
            "_view_name": "HTMLView",
            "description": "",
            "description_tooltip": null,
            "layout": "IPY_MODEL_f3a3fd85dc0f49e6b5a9fa13adb2e511",
            "placeholder": "​",
            "style": "IPY_MODEL_f974a25941444e3ab4c2722589fabcaf",
            "value": "Downloading: 100%"
          }
        },
        "6d2eb08cb2b04d3991d147c10467a67e": {
          "model_module": "@jupyter-widgets/controls",
          "model_name": "FloatProgressModel",
          "model_module_version": "1.5.0",
          "state": {
            "_dom_classes": [],
            "_model_module": "@jupyter-widgets/controls",
            "_model_module_version": "1.5.0",
            "_model_name": "FloatProgressModel",
            "_view_count": null,
            "_view_module": "@jupyter-widgets/controls",
            "_view_module_version": "1.5.0",
            "_view_name": "ProgressView",
            "bar_style": "success",
            "description": "",
            "description_tooltip": null,
            "layout": "IPY_MODEL_8469bc63de39476693e5fdcb75b1a19d",
            "max": 112,
            "min": 0,
            "orientation": "horizontal",
            "style": "IPY_MODEL_6781a830f04d4484a8c4d104a914dc1e",
            "value": 112
          }
        },
        "c4c4877ed3bf47469beecf237fc166f0": {
          "model_module": "@jupyter-widgets/controls",
          "model_name": "HTMLModel",
          "model_module_version": "1.5.0",
          "state": {
            "_dom_classes": [],
            "_model_module": "@jupyter-widgets/controls",
            "_model_module_version": "1.5.0",
            "_model_name": "HTMLModel",
            "_view_count": null,
            "_view_module": "@jupyter-widgets/controls",
            "_view_module_version": "1.5.0",
            "_view_name": "HTMLView",
            "description": "",
            "description_tooltip": null,
            "layout": "IPY_MODEL_eb807edf105941b6ac8e41039d8e2017",
            "placeholder": "​",
            "style": "IPY_MODEL_080922e66dc7455699db778160e4a8e9",
            "value": " 112/112 [00:00&lt;00:00, 749B/s]"
          }
        },
        "46530866d9404df2a2d04cc1f152ee7f": {
          "model_module": "@jupyter-widgets/base",
          "model_name": "LayoutModel",
          "model_module_version": "1.2.0",
          "state": {
            "_model_module": "@jupyter-widgets/base",
            "_model_module_version": "1.2.0",
            "_model_name": "LayoutModel",
            "_view_count": null,
            "_view_module": "@jupyter-widgets/base",
            "_view_module_version": "1.2.0",
            "_view_name": "LayoutView",
            "align_content": null,
            "align_items": null,
            "align_self": null,
            "border": null,
            "bottom": null,
            "display": null,
            "flex": null,
            "flex_flow": null,
            "grid_area": null,
            "grid_auto_columns": null,
            "grid_auto_flow": null,
            "grid_auto_rows": null,
            "grid_column": null,
            "grid_gap": null,
            "grid_row": null,
            "grid_template_areas": null,
            "grid_template_columns": null,
            "grid_template_rows": null,
            "height": null,
            "justify_content": null,
            "justify_items": null,
            "left": null,
            "margin": null,
            "max_height": null,
            "max_width": null,
            "min_height": null,
            "min_width": null,
            "object_fit": null,
            "object_position": null,
            "order": null,
            "overflow": null,
            "overflow_x": null,
            "overflow_y": null,
            "padding": null,
            "right": null,
            "top": null,
            "visibility": null,
            "width": null
          }
        },
        "f3a3fd85dc0f49e6b5a9fa13adb2e511": {
          "model_module": "@jupyter-widgets/base",
          "model_name": "LayoutModel",
          "model_module_version": "1.2.0",
          "state": {
            "_model_module": "@jupyter-widgets/base",
            "_model_module_version": "1.2.0",
            "_model_name": "LayoutModel",
            "_view_count": null,
            "_view_module": "@jupyter-widgets/base",
            "_view_module_version": "1.2.0",
            "_view_name": "LayoutView",
            "align_content": null,
            "align_items": null,
            "align_self": null,
            "border": null,
            "bottom": null,
            "display": null,
            "flex": null,
            "flex_flow": null,
            "grid_area": null,
            "grid_auto_columns": null,
            "grid_auto_flow": null,
            "grid_auto_rows": null,
            "grid_column": null,
            "grid_gap": null,
            "grid_row": null,
            "grid_template_areas": null,
            "grid_template_columns": null,
            "grid_template_rows": null,
            "height": null,
            "justify_content": null,
            "justify_items": null,
            "left": null,
            "margin": null,
            "max_height": null,
            "max_width": null,
            "min_height": null,
            "min_width": null,
            "object_fit": null,
            "object_position": null,
            "order": null,
            "overflow": null,
            "overflow_x": null,
            "overflow_y": null,
            "padding": null,
            "right": null,
            "top": null,
            "visibility": null,
            "width": null
          }
        },
        "f974a25941444e3ab4c2722589fabcaf": {
          "model_module": "@jupyter-widgets/controls",
          "model_name": "DescriptionStyleModel",
          "model_module_version": "1.5.0",
          "state": {
            "_model_module": "@jupyter-widgets/controls",
            "_model_module_version": "1.5.0",
            "_model_name": "DescriptionStyleModel",
            "_view_count": null,
            "_view_module": "@jupyter-widgets/base",
            "_view_module_version": "1.2.0",
            "_view_name": "StyleView",
            "description_width": ""
          }
        },
        "8469bc63de39476693e5fdcb75b1a19d": {
          "model_module": "@jupyter-widgets/base",
          "model_name": "LayoutModel",
          "model_module_version": "1.2.0",
          "state": {
            "_model_module": "@jupyter-widgets/base",
            "_model_module_version": "1.2.0",
            "_model_name": "LayoutModel",
            "_view_count": null,
            "_view_module": "@jupyter-widgets/base",
            "_view_module_version": "1.2.0",
            "_view_name": "LayoutView",
            "align_content": null,
            "align_items": null,
            "align_self": null,
            "border": null,
            "bottom": null,
            "display": null,
            "flex": null,
            "flex_flow": null,
            "grid_area": null,
            "grid_auto_columns": null,
            "grid_auto_flow": null,
            "grid_auto_rows": null,
            "grid_column": null,
            "grid_gap": null,
            "grid_row": null,
            "grid_template_areas": null,
            "grid_template_columns": null,
            "grid_template_rows": null,
            "height": null,
            "justify_content": null,
            "justify_items": null,
            "left": null,
            "margin": null,
            "max_height": null,
            "max_width": null,
            "min_height": null,
            "min_width": null,
            "object_fit": null,
            "object_position": null,
            "order": null,
            "overflow": null,
            "overflow_x": null,
            "overflow_y": null,
            "padding": null,
            "right": null,
            "top": null,
            "visibility": null,
            "width": null
          }
        },
        "6781a830f04d4484a8c4d104a914dc1e": {
          "model_module": "@jupyter-widgets/controls",
          "model_name": "ProgressStyleModel",
          "model_module_version": "1.5.0",
          "state": {
            "_model_module": "@jupyter-widgets/controls",
            "_model_module_version": "1.5.0",
            "_model_name": "ProgressStyleModel",
            "_view_count": null,
            "_view_module": "@jupyter-widgets/base",
            "_view_module_version": "1.2.0",
            "_view_name": "StyleView",
            "bar_color": null,
            "description_width": ""
          }
        },
        "eb807edf105941b6ac8e41039d8e2017": {
          "model_module": "@jupyter-widgets/base",
          "model_name": "LayoutModel",
          "model_module_version": "1.2.0",
          "state": {
            "_model_module": "@jupyter-widgets/base",
            "_model_module_version": "1.2.0",
            "_model_name": "LayoutModel",
            "_view_count": null,
            "_view_module": "@jupyter-widgets/base",
            "_view_module_version": "1.2.0",
            "_view_name": "LayoutView",
            "align_content": null,
            "align_items": null,
            "align_self": null,
            "border": null,
            "bottom": null,
            "display": null,
            "flex": null,
            "flex_flow": null,
            "grid_area": null,
            "grid_auto_columns": null,
            "grid_auto_flow": null,
            "grid_auto_rows": null,
            "grid_column": null,
            "grid_gap": null,
            "grid_row": null,
            "grid_template_areas": null,
            "grid_template_columns": null,
            "grid_template_rows": null,
            "height": null,
            "justify_content": null,
            "justify_items": null,
            "left": null,
            "margin": null,
            "max_height": null,
            "max_width": null,
            "min_height": null,
            "min_width": null,
            "object_fit": null,
            "object_position": null,
            "order": null,
            "overflow": null,
            "overflow_x": null,
            "overflow_y": null,
            "padding": null,
            "right": null,
            "top": null,
            "visibility": null,
            "width": null
          }
        },
        "080922e66dc7455699db778160e4a8e9": {
          "model_module": "@jupyter-widgets/controls",
          "model_name": "DescriptionStyleModel",
          "model_module_version": "1.5.0",
          "state": {
            "_model_module": "@jupyter-widgets/controls",
            "_model_module_version": "1.5.0",
            "_model_name": "DescriptionStyleModel",
            "_view_count": null,
            "_view_module": "@jupyter-widgets/base",
            "_view_module_version": "1.2.0",
            "_view_name": "StyleView",
            "description_width": ""
          }
        },
        "753caa269e374cf98d577707a6676ea7": {
          "model_module": "@jupyter-widgets/controls",
          "model_name": "HBoxModel",
          "model_module_version": "1.5.0",
          "state": {
            "_dom_classes": [],
            "_model_module": "@jupyter-widgets/controls",
            "_model_module_version": "1.5.0",
            "_model_name": "HBoxModel",
            "_view_count": null,
            "_view_module": "@jupyter-widgets/controls",
            "_view_module_version": "1.5.0",
            "_view_name": "HBoxView",
            "box_style": "",
            "children": [
              "IPY_MODEL_0449cdf94dee4928b678d6ce5eeb5d13",
              "IPY_MODEL_7aef5fef96224b9bbf51b2cd2cbb0d45",
              "IPY_MODEL_8f3ec2e70ff6458ca596ba3a5a151838"
            ],
            "layout": "IPY_MODEL_1e82ac3c99c049d2aa9c7c59454a8ada"
          }
        },
        "0449cdf94dee4928b678d6ce5eeb5d13": {
          "model_module": "@jupyter-widgets/controls",
          "model_name": "HTMLModel",
          "model_module_version": "1.5.0",
          "state": {
            "_dom_classes": [],
            "_model_module": "@jupyter-widgets/controls",
            "_model_module_version": "1.5.0",
            "_model_name": "HTMLModel",
            "_view_count": null,
            "_view_module": "@jupyter-widgets/controls",
            "_view_module_version": "1.5.0",
            "_view_name": "HTMLView",
            "description": "",
            "description_tooltip": null,
            "layout": "IPY_MODEL_c636e0265ac94209ad51051f5e38147c",
            "placeholder": "​",
            "style": "IPY_MODEL_ec6e19df918f4e92a66f85f83f989c93",
            "value": "Downloading: 100%"
          }
        },
        "7aef5fef96224b9bbf51b2cd2cbb0d45": {
          "model_module": "@jupyter-widgets/controls",
          "model_name": "FloatProgressModel",
          "model_module_version": "1.5.0",
          "state": {
            "_dom_classes": [],
            "_model_module": "@jupyter-widgets/controls",
            "_model_module_version": "1.5.0",
            "_model_name": "FloatProgressModel",
            "_view_count": null,
            "_view_module": "@jupyter-widgets/controls",
            "_view_module_version": "1.5.0",
            "_view_name": "ProgressView",
            "bar_style": "success",
            "description": "",
            "description_tooltip": null,
            "layout": "IPY_MODEL_642cddc4aec049e8b6c3c04590a7c5d0",
            "max": 438007537,
            "min": 0,
            "orientation": "horizontal",
            "style": "IPY_MODEL_880ab075d7904a26b77da6efae33c2bf",
            "value": 438007537
          }
        },
        "8f3ec2e70ff6458ca596ba3a5a151838": {
          "model_module": "@jupyter-widgets/controls",
          "model_name": "HTMLModel",
          "model_module_version": "1.5.0",
          "state": {
            "_dom_classes": [],
            "_model_module": "@jupyter-widgets/controls",
            "_model_module_version": "1.5.0",
            "_model_name": "HTMLModel",
            "_view_count": null,
            "_view_module": "@jupyter-widgets/controls",
            "_view_module_version": "1.5.0",
            "_view_name": "HTMLView",
            "description": "",
            "description_tooltip": null,
            "layout": "IPY_MODEL_a5ecf7ce0d6a4527a8c42f87eec2645c",
            "placeholder": "​",
            "style": "IPY_MODEL_d72a71dfb9f243b0aa0b9ced6a4d7bc9",
            "value": " 418M/418M [00:25&lt;00:00, 37.9MB/s]"
          }
        },
        "1e82ac3c99c049d2aa9c7c59454a8ada": {
          "model_module": "@jupyter-widgets/base",
          "model_name": "LayoutModel",
          "model_module_version": "1.2.0",
          "state": {
            "_model_module": "@jupyter-widgets/base",
            "_model_module_version": "1.2.0",
            "_model_name": "LayoutModel",
            "_view_count": null,
            "_view_module": "@jupyter-widgets/base",
            "_view_module_version": "1.2.0",
            "_view_name": "LayoutView",
            "align_content": null,
            "align_items": null,
            "align_self": null,
            "border": null,
            "bottom": null,
            "display": null,
            "flex": null,
            "flex_flow": null,
            "grid_area": null,
            "grid_auto_columns": null,
            "grid_auto_flow": null,
            "grid_auto_rows": null,
            "grid_column": null,
            "grid_gap": null,
            "grid_row": null,
            "grid_template_areas": null,
            "grid_template_columns": null,
            "grid_template_rows": null,
            "height": null,
            "justify_content": null,
            "justify_items": null,
            "left": null,
            "margin": null,
            "max_height": null,
            "max_width": null,
            "min_height": null,
            "min_width": null,
            "object_fit": null,
            "object_position": null,
            "order": null,
            "overflow": null,
            "overflow_x": null,
            "overflow_y": null,
            "padding": null,
            "right": null,
            "top": null,
            "visibility": null,
            "width": null
          }
        },
        "c636e0265ac94209ad51051f5e38147c": {
          "model_module": "@jupyter-widgets/base",
          "model_name": "LayoutModel",
          "model_module_version": "1.2.0",
          "state": {
            "_model_module": "@jupyter-widgets/base",
            "_model_module_version": "1.2.0",
            "_model_name": "LayoutModel",
            "_view_count": null,
            "_view_module": "@jupyter-widgets/base",
            "_view_module_version": "1.2.0",
            "_view_name": "LayoutView",
            "align_content": null,
            "align_items": null,
            "align_self": null,
            "border": null,
            "bottom": null,
            "display": null,
            "flex": null,
            "flex_flow": null,
            "grid_area": null,
            "grid_auto_columns": null,
            "grid_auto_flow": null,
            "grid_auto_rows": null,
            "grid_column": null,
            "grid_gap": null,
            "grid_row": null,
            "grid_template_areas": null,
            "grid_template_columns": null,
            "grid_template_rows": null,
            "height": null,
            "justify_content": null,
            "justify_items": null,
            "left": null,
            "margin": null,
            "max_height": null,
            "max_width": null,
            "min_height": null,
            "min_width": null,
            "object_fit": null,
            "object_position": null,
            "order": null,
            "overflow": null,
            "overflow_x": null,
            "overflow_y": null,
            "padding": null,
            "right": null,
            "top": null,
            "visibility": null,
            "width": null
          }
        },
        "ec6e19df918f4e92a66f85f83f989c93": {
          "model_module": "@jupyter-widgets/controls",
          "model_name": "DescriptionStyleModel",
          "model_module_version": "1.5.0",
          "state": {
            "_model_module": "@jupyter-widgets/controls",
            "_model_module_version": "1.5.0",
            "_model_name": "DescriptionStyleModel",
            "_view_count": null,
            "_view_module": "@jupyter-widgets/base",
            "_view_module_version": "1.2.0",
            "_view_name": "StyleView",
            "description_width": ""
          }
        },
        "642cddc4aec049e8b6c3c04590a7c5d0": {
          "model_module": "@jupyter-widgets/base",
          "model_name": "LayoutModel",
          "model_module_version": "1.2.0",
          "state": {
            "_model_module": "@jupyter-widgets/base",
            "_model_module_version": "1.2.0",
            "_model_name": "LayoutModel",
            "_view_count": null,
            "_view_module": "@jupyter-widgets/base",
            "_view_module_version": "1.2.0",
            "_view_name": "LayoutView",
            "align_content": null,
            "align_items": null,
            "align_self": null,
            "border": null,
            "bottom": null,
            "display": null,
            "flex": null,
            "flex_flow": null,
            "grid_area": null,
            "grid_auto_columns": null,
            "grid_auto_flow": null,
            "grid_auto_rows": null,
            "grid_column": null,
            "grid_gap": null,
            "grid_row": null,
            "grid_template_areas": null,
            "grid_template_columns": null,
            "grid_template_rows": null,
            "height": null,
            "justify_content": null,
            "justify_items": null,
            "left": null,
            "margin": null,
            "max_height": null,
            "max_width": null,
            "min_height": null,
            "min_width": null,
            "object_fit": null,
            "object_position": null,
            "order": null,
            "overflow": null,
            "overflow_x": null,
            "overflow_y": null,
            "padding": null,
            "right": null,
            "top": null,
            "visibility": null,
            "width": null
          }
        },
        "880ab075d7904a26b77da6efae33c2bf": {
          "model_module": "@jupyter-widgets/controls",
          "model_name": "ProgressStyleModel",
          "model_module_version": "1.5.0",
          "state": {
            "_model_module": "@jupyter-widgets/controls",
            "_model_module_version": "1.5.0",
            "_model_name": "ProgressStyleModel",
            "_view_count": null,
            "_view_module": "@jupyter-widgets/base",
            "_view_module_version": "1.2.0",
            "_view_name": "StyleView",
            "bar_color": null,
            "description_width": ""
          }
        },
        "a5ecf7ce0d6a4527a8c42f87eec2645c": {
          "model_module": "@jupyter-widgets/base",
          "model_name": "LayoutModel",
          "model_module_version": "1.2.0",
          "state": {
            "_model_module": "@jupyter-widgets/base",
            "_model_module_version": "1.2.0",
            "_model_name": "LayoutModel",
            "_view_count": null,
            "_view_module": "@jupyter-widgets/base",
            "_view_module_version": "1.2.0",
            "_view_name": "LayoutView",
            "align_content": null,
            "align_items": null,
            "align_self": null,
            "border": null,
            "bottom": null,
            "display": null,
            "flex": null,
            "flex_flow": null,
            "grid_area": null,
            "grid_auto_columns": null,
            "grid_auto_flow": null,
            "grid_auto_rows": null,
            "grid_column": null,
            "grid_gap": null,
            "grid_row": null,
            "grid_template_areas": null,
            "grid_template_columns": null,
            "grid_template_rows": null,
            "height": null,
            "justify_content": null,
            "justify_items": null,
            "left": null,
            "margin": null,
            "max_height": null,
            "max_width": null,
            "min_height": null,
            "min_width": null,
            "object_fit": null,
            "object_position": null,
            "order": null,
            "overflow": null,
            "overflow_x": null,
            "overflow_y": null,
            "padding": null,
            "right": null,
            "top": null,
            "visibility": null,
            "width": null
          }
        },
        "d72a71dfb9f243b0aa0b9ced6a4d7bc9": {
          "model_module": "@jupyter-widgets/controls",
          "model_name": "DescriptionStyleModel",
          "model_module_version": "1.5.0",
          "state": {
            "_model_module": "@jupyter-widgets/controls",
            "_model_module_version": "1.5.0",
            "_model_name": "DescriptionStyleModel",
            "_view_count": null,
            "_view_module": "@jupyter-widgets/base",
            "_view_module_version": "1.2.0",
            "_view_name": "StyleView",
            "description_width": ""
          }
        }
      }
    }
  },
  "nbformat": 4,
  "nbformat_minor": 0
}